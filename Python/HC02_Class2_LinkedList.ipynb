{
 "cells": [
  {
   "cell_type": "markdown",
   "metadata": {},
   "source": [
    "#### Array List vs. Linked List\n",
    "- Array List: \n",
    "    - 장점: 메모리 사용이 적고, index로 찾기 때문에 빠름\n",
    "    - 단점: 수정, 추가 시 배열을 다 움직여야 해서 오래 걸림\n",
    "    - 예) 게시판 리스트(?)\n",
    "\n",
    "- Linked List:\n",
    "    - 장점: 수정이나 삭제가 빠름\n",
    "    - 단점: linked 를 타고 조회해야 하기 때문에, 찾는 데 오래 걸림\n",
    "    - 예) 댓글 기능"
   ]
  },
  {
   "cell_type": "markdown",
   "metadata": {},
   "source": [
    "### CLASS:\n",
    "- 나의 상태가 다른 상태를 변경하는 method\n",
    "- 하나의 독립적인 모듈\n",
    "- 단위"
   ]
  },
  {
   "cell_type": "code",
   "execution_count": 142,
   "metadata": {},
   "outputs": [
    {
     "ename": "TypeError",
     "evalue": "'NoneType' object is not subscriptable",
     "output_type": "error",
     "traceback": [
      "\u001b[1;31m---------------------------------------------------------------------------\u001b[0m",
      "\u001b[1;31mTypeError\u001b[0m                                 Traceback (most recent call last)",
      "\u001b[1;32m<ipython-input-142-1b93c3543d20>\u001b[0m in \u001b[0;36m<module>\u001b[1;34m\u001b[0m\n\u001b[0;32m     19\u001b[0m \u001b[1;33m\u001b[0m\u001b[0m\n\u001b[0;32m     20\u001b[0m \u001b[0melement0\u001b[0m\u001b[1;33m[\u001b[0m\u001b[1;34m'next'\u001b[0m\u001b[1;33m]\u001b[0m\u001b[1;33m\u001b[0m\u001b[1;33m\u001b[0m\u001b[0m\n\u001b[1;32m---> 21\u001b[1;33m \u001b[0melement0\u001b[0m\u001b[1;33m[\u001b[0m\u001b[1;34m'next'\u001b[0m\u001b[1;33m]\u001b[0m\u001b[1;33m[\u001b[0m\u001b[1;34m'next'\u001b[0m\u001b[1;33m]\u001b[0m\u001b[1;33m[\u001b[0m\u001b[1;34m'next'\u001b[0m\u001b[1;33m]\u001b[0m\u001b[1;33m[\u001b[0m\u001b[1;34m'next'\u001b[0m\u001b[1;33m]\u001b[0m\u001b[1;33m\u001b[0m\u001b[1;33m\u001b[0m\u001b[0m\n\u001b[0m",
      "\u001b[1;31mTypeError\u001b[0m: 'NoneType' object is not subscriptable"
     ]
    }
   ],
   "source": [
    "# element를 dict형태로 만듦\n",
    "# 각 element를 next란 컬럼에 연결시킴\n",
    "\n",
    "element0 = {'value': 0,\n",
    "            'next': None\n",
    "    \n",
    "}\n",
    "\n",
    "element1 = {'value': 1,\n",
    "           'next': None\n",
    "}\n",
    "\n",
    "element2 = {'value': 2,\n",
    "           'next': None\n",
    "}\n",
    "\n",
    "element0['next'] = element1\n",
    "element1['next'] = element2\n",
    "\n",
    "element0['next']\n",
    "element0['next']['next']['next']['next']\n"
   ]
  },
  {
   "cell_type": "code",
   "execution_count": 30,
   "metadata": {},
   "outputs": [],
   "source": [
    "element2['next'] = None"
   ]
  },
  {
   "cell_type": "code",
   "execution_count": 70,
   "metadata": {},
   "outputs": [],
   "source": [
    "# value print 함수\n",
    "# pointer라는 변수에 head(element0) parameter 정의\n",
    "# pointer가 None이 될 때 까지, element0['next']를 타고 계속 pointer(재귀정의)하면서 타고 내려 가게 만듦\n",
    "# 이 때 연결 순서를 보기 위해 각 element['value']를 프린트 함\n",
    "\n",
    "def value_print(head):\n",
    "    pointer = head \n",
    "    while pointer is not None:\n",
    "        \n",
    "        \n",
    "\n",
    "        print(pointer['value'])\n",
    "        pointer = pointer['next']\n",
    "    \n",
    "    return pointer    \n"
   ]
  },
  {
   "cell_type": "code",
   "execution_count": 71,
   "metadata": {},
   "outputs": [
    {
     "name": "stdout",
     "output_type": "stream",
     "text": [
      "0\n",
      "1\n",
      "2\n"
     ]
    }
   ],
   "source": [
    "value_print(element0)"
   ]
  },
  {
   "cell_type": "code",
   "execution_count": 148,
   "metadata": {},
   "outputs": [],
   "source": [
    "# 원래 순서를 끊고 중간에 넣을 element3 생성\n",
    "element3 = {'value': 3,\n",
    "           'next': None}\n",
    "\n"
   ]
  },
  {
   "cell_type": "code",
   "execution_count": null,
   "metadata": {},
   "outputs": [],
   "source": [
    "# element0 - element3 - element 1 - element2 순서로 변경\n",
    "element0['next'] = element3\n",
    "element3['next'] = element1"
   ]
  },
  {
   "cell_type": "code",
   "execution_count": 33,
   "metadata": {},
   "outputs": [
    {
     "name": "stdout",
     "output_type": "stream",
     "text": [
      "0\n",
      "3\n",
      "1\n",
      "2\n"
     ]
    }
   ],
   "source": [
    "# value_print함수로 test\n",
    "value_print(element0)"
   ]
  },
  {
   "cell_type": "code",
   "execution_count": 36,
   "metadata": {},
   "outputs": [],
   "source": [
    "# 원래 순서에서 element0['next'] = element1인데,\n",
    "# 이 element1를 tmp라는 변수에 따로 빼놓음\n",
    "tmp = element0['next']"
   ]
  },
  {
   "cell_type": "code",
   "execution_count": 39,
   "metadata": {},
   "outputs": [],
   "source": [
    "# element1 을 안 쓰고 순서를 변경할 때\n",
    "\n",
    "# 순서 바꾸고\n",
    "element0['next'] = element3\n",
    "\n",
    "\n",
    "# tmp['next'] = element1\n",
    "element3['next'] = tmp\n",
    "\n",
    "\n"
   ]
  },
  {
   "cell_type": "code",
   "execution_count": 218,
   "metadata": {},
   "outputs": [
    {
     "name": "stdout",
     "output_type": "stream",
     "text": [
      "0\n",
      "1\n",
      "2\n"
     ]
    }
   ],
   "source": [
    "value_print(element0)"
   ]
  },
  {
   "cell_type": "markdown",
   "metadata": {},
   "source": [
    "### 숙제"
   ]
  },
  {
   "cell_type": "code",
   "execution_count": null,
   "metadata": {},
   "outputs": [],
   "source": [
    "# dict => 함수(5개) => class"
   ]
  },
  {
   "cell_type": "code",
   "execution_count": 274,
   "metadata": {},
   "outputs": [
    {
     "ename": "TypeError",
     "evalue": "'NoneType' object is not subscriptable",
     "output_type": "error",
     "traceback": [
      "\u001b[1;31m---------------------------------------------------------------------------\u001b[0m",
      "\u001b[1;31mTypeError\u001b[0m                                 Traceback (most recent call last)",
      "\u001b[1;32m<ipython-input-274-1b93c3543d20>\u001b[0m in \u001b[0;36m<module>\u001b[1;34m\u001b[0m\n\u001b[0;32m     19\u001b[0m \u001b[1;33m\u001b[0m\u001b[0m\n\u001b[0;32m     20\u001b[0m \u001b[0melement0\u001b[0m\u001b[1;33m[\u001b[0m\u001b[1;34m'next'\u001b[0m\u001b[1;33m]\u001b[0m\u001b[1;33m\u001b[0m\u001b[1;33m\u001b[0m\u001b[0m\n\u001b[1;32m---> 21\u001b[1;33m \u001b[0melement0\u001b[0m\u001b[1;33m[\u001b[0m\u001b[1;34m'next'\u001b[0m\u001b[1;33m]\u001b[0m\u001b[1;33m[\u001b[0m\u001b[1;34m'next'\u001b[0m\u001b[1;33m]\u001b[0m\u001b[1;33m[\u001b[0m\u001b[1;34m'next'\u001b[0m\u001b[1;33m]\u001b[0m\u001b[1;33m[\u001b[0m\u001b[1;34m'next'\u001b[0m\u001b[1;33m]\u001b[0m\u001b[1;33m\u001b[0m\u001b[1;33m\u001b[0m\u001b[0m\n\u001b[0m",
      "\u001b[1;31mTypeError\u001b[0m: 'NoneType' object is not subscriptable"
     ]
    }
   ],
   "source": [
    "# element를 dict형태로 만듦\n",
    "# 각 element를 next란 컬럼에 연결시킴\n",
    "\n",
    "element0 = {'value': 0,\n",
    "            'next': None\n",
    "    \n",
    "}\n",
    "\n",
    "element1 = {'value': 1,\n",
    "           'next': None\n",
    "}\n",
    "\n",
    "element2 = {'value': 2,\n",
    "           'next': None\n",
    "}\n",
    "\n",
    "element0['next'] = element1\n",
    "element1['next'] = element2\n",
    "\n",
    "element0['next']\n",
    "element0['next']['next']['next']['next']\n"
   ]
  },
  {
   "cell_type": "markdown",
   "metadata": {},
   "source": [
    "#### 기능0: 원소를 뒤에 추가"
   ]
  },
  {
   "cell_type": "code",
   "execution_count": 152,
   "metadata": {},
   "outputs": [],
   "source": [
    "# 기능0: 원소를 뒤에 추가\n",
    "\n",
    "def add_element(element_next):\n",
    "    \n",
    "    value_print(element0)\n",
    "    \n",
    "    pointer = element_next\n",
    "    \n",
    "    return value_print(pointer)"
   ]
  },
  {
   "cell_type": "code",
   "execution_count": 77,
   "metadata": {},
   "outputs": [],
   "source": [
    "# another way\n",
    "\n",
    "def add_element2(self, item):\n",
    "    pointer = self.head\n",
    "    \n",
    "    while pointer.next is not None:\n",
    "        pointer = pointer.next\n",
    "    \n",
    "    pointer.next = MyLinkedList(item)"
   ]
  },
  {
   "cell_type": "code",
   "execution_count": 153,
   "metadata": {},
   "outputs": [
    {
     "name": "stdout",
     "output_type": "stream",
     "text": [
      "0\n",
      "1\n",
      "2\n",
      "3\n"
     ]
    }
   ],
   "source": [
    "add_element(element3)"
   ]
  },
  {
   "cell_type": "markdown",
   "metadata": {},
   "source": [
    "#### 기능1: i번째에 원소를 추가"
   ]
  },
  {
   "cell_type": "code",
   "execution_count": 130,
   "metadata": {},
   "outputs": [],
   "source": [
    "# 기능1: i번째에 원소를 추가\n",
    "def add_i_element(head, element_i, i):\n",
    "    #i 가 0일 경우\n",
    "    if i == 0:\n",
    "        head2 = head\n",
    "        head = element_i\n",
    "        head['next'] = head2\n",
    "        \n",
    "        return value_print(head)\n",
    "    \n",
    "    # \n",
    "    for n in range(0, i+1):\n",
    "        if n == 0 :\n",
    "            pointer = head\n",
    "        else :\n",
    "            pointer = pointer['next']\n",
    "        \n",
    "        # 전에 꺼\n",
    "        if n == i-1:\n",
    "            \n",
    "            test = pointer\n",
    "            print('앞에꺼: ', test)\n",
    "        \n",
    "        # 나중에 붙일 것\n",
    "        if n == i:\n",
    "            \n",
    "            tmp = pointer\n",
    "            print('뒤에붙일 꺼: ', tmp)\n",
    "        \n",
    "    element_i['next'] = tmp\n",
    "    print('insert하고 뒤에 꺼 붙인 거', element_i)\n",
    "    \n",
    "    # 마지막에 1번만 붙이면 되니까 out of 반복문    \n",
    "    test['next'] = element_i\n",
    "    print('앞에꺼+인서트+뒤에꺼: ', test)\n",
    "        \n",
    "    return value_print(head)\n",
    "        \n"
   ]
  },
  {
   "cell_type": "code",
   "execution_count": 128,
   "metadata": {},
   "outputs": [
    {
     "name": "stdout",
     "output_type": "stream",
     "text": [
      "0\n",
      "1\n",
      "2\n"
     ]
    }
   ],
   "source": [
    "value_print(element0)"
   ]
  },
  {
   "cell_type": "code",
   "execution_count": 133,
   "metadata": {},
   "outputs": [
    {
     "name": "stdout",
     "output_type": "stream",
     "text": [
      "앞에꺼:  {'value': 0, 'next': {'value': 1, 'next': {'value': 2, 'next': None}}}\n",
      "뒤에붙일 꺼:  {'value': 1, 'next': {'value': 2, 'next': None}}\n",
      "insert하고 뒤에 꺼 붙인 거 {'value': 3, 'next': {'value': 1, 'next': {'value': 2, 'next': None}}}\n",
      "앞에꺼+인서트+뒤에꺼:  {'value': 0, 'next': {'value': 3, 'next': {'value': 1, 'next': {'value': 2, 'next': None}}}}\n",
      "0\n",
      "3\n",
      "1\n",
      "2\n"
     ]
    }
   ],
   "source": [
    "add_i_element(element0, element3, 1)"
   ]
  },
  {
   "cell_type": "code",
   "execution_count": null,
   "metadata": {},
   "outputs": [],
   "source": []
  },
  {
   "cell_type": "code",
   "execution_count": null,
   "metadata": {},
   "outputs": [],
   "source": []
  },
  {
   "cell_type": "markdown",
   "metadata": {},
   "source": [
    "#### 기능2: 뒤에 다른 연결 리스트 잇기"
   ]
  },
  {
   "cell_type": "code",
   "execution_count": 288,
   "metadata": {},
   "outputs": [],
   "source": [
    "# 기능2: 뒤에 다른 연결 리스트 잇기\n",
    "\n",
    "# 새로운 리스트 만들기\n",
    "element4 = {'value': 4,\n",
    "            'next': None\n",
    "    \n",
    "}\n",
    "\n",
    "element5 = {'value': 5,\n",
    "           'next': None\n",
    "}\n",
    "\n",
    "element6 = {'value': 6,\n",
    "           'next': None\n",
    "}\n",
    "\n",
    "element4['next'] = element5\n",
    "element5['next'] = element6\n"
   ]
  },
  {
   "cell_type": "code",
   "execution_count": 262,
   "metadata": {},
   "outputs": [
    {
     "data": {
      "text/plain": [
       "{'value': 4, 'next': {'value': 5, 'next': {'value': 6, 'next': None}}}"
      ]
     },
     "execution_count": 262,
     "metadata": {},
     "output_type": "execute_result"
    }
   ],
   "source": [
    "element4"
   ]
  },
  {
   "cell_type": "code",
   "execution_count": 263,
   "metadata": {},
   "outputs": [
    {
     "data": {
      "text/plain": [
       "{'value': 0, 'next': {'value': 1, 'next': {'value': 2, 'next': None}}}"
      ]
     },
     "execution_count": 263,
     "metadata": {},
     "output_type": "execute_result"
    }
   ],
   "source": [
    "element0"
   ]
  },
  {
   "cell_type": "code",
   "execution_count": 229,
   "metadata": {},
   "outputs": [
    {
     "data": {
      "text/plain": [
       "{'value': 4, 'next': {'value': 5, 'next': {'value': 6, 'next': None}}}"
      ]
     },
     "execution_count": 229,
     "metadata": {},
     "output_type": "execute_result"
    }
   ],
   "source": [
    "ls = element4\n",
    "ls"
   ]
  },
  {
   "cell_type": "code",
   "execution_count": 198,
   "metadata": {},
   "outputs": [
    {
     "name": "stdout",
     "output_type": "stream",
     "text": [
      "앞에꺼:  {'value': 2, 'next': None}\n",
      "뒤에붙일 꺼:  None\n",
      "insert하고 뒤에 꺼 붙인 거 {'value': 4, 'next': None}\n",
      "앞에꺼+인서트+뒤에꺼:  {'value': 2, 'next': {'value': 4, 'next': None}}\n",
      "0\n",
      "1\n",
      "2\n",
      "4\n"
     ]
    }
   ],
   "source": [
    "add_i_element(element0, element4, 3)"
   ]
  },
  {
   "cell_type": "code",
   "execution_count": 175,
   "metadata": {},
   "outputs": [],
   "source": [
    "def add_list(head, new_ls):\n",
    "    pointer2 = head\n",
    "    while pointer2 is not None:\n",
    "        pointer2 = pointer2['next']\n",
    "    \n",
    "    print(pointer2)\n",
    "    pointer2 = new_ls        \n",
    "    print(pointer2['value'])    \n",
    "    return value_print(head)\n",
    "    "
   ]
  },
  {
   "cell_type": "code",
   "execution_count": 177,
   "metadata": {},
   "outputs": [],
   "source": [
    "def add_list2(head, new_ls):\n",
    "    pointer2 = head\n",
    "    \n",
    "    while pointer2[\"next\"] is not None:\n",
    "        pointer2 = pointer2['next']\n",
    "    \n",
    "    #print(pointer2)\n",
    "    pointer2[\"next\"] = new_ls        \n",
    "    #print(pointer2['value'])    \n",
    "    return value_print(head)\n",
    "    "
   ]
  },
  {
   "cell_type": "code",
   "execution_count": 180,
   "metadata": {},
   "outputs": [
    {
     "name": "stdout",
     "output_type": "stream",
     "text": [
      "0\n",
      "1\n",
      "2\n",
      "4\n",
      "5\n",
      "6\n"
     ]
    }
   ],
   "source": [
    "add_list2(element0, ls)"
   ]
  },
  {
   "cell_type": "markdown",
   "metadata": {},
   "source": [
    "#### 기능3: 중간에 다른 리스트 연결"
   ]
  },
  {
   "cell_type": "code",
   "execution_count": 224,
   "metadata": {},
   "outputs": [],
   "source": [
    "def add_i_list(head, ls, i):\n",
    "    head2 = ls\n",
    "    ls_pointer = head2\n",
    "    \n",
    "        \n",
    "    while ls_pointer['next'] is not None:\n",
    "        ls_pointer =  ls_pointer['next']\n",
    "    \n",
    "    last_pointer = ls_pointer\n",
    "    \n",
    "    pointer = head\n",
    "    \n",
    "    \n",
    "    if i == 0:\n",
    "        last_pointer['next'] = head\n",
    "        \n",
    "        return value_print(head2)\n",
    "    \n",
    "    for n in range(0, i-1):\n",
    "        pointer = pointer['next']\n",
    "    \n",
    "    \n",
    "    #1    \n",
    "    before = pointer\n",
    "    #2\n",
    "    after = pointer['next']\n",
    "    \n",
    "    before['next'] = head2\n",
    "    last_pointer['next'] = after\n",
    "    \n",
    "    return value_print(head)\n",
    "    "
   ]
  },
  {
   "cell_type": "code",
   "execution_count": 230,
   "metadata": {},
   "outputs": [
    {
     "name": "stdout",
     "output_type": "stream",
     "text": [
      "4\n",
      "5\n",
      "6\n",
      "0\n",
      "1\n",
      "2\n"
     ]
    }
   ],
   "source": [
    "add_i_list(element0, ls, 0)"
   ]
  },
  {
   "cell_type": "markdown",
   "metadata": {},
   "source": [
    "#### 기능4: i번째 원소를 삭제"
   ]
  },
  {
   "cell_type": "code",
   "execution_count": 280,
   "metadata": {},
   "outputs": [],
   "source": [
    "lst = {'head': element4, 'size': 3}"
   ]
  },
  {
   "cell_type": "code",
   "execution_count": 281,
   "metadata": {},
   "outputs": [
    {
     "data": {
      "text/plain": [
       "{'head': {'value': 4,\n",
       "  'next': {'value': 5, 'next': {'value': 6, 'next': None}}},\n",
       " 'size': 3}"
      ]
     },
     "execution_count": 281,
     "metadata": {},
     "output_type": "execute_result"
    }
   ],
   "source": [
    "lst"
   ]
  },
  {
   "cell_type": "code",
   "execution_count": 278,
   "metadata": {},
   "outputs": [],
   "source": [
    "def delete(lst, i):\n",
    "    # 첫번째 지우기\n",
    "    if i == 0:\n",
    "        lst['head'] = lst['head']['next']\n",
    "        \n",
    "    else:\n",
    "        pointer = lst['head']\n",
    "        for n in range(0, i-1):\n",
    "            pointer = pointer['next']\n",
    "           \n",
    "        pointer['next'] = pointer['next']['next']\n",
    "    \n",
    "    lst['size'] -= 1\n",
    "    print('size: ', lst['size'])\n",
    "        \n",
    "    return ls_print(lst) "
   ]
  },
  {
   "cell_type": "code",
   "execution_count": 255,
   "metadata": {},
   "outputs": [],
   "source": [
    "def ls_print(lst):\n",
    "    \n",
    "    \n",
    "    return value_print(lst['head']) "
   ]
  },
  {
   "cell_type": "code",
   "execution_count": null,
   "metadata": {},
   "outputs": [],
   "source": []
  },
  {
   "cell_type": "code",
   "execution_count": 282,
   "metadata": {},
   "outputs": [
    {
     "name": "stdout",
     "output_type": "stream",
     "text": [
      "size:  2\n",
      "4\n",
      "5\n"
     ]
    }
   ],
   "source": [
    "delete(lst, 2)"
   ]
  },
  {
   "cell_type": "code",
   "execution_count": 245,
   "metadata": {},
   "outputs": [
    {
     "data": {
      "text/plain": [
       "5"
      ]
     },
     "execution_count": 245,
     "metadata": {},
     "output_type": "execute_result"
    }
   ],
   "source": [
    "def func(a) :\n",
    "    a = a + 1\n",
    "    \n",
    "b = 5\n",
    "\n",
    "func(b)\n",
    "b"
   ]
  },
  {
   "cell_type": "code",
   "execution_count": 1,
   "metadata": {},
   "outputs": [],
   "source": [
    "# head 지우기(remove)\n",
    "\n",
    "def remove(self, item):\n",
    "    if self.head.value == item:\n",
    "        self.head = self.head.next\n",
    "    else:\n",
    "        pointer = self.head\n",
    "        while pointer.next is not None:\n",
    "            if pointer.value == item:\n",
    "                self.removeItem(item)\n",
    "                return\n",
    "            pointer = pointer.next\n",
    "        print(\"item does not exist in linked list\")\n",
    "        "
   ]
  },
  {
   "cell_type": "code",
   "execution_count": null,
   "metadata": {},
   "outputs": [],
   "source": [
    "# 중간꺼 지우기\n",
    "\n",
    "def removeItem(self, item):\n",
    "    pointer = self.head\n",
    "    while pointer.next is not None:\n",
    "        if pointer.next.value == item:\n",
    "            nextnode = pointer.next.next\n",
    "            pointer.next = nextnode\n",
    "            \n",
    "            break"
   ]
  },
  {
   "cell_type": "code",
   "execution_count": null,
   "metadata": {},
   "outputs": [],
   "source": [
    "# 기능 5: 원소를 순회하면서 some함수를 호출???????\n",
    "\n",
    "def call_function(#함수이름#):\n",
    "    \n",
    "    return #함수 이름#"
   ]
  },
  {
   "cell_type": "code",
   "execution_count": 302,
   "metadata": {},
   "outputs": [],
   "source": [
    "# 숙제\n",
    "\n",
    "class MyLinkedList:\n",
    "    # 클래스 생성 시 INNIT 함수 무조건 호출된다\n",
    "    def __init__(self):\n",
    "        \n",
    "        self.head = None\n",
    "        self.last = None\n",
    "        self.size = 0\n",
    "    # 기능 0\n",
    "    def append(self, item):\n",
    "        if self.head is None:\n",
    "            self.head = {'value': item, 'next': None}\n",
    "            self.last = self.head\n",
    "            \n",
    "        else:\n",
    "            \n",
    "            self.last['next'] = {'value': item, 'next': None}   \n",
    "            self.last = self.last['next']\n",
    "            \n",
    "        self.size += 1\n",
    "    \n",
    "    # extra기능: 사이즈호출\n",
    "    def get_size(self):\n",
    "        return self.size\n",
    "    \n",
    "    # 기능 0: 원소를 뒤에 추가\n",
    "    # 기능 1 : 중간에 i번째에 원소를 추가\n",
    "    # 기능 2: 뒤에 다른 연결리스트를 잇기\n",
    "    # 기능 3: 중간에 다른 연결리스트 잇기\n",
    "    # 기능 4: i번째에 원소를 삭제\n",
    "    # 기능 5: 원소를 순회하면서 some 함수를 호출(모든 원소들에 함수를 적용, 함수 자체를 변수로 받는)\n",
    "    \n",
    "    # class끼리 합치는 거랑 지우는 거랑, \n",
    "    \n",
    "        \n",
    "    "
   ]
  },
  {
   "cell_type": "code",
   "execution_count": 303,
   "metadata": {},
   "outputs": [],
   "source": [
    "# instacne 호출\n",
    "MLL = MyLinkedList()"
   ]
  },
  {
   "cell_type": "code",
   "execution_count": 308,
   "metadata": {},
   "outputs": [
    {
     "name": "stdout",
     "output_type": "stream",
     "text": [
      "{'value': 1, 'next': {'value': 2, 'next': {'value': 3, 'next': {'value': 4, 'next': None}}}}\n"
     ]
    }
   ],
   "source": [
    "MLL.append(4)\n",
    "\n",
    "print(MLL.head)"
   ]
  },
  {
   "cell_type": "code",
   "execution_count": 309,
   "metadata": {},
   "outputs": [
    {
     "data": {
      "text/plain": [
       "4"
      ]
     },
     "execution_count": 309,
     "metadata": {},
     "output_type": "execute_result"
    }
   ],
   "source": [
    "MLL.get_size()"
   ]
  },
  {
   "cell_type": "markdown",
   "metadata": {},
   "source": [
    "#### 추가 reverse/"
   ]
  },
  {
   "cell_type": "code",
   "execution_count": null,
   "metadata": {},
   "outputs": [],
   "source": [
    "def reverse(self):\n",
    "    prev = None\n",
    "    pointer = self.head\n",
    "    whkle pointer is not None:\n",
    "        next = pointer.next\n",
    "        pointer.next = prev\n",
    "        prev = pointer\n",
    "        pointer = next\n",
    "    self.head = prev"
   ]
  }
 ],
 "metadata": {
  "kernelspec": {
   "display_name": "Python 3",
   "language": "python",
   "name": "python3"
  },
  "language_info": {
   "codemirror_mode": {
    "name": "ipython",
    "version": 3
   },
   "file_extension": ".py",
   "mimetype": "text/x-python",
   "name": "python",
   "nbconvert_exporter": "python",
   "pygments_lexer": "ipython3",
   "version": "3.7.7"
  }
 },
 "nbformat": 4,
 "nbformat_minor": 4
}

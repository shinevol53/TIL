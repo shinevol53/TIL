{
 "cells": [
  {
   "cell_type": "markdown",
   "metadata": {},
   "source": [
    "#### Change string type to datetime"
   ]
  },
  {
   "cell_type": "code",
   "execution_count": 8,
   "metadata": {},
   "outputs": [],
   "source": [
    "#import 패키지\n",
    "#패키지.변수\n",
    "#패키지.함수()\n",
    "#패키지.클래스()\n",
    "import datetime #import * 패키지만 가져옴"
   ]
  },
  {
   "cell_type": "code",
   "execution_count": 7,
   "metadata": {},
   "outputs": [],
   "source": [
    "from datetime import datetime, timedelta #from * import * 패키지의 모든 변수, 함수, 클래스를 가져옴"
   ]
  },
  {
   "cell_type": "code",
   "execution_count": 12,
   "metadata": {},
   "outputs": [
    {
     "name": "stdout",
     "output_type": "stream",
     "text": [
      "2020-07-08 16:02:50 \n",
      " 2020-07-08 16:02:50 \n",
      " 2020-07-05 15:17:50 \n",
      " 2020-07-05 15:17:50\n"
     ]
    }
   ],
   "source": [
    "string = '2020-07-08 16:02:50'\n",
    " \n",
    "datetime1 = datetime.datetime.strptime(string, '%Y-%m-%d %H:%M:%S') # import datetime 형식에서만 사용가능\n",
    "                                                                            # strptime(변수, 바꾸로 싶은 형식)\n",
    "                                                                            # datetime : calendar based system\n",
    "#strptime is short for \"parse time\" where strftime is for \"formatting time\".\n",
    "#striptime: string to datetime, # strftime: datetime to string\n",
    "\n",
    "datetime2 = datetime1 - timedelta(hours=72, minutes=45)\n",
    "\n",
    "datetime3 = datetime2.strftime('%Y-%m-%d %H:%M:%S')\n",
    "\n",
    "print(string, '\\n',\n",
    "      datetime1, '\\n',\n",
    "      datetime2, '\\n',\n",
    "      datetime3)"
   ]
  },
  {
   "cell_type": "code",
   "execution_count": null,
   "metadata": {},
   "outputs": [],
   "source": []
  },
  {
   "cell_type": "code",
   "execution_count": null,
   "metadata": {},
   "outputs": [],
   "source": []
  }
 ],
 "metadata": {
  "kernelspec": {
   "display_name": "Python 3",
   "language": "python",
   "name": "python3"
  },
  "language_info": {
   "codemirror_mode": {
    "name": "ipython",
    "version": 3
   },
   "file_extension": ".py",
   "mimetype": "text/x-python",
   "name": "python",
   "nbconvert_exporter": "python",
   "pygments_lexer": "ipython3",
   "version": "3.7.7"
  }
 },
 "nbformat": 4,
 "nbformat_minor": 4
}

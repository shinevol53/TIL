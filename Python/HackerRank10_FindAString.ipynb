{
 "cells": [
  {
   "cell_type": "markdown",
   "metadata": {},
   "source": [
    "## Find A String\n",
    "n this challenge, the user enters a string and a substring. You have to print the number of times that the substring occurs in the given string. String traversal will take place from left to right, not from right to left.\n",
    "\n",
    "NOTE: String letters are case-sensitive.\n",
    "\n",
    "- Input Format\n",
    "\n",
    "The first line of input contains the original string. The next line contains the substring.\n",
    "\n",
    "- Constraints\n",
    "1<= len(string) <= 200\n",
    "\n",
    "Each character in the string is an ascii character.\n",
    "\n",
    "- Output Format\n",
    "\n",
    "Output the integer number indicating the total number of occurrences of the substring in the original string.\n",
    "\n",
    "- Sample Input\n",
    "\n",
    "ABCDCDC\n",
    "CDC\n",
    "- Sample Output\n",
    "\n",
    "2\n",
    "- Concept\n",
    "\n",
    "Some string processing examples, such as these, might be useful.\n",
    "There are a couple of new concepts:\n",
    "In Python, the length of a string is found by the function len(s), where s  is the string.\n",
    "To traverse through the length of a string, use a for loop:\n",
    "\n",
    "for i in range(0, len(s)):\n",
    "    print (s[i])\n",
    "A range function is used to loop over some length:\n",
    "\n",
    "range (0, 5)\n",
    "Here, the range loops over  to 4.  5 is excluded."
   ]
  },
  {
   "cell_type": "markdown",
   "metadata": {},
   "source": [
    "### Try1 & 2: \n",
    "- idea\n",
    "- case1> whether it is sentence with space\n",
    "- case2> whether it is string without space"
   ]
  },
  {
   "cell_type": "code",
   "execution_count": 1,
   "metadata": {},
   "outputs": [],
   "source": [
    "string = \"ABCDCDC\"\n",
    "sub_string = \"CDC\""
   ]
  },
  {
   "cell_type": "code",
   "execution_count": 3,
   "metadata": {},
   "outputs": [
    {
     "data": {
      "text/plain": [
       "'ABCDCDC'"
      ]
     },
     "execution_count": 3,
     "metadata": {},
     "output_type": "execute_result"
    }
   ],
   "source": [
    "string.strip()"
   ]
  },
  {
   "cell_type": "code",
   "execution_count": 14,
   "metadata": {},
   "outputs": [],
   "source": [
    "string = 'I am an Indian, by birth'\n",
    "sub_string = \"Birth\""
   ]
  },
  {
   "cell_type": "code",
   "execution_count": 220,
   "metadata": {},
   "outputs": [
    {
     "data": {
      "text/plain": [
       "'I am an Indian, by birth'"
      ]
     },
     "execution_count": 220,
     "metadata": {},
     "output_type": "execute_result"
    }
   ],
   "source": [
    "string.strip()"
   ]
  },
  {
   "cell_type": "code",
   "execution_count": 264,
   "metadata": {},
   "outputs": [],
   "source": [
    "string = \"ThIsisCoNfUsInG\"\n",
    "sub_string = \"is\""
   ]
  },
  {
   "cell_type": "markdown",
   "metadata": {},
   "source": [
    "#### sub_string 분류하기"
   ]
  },
  {
   "cell_type": "code",
   "execution_count": 4,
   "metadata": {},
   "outputs": [
    {
     "data": {
      "text/plain": [
       "['CDC', 'DC']"
      ]
     },
     "execution_count": 4,
     "metadata": {},
     "output_type": "execute_result"
    }
   ],
   "source": [
    "ss = []\n",
    "# string이 문자열일 때\n",
    "sub_string2 = list(sub_string)\n",
    "for v in range(0, len(sub_string2)-1):\n",
    "    ss.append(sub_string2[v:])\n",
    "    ss[v] = ''.join(ss[v])\n",
    "    v+=1\n",
    "ss"
   ]
  },
  {
   "cell_type": "code",
   "execution_count": 221,
   "metadata": {},
   "outputs": [
    {
     "data": {
      "text/plain": [
       "['Birth']"
      ]
     },
     "execution_count": 221,
     "metadata": {},
     "output_type": "execute_result"
    }
   ],
   "source": [
    "ss = []\n",
    "# string이 문장일 때\n",
    "sub_string2 = sub_string.split(' ')\n",
    "\n",
    "\n",
    "for v in range(0, len(sub_string2)):\n",
    "    ss.append(sub_string2[v:])\n",
    "    ss[v] = ''.join(ss[v])\n",
    "    v+=1\n",
    "ss"
   ]
  },
  {
   "cell_type": "markdown",
   "metadata": {},
   "source": [
    "#### string 분류하기"
   ]
  },
  {
   "cell_type": "code",
   "execution_count": 16,
   "metadata": {},
   "outputs": [
    {
     "data": {
      "text/plain": [
       "'I am an Indian, by birth'"
      ]
     },
     "execution_count": 16,
     "metadata": {},
     "output_type": "execute_result"
    }
   ],
   "source": [
    "#string이 string일 때\n",
    "string2 = string\n",
    "string2"
   ]
  },
  {
   "cell_type": "code",
   "execution_count": 18,
   "metadata": {},
   "outputs": [
    {
     "data": {
      "text/plain": [
       "['I', 'am', 'an', 'Indian,', 'by', 'birth']"
      ]
     },
     "execution_count": 18,
     "metadata": {},
     "output_type": "execute_result"
    }
   ],
   "source": [
    "# string이 문장일 때\n",
    "string2 = string.split(' ')\n",
    "string2"
   ]
  },
  {
   "cell_type": "markdown",
   "metadata": {},
   "source": [
    "#### string 열 만들기(string/sentece 동일)"
   ]
  },
  {
   "cell_type": "code",
   "execution_count": 19,
   "metadata": {},
   "outputs": [
    {
     "data": {
      "text/plain": [
       "['Iaman', 'amanIndian,', 'anIndian,by', 'Indian,bybirth']"
      ]
     },
     "execution_count": 19,
     "metadata": {},
     "output_type": "execute_result"
    }
   ],
   "source": [
    "# string일 때\n",
    "elements =  string2\n",
    "count = 0\n",
    "list_elements = []\n",
    "i = 0\n",
    "while i+2 < len(elements):\n",
    "    \n",
    "    for i in range(i, i+2):\n",
    "        el = elements[i:i+3]\n",
    "        list_elements.append(el)\n",
    "        list_elements[i] = ''.join(list_elements[i])\n",
    "        i+=1\n",
    "list_elements"
   ]
  },
  {
   "cell_type": "markdown",
   "metadata": {},
   "source": [
    "#### 결과물 만들기(string/sentence 동일)"
   ]
  },
  {
   "cell_type": "code",
   "execution_count": 272,
   "metadata": {},
   "outputs": [
    {
     "data": {
      "text/plain": [
       "0"
      ]
     },
     "execution_count": 272,
     "metadata": {},
     "output_type": "execute_result"
    }
   ],
   "source": [
    "count = 0\n",
    "for n in range(len(ss)):\n",
    "    \n",
    "    if ss[n] in list_elements:\n",
    "    \n",
    "        count+=1\n",
    "count"
   ]
  },
  {
   "cell_type": "code",
   "execution_count": 265,
   "metadata": {},
   "outputs": [],
   "source": [
    "\n",
    "def count_substring(string, sub_string):\n",
    "    #sub string\n",
    "    ss = []\n",
    "    \n",
    "    # ' ' exists, sentence \n",
    "    if ' ' in string:\n",
    "        #print(\"sentence\")\n",
    "        sub_string2 = sub_string.split(' ')\n",
    "        for v in range(0, len(sub_string2)):\n",
    "            ss.append(sub_string2[v:])\n",
    "            ss[v] = ''.join(ss[v])\n",
    "            v+=1\n",
    "        \n",
    "        string2 = string\n",
    "\n",
    "        \n",
    "    # ' ' not exists, string\n",
    "    else:\n",
    "        #print(\"string\")\n",
    "        sub_string2 = list(sub_string)\n",
    "        #print(sub_string2)\n",
    "        for v in range(0, len(sub_string2)-1):\n",
    "            ss.append(sub_string2[v:])\n",
    "            ss[v] = ''.join(ss[v])\n",
    "            v+=1\n",
    "        #print(ss)    \n",
    "    \n",
    "        # string\n",
    "        string2 = string\n",
    "    #print(string2)\n",
    "    element = string2\n",
    "    #print(element)\n",
    "    elements = []   \n",
    "    list_elements = []\n",
    "    i = 0\n",
    "    while i+2 < len(element):\n",
    "    \n",
    "        for i in range(i, i+2):\n",
    "            el = string2[i:]\n",
    "            list_elements.append(el)\n",
    "            list_elements[i] = ''.join(list_elements[i])\n",
    "            i+=1\n",
    "    #print(list_elements)\n",
    "   # if sub_string in string -> count\n",
    "    count = 0\n",
    "    for n in range(len(ss)):\n",
    "    \n",
    "        if ss[n] in list_elements:\n",
    "    \n",
    "            count+=1   \n",
    "        \n",
    "        \n",
    "    return count"
   ]
  },
  {
   "cell_type": "code",
   "execution_count": 266,
   "metadata": {},
   "outputs": [
    {
     "data": {
      "text/plain": [
       "0"
      ]
     },
     "execution_count": 266,
     "metadata": {},
     "output_type": "execute_result"
    }
   ],
   "source": [
    "count_substring(string, sub_string)"
   ]
  },
  {
   "cell_type": "markdown",
   "metadata": {},
   "source": [
    "### try 3: \n",
    "- idea\n",
    "- apply window method, for loop, get letters(using len(sub_string) "
   ]
  },
  {
   "cell_type": "markdown",
   "metadata": {},
   "source": [
    "#### string 일 때"
   ]
  },
  {
   "cell_type": "code",
   "execution_count": 42,
   "metadata": {},
   "outputs": [],
   "source": [
    "string = \"ABCDCDC\"\n",
    "sub_string = \"CDC\""
   ]
  },
  {
   "cell_type": "code",
   "execution_count": 10,
   "metadata": {},
   "outputs": [
    {
     "data": {
      "text/plain": [
       "'ABCDCDC'"
      ]
     },
     "execution_count": 10,
     "metadata": {},
     "output_type": "execute_result"
    }
   ],
   "source": [
    "#string이 string일 때\n",
    "string2 = string\n",
    "string2"
   ]
  },
  {
   "cell_type": "code",
   "execution_count": 11,
   "metadata": {},
   "outputs": [
    {
     "data": {
      "text/plain": [
       "['ABC', 'BCD', 'CDC', 'DCD', 'CDC', 'DC']"
      ]
     },
     "execution_count": 11,
     "metadata": {},
     "output_type": "execute_result"
    }
   ],
   "source": [
    "# string일 때\n",
    "elements =  string2\n",
    "count = 0\n",
    "list_elements = []\n",
    "i = 0\n",
    "while i+2 < len(elements):\n",
    "    \n",
    "    for i in range(i, i+2):# 일단 첫번째 예시보면서 숫자로 넣음(다른 sub_string들어오면 적용 안 됨, need to edit)\n",
    "        el = elements[i:i+3]\n",
    "        list_elements.append(el)\n",
    "        list_elements[i] = ''.join(list_elements[i])\n",
    "        i+=1\n",
    "list_elements"
   ]
  },
  {
   "cell_type": "code",
   "execution_count": 13,
   "metadata": {},
   "outputs": [
    {
     "data": {
      "text/plain": [
       "2"
      ]
     },
     "execution_count": 13,
     "metadata": {},
     "output_type": "execute_result"
    }
   ],
   "source": [
    "count = 0\n",
    "for n in range(len(list_elements)):\n",
    "    \n",
    "    if list_elements[n] == sub_string: # try1, 2 보다 for loop 없이 단순 비교만 하면 됌\n",
    "    \n",
    "        count+=1\n",
    "count"
   ]
  },
  {
   "cell_type": "markdown",
   "metadata": {},
   "source": [
    "#### sentence 일때"
   ]
  },
  {
   "cell_type": "code",
   "execution_count": 20,
   "metadata": {},
   "outputs": [],
   "source": [
    "string = 'I am an Indian, by birth'\n",
    "sub_string = \"Birth\""
   ]
  },
  {
   "cell_type": "code",
   "execution_count": 21,
   "metadata": {},
   "outputs": [
    {
     "data": {
      "text/plain": [
       "['I', 'am', 'an', 'Indian,', 'by', 'birth']"
      ]
     },
     "execution_count": 21,
     "metadata": {},
     "output_type": "execute_result"
    }
   ],
   "source": [
    "# string이 문장일 때\n",
    "string2 = string.split(' ')\n",
    "string2"
   ]
  },
  {
   "cell_type": "code",
   "execution_count": 23,
   "metadata": {},
   "outputs": [
    {
     "data": {
      "text/plain": [
       "0"
      ]
     },
     "execution_count": 23,
     "metadata": {},
     "output_type": "execute_result"
    }
   ],
   "source": [
    "count = 0\n",
    "for n in range(len(string2)):\n",
    "    \n",
    "    if string2[n] == sub_string:\n",
    "    \n",
    "        count+=1\n",
    "count"
   ]
  },
  {
   "cell_type": "markdown",
   "metadata": {},
   "source": [
    "#### test function"
   ]
  },
  {
   "cell_type": "code",
   "execution_count": 24,
   "metadata": {},
   "outputs": [],
   "source": [
    "string = \"ThIsisCoNfUsInG\"\n",
    "sub_string = \"is\""
   ]
  },
  {
   "cell_type": "code",
   "execution_count": 43,
   "metadata": {},
   "outputs": [],
   "source": [
    "def count_substring(string, sub_string):\n",
    "    if ' ' in string:\n",
    "        print(\"say sentence\")\n",
    "        string2 = string.split(' ')\n",
    "        \n",
    "        count = 0\n",
    "        for n in range(len(string2)):\n",
    "    \n",
    "            if string2[n] == sub_string:\n",
    "    \n",
    "                count+=1\n",
    "    \n",
    "    else:\n",
    "        print(\"say string\")\n",
    "        string2 = string\n",
    "        print(string2)\n",
    "        # string일 때\n",
    "        elements =  string2\n",
    "        \n",
    "        \n",
    "        list_elements = []\n",
    "        i = 0\n",
    "        while i+2 < len(elements):\n",
    "    \n",
    "            for i in range(i, i+len(sub_string)-1): # 여기를 마지막에 len(sub_string)-1 추가함\n",
    "                el = elements[i:i+len(sub_string)]  # 여기를 마지막에 len(sub_string) 으로 바꿔서 항상 적용되게 고침\n",
    "                list_elements.append(el)\n",
    "                list_elements[i] = ''.join(list_elements[i])\n",
    "                i+=1\n",
    "            print(list_elements)    \n",
    "            count = 0\n",
    "        for n in range(len(list_elements)):\n",
    "    \n",
    "            if list_elements[n] == sub_string:\n",
    "    \n",
    "                count+=1\n",
    " \n",
    "    return count\n"
   ]
  },
  {
   "cell_type": "code",
   "execution_count": 44,
   "metadata": {},
   "outputs": [
    {
     "name": "stdout",
     "output_type": "stream",
     "text": [
      "say string\n",
      "ABCDCDC\n",
      "['ABC', 'BCD']\n",
      "['ABC', 'BCD', 'CDC', 'DCD']\n",
      "['ABC', 'BCD', 'CDC', 'DCD', 'CDC', 'DC']\n"
     ]
    },
    {
     "data": {
      "text/plain": [
       "2"
      ]
     },
     "execution_count": 44,
     "metadata": {},
     "output_type": "execute_result"
    }
   ],
   "source": [
    "count_substring(string, sub_string)"
   ]
  },
  {
   "cell_type": "code",
   "execution_count": null,
   "metadata": {},
   "outputs": [],
   "source": []
  }
 ],
 "metadata": {
  "kernelspec": {
   "display_name": "Python 3",
   "language": "python",
   "name": "python3"
  },
  "language_info": {
   "codemirror_mode": {
    "name": "ipython",
    "version": 3
   },
   "file_extension": ".py",
   "mimetype": "text/x-python",
   "name": "python",
   "nbconvert_exporter": "python",
   "pygments_lexer": "ipython3",
   "version": "3.7.7"
  }
 },
 "nbformat": 4,
 "nbformat_minor": 4
}

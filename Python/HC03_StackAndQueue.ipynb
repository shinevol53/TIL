{
 "cells": [
  {
   "cell_type": "markdown",
   "metadata": {},
   "source": [
    "### stack & queue\n",
    "\n",
    "- stack: \n",
    "    - 데이터의 삽입과 삭제가 한쪽 끝에서만 이루어지는 자료구조\n",
    "    - 후입선출(LIFO: Last-In First-Out): 나중에 들어간게 가장 먼저 빠짐\n",
    "    - ex: 일처리 순서: 사장order > 상사order > 원래 업무 priority\n",
    "    - 연산\n",
    "        - Push: 스택 맨 끝(맨 위)에 항목을 삽입한다\n",
    "        - Pop: 삭제연산(스택 맨 끝 항목을 반환하는 동시에 제거한다)\n",
    "        - top/peek: 스택 맨 끝 항목을 조회한다\n",
    "        - empty: 스택이 비어 있는지 확인한다\n",
    "        - size: 스택 크기를 확인한다\n",
    "        \n",
    "- queue:\n",
    "    - 선형 리스트의 한쪽 끝에서는 데이터의 삭제만 이루어지고, 다른 한쪽 끝에서는 데이터의 삽입만 이루어지는 자료구조\n",
    "    - 선입선출(FIFO: First-In First-Out): 먼저 들어간 게 먼저 빠짐\n",
    "    - ex: 편의점 진열\n",
    "    - front/rear \n",
    "        - front: 삭제가 일어나는 큐의 한쪽 끝\n",
    "        - rear: 삽입이 일어나는 큐의 다른 한쪽 끝을 가리키기 위한 것(-1부터 ~ n-1까지)\n",
    "    - overflow/underflow\n",
    "        - overflow: 큐를 위해 할당된 저장공간을 초과해서 더 이상 데이터를 삽입할 수 없는 현상\n",
    "        - underflow: 삭제 연산을 수행할 떄 큐에 데이터가 존재하지 않으면 삭제가 일어나지 않는 현상\n",
    "    - 연산\n",
    "        - enqueue: 큐 뒤쪽에 항목을 삽입\n",
    "        - dequeue: 큐 앞쪽의 항목을 반환하고, 제거한다\n",
    "        - peek/front: 큐 앞쪽의 항목을 조회한다\n",
    "        - empty: 큐가 비어 있는지 확인한다\n",
    "        - size: 큐의 크기를 확인한다\n",
    "\n"
   ]
  },
  {
   "cell_type": "markdown",
   "metadata": {},
   "source": [
    "### stack"
   ]
  },
  {
   "cell_type": "code",
   "execution_count": 1,
   "metadata": {},
   "outputs": [],
   "source": [
    "class StackTest():\n",
    "    \n",
    "    def __init__(self):\n",
    "        \n",
    "        \n",
    "        self.elements = []\n",
    "        \n",
    "    def append(self, item):\n",
    "        \n",
    "        self.elements.append(item)\n",
    "        \n",
    "    def pop(self):\n",
    "        \n",
    "        last = self.elements[-1]\n",
    "        \n",
    "        self.elements.remove(last)\n",
    "        \n",
    "        return last\n",
    "        "
   ]
  },
  {
   "cell_type": "code",
   "execution_count": 2,
   "metadata": {},
   "outputs": [],
   "source": [
    "ST = StackTest()"
   ]
  },
  {
   "cell_type": "code",
   "execution_count": 6,
   "metadata": {},
   "outputs": [
    {
     "name": "stdout",
     "output_type": "stream",
     "text": [
      "[1, 2, 2, 3]\n"
     ]
    }
   ],
   "source": [
    "ST.append(3)\n",
    "\n",
    "print(ST.elements)"
   ]
  },
  {
   "cell_type": "code",
   "execution_count": 9,
   "metadata": {},
   "outputs": [
    {
     "name": "stdout",
     "output_type": "stream",
     "text": [
      "[1, 2]\n"
     ]
    }
   ],
   "source": [
    "item = ST.pop()\n",
    "\n",
    "print(ST.elements)"
   ]
  },
  {
   "cell_type": "code",
   "execution_count": 10,
   "metadata": {},
   "outputs": [
    {
     "data": {
      "text/plain": [
       "2"
      ]
     },
     "execution_count": 10,
     "metadata": {},
     "output_type": "execute_result"
    }
   ],
   "source": [
    "item"
   ]
  },
  {
   "cell_type": "code",
   "execution_count": 3,
   "metadata": {},
   "outputs": [
    {
     "name": "stdout",
     "output_type": "stream",
     "text": [
      "스택이 비었나요? True\n",
      "스택에 숫자 0~9를 추가합니다.\n",
      "스택 크기: 10\n",
      "peek: 9\n",
      "pop: 9\n",
      "peek: 8\n",
      "스택이 비었나요? False\n",
      "[0, 1, 2, 3, 4, 5, 6, 7, 8]\n"
     ]
    }
   ],
   "source": [
    "class Stack(object):\n",
    "    def __init__(self):\n",
    "        self.items  = []\n",
    "    \n",
    "    def isEmpty(self):\n",
    "        return not bool(self.items)\n",
    "    \n",
    "    def push(self, value):\n",
    "        self.items.append(value)\n",
    "    \n",
    "    def pop(self):\n",
    "        value = self.items.pop()\n",
    "        if value is not None:\n",
    "            return value\n",
    "        else:\n",
    "            print('Stack is empty.')\n",
    "            \n",
    "    def size(self):\n",
    "        return len(self.items)\n",
    "    \n",
    "    def peek(self):\n",
    "        if self.items:\n",
    "            return self.items[-1]\n",
    "        else:\n",
    "            print('Stack is empty.')\n",
    "    \n",
    "    def __repr__(self):\n",
    "        return repr(self.items)\n",
    "    \n",
    "if __name__ == \"__main__\":\n",
    "    stack = Stack()\n",
    "    print('스택이 비었나요? {0}'.format(stack.isEmpty()))\n",
    "    print('스택에 숫자 0~9를 추가합니다.')\n",
    "    for i in range(10):\n",
    "        stack.push(i)\n",
    "    print('스택 크기: {0}'.format(stack.size()))\n",
    "    print('peek: {0}'.format(stack.peek()))\n",
    "    print('pop: {0}'.format(stack.pop()))\n",
    "    print('peek: {0}'.format(stack.peek()))\n",
    "    print('스택이 비었나요? {0}'.format(stack.isEmpty()))\n",
    "    print(stack)\n",
    "    "
   ]
  },
  {
   "cell_type": "code",
   "execution_count": null,
   "metadata": {},
   "outputs": [],
   "source": []
  },
  {
   "cell_type": "markdown",
   "metadata": {},
   "source": [
    "### 큐"
   ]
  },
  {
   "cell_type": "code",
   "execution_count": 4,
   "metadata": {},
   "outputs": [
    {
     "name": "stdout",
     "output_type": "stream",
     "text": [
      "큐가 비었나요? True\n",
      "큐에 숫자 0~9를 추가합니다.\n",
      "큐 크기: 10\n",
      "peek: 0\n",
      "dequeue: 0\n",
      "peek: 1\n",
      "큐가 비었나요? False\n",
      "[9, 8, 7, 6, 5, 4, 3, 2, 1]\n"
     ]
    }
   ],
   "source": [
    "class Queue(object):\n",
    "    \n",
    "    def __init__(self):\n",
    "        self.items = []\n",
    "        \n",
    "    def isEmpty(self):\n",
    "        return not bool(self.items)\n",
    "    \n",
    "    def enqueue(self, item):\n",
    "        self.items.insert(0, item)\n",
    "        \n",
    "    def dequeue(self):\n",
    "        value = self.items.pop()\n",
    "        if value is not None:\n",
    "            return value\n",
    "        else:\n",
    "            print('Queue is empty.')\n",
    "    def size(self):\n",
    "        return len(self.items)\n",
    "    \n",
    "    def peek(self):\n",
    "        if self.items:\n",
    "            return self.items[-1]\n",
    "        else:\n",
    "            print('Queue is empty.')\n",
    "            \n",
    "    def __repr__(self):\n",
    "        return repr(self.items)\n",
    "    \n",
    "if __name__ == '__main__':\n",
    "    queue = Queue()\n",
    "    print('큐가 비었나요? {0}'.format(queue.isEmpty()))\n",
    "    print('큐에 숫자 0~9를 추가합니다.')\n",
    "    for i in range(10):\n",
    "        queue.enqueue(i)\n",
    "    print('큐 크기: {0}'.format(queue.size()))\n",
    "    print('peek: {0}'.format(queue.peek()))\n",
    "    print('dequeue: {0}'.format(queue.dequeue()))\n",
    "    print('peek: {0}'.format(queue.peek()))\n",
    "    print('큐가 비었나요? {0}'.format(queue.isEmpty()))\n",
    "    print(queue)"
   ]
  },
  {
   "cell_type": "code",
   "execution_count": null,
   "metadata": {},
   "outputs": [],
   "source": [
    "# 숙제\n",
    "\n",
    "push\n",
    "\n",
    "pop 구현하기"
   ]
  }
 ],
 "metadata": {
  "kernelspec": {
   "display_name": "Python 3",
   "language": "python",
   "name": "python3"
  },
  "language_info": {
   "codemirror_mode": {
    "name": "ipython",
    "version": 3
   },
   "file_extension": ".py",
   "mimetype": "text/x-python",
   "name": "python",
   "nbconvert_exporter": "python",
   "pygments_lexer": "ipython3",
   "version": "3.7.7"
  }
 },
 "nbformat": 4,
 "nbformat_minor": 4
}

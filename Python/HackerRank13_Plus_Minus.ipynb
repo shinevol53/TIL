{
 "cells": [
  {
   "cell_type": "markdown",
   "metadata": {},
   "source": [
    "Given an array of integers, calculate the ratios of its elements that are positive, negative, and zero. Print the decimal value of each fraction on a new line with  places after the decimal.\n",
    "\n",
    "Note: This challenge introduces precision problems. The test cases are scaled to six decimal places, though answers with absolute error of up to  are acceptable.\n",
    "\n",
    "- Example\n",
    "\n",
    "There are  elements, two positive, two negative and one zero. Their ratios are ,  and . Results are printed as:\n",
    "\n",
    "0.400000\n",
    "0.400000\n",
    "0.200000\n",
    "\n",
    "- Function Description\n",
    "\n",
    "Complete the plusMinus function in the editor below.\n",
    "\n",
    "plusMinus has the following parameter(s):\n",
    "\n",
    "int arr[n]: an array of integers\n",
    "Print\n",
    "Print the ratios of positive, negative and zero values in the array. Each value should be printed on a separate line with  digits after the decimal. The function should not return a value.\n",
    "\n",
    "- Input Format\n",
    "\n",
    "The first line contains an integer, , the size of the array.\n",
    "The second line contains  space-separated integers that describe .\n",
    "\n",
    "- Constraints\n",
    "0 < n <= 100\n",
    "-100 <= arr[i] <= 100\n",
    "\n",
    "\n",
    "- Output Format\n",
    "\n",
    "Print the following  lines, each to  decimals:\n",
    "\n",
    "proportion of positive values\n",
    "proportion of negative values\n",
    "proportion of zeros\n",
    "Sample Input\n",
    "\n",
    "6\n",
    "-4 3 -9 0 4 1         \n",
    "- Sample Output\n",
    "\n",
    "0.500000\n",
    "0.333333\n",
    "0.166667ㅡ\n",
    "\n",
    "- Explanation\n",
    "\n",
    "There are  positive numbers,  negative numbers, and  zero in the array.\n",
    "The proportions of occurrence are positive: , negative:  and zeros: ."
   ]
  },
  {
   "cell_type": "markdown",
   "metadata": {},
   "source": [
    "idea: list안에 양수, 0, 음수 개수를 세서, n으로 나눠준 값"
   ]
  },
  {
   "cell_type": "code",
   "execution_count": 2,
   "metadata": {},
   "outputs": [],
   "source": [
    "#!/bin/python3\n",
    "\n",
    "import math\n",
    "import os\n",
    "import random\n",
    "import re\n",
    "import sys\n",
    "\n",
    "# Complete the plusMinus function below.\n",
    "def plusMinus(arr, n):\n",
    "    pos_count = 0\n",
    "    neg_count = 0\n",
    "    zero_count = 0\n",
    "    ls = []\n",
    "    for i in range(len(arr)):\n",
    "        if arr[i] > 0:\n",
    "            pos_count += 1\n",
    "        elif arr[i] == 0 :\n",
    "            zero_count += 1\n",
    "        else:\n",
    "            neg_count += 1 \n",
    "    \n",
    "    a = round(pos_count/n, 5)\n",
    "    b = round(neg_count/n, 5)\n",
    "    c= round(zero_count/n, 5)        \n",
    "    return print(a, '\\n', b, '\\n', c)\n",
    "  \n"
   ]
  },
  {
   "cell_type": "code",
   "execution_count": 3,
   "metadata": {},
   "outputs": [
    {
     "name": "stdout",
     "output_type": "stream",
     "text": [
      "6\n",
      "-4 3 -9 0 4 1\n",
      "0.5 \n",
      " 0.33333 \n",
      " 0.16667\n"
     ]
    }
   ],
   "source": [
    "if __name__ == '__main__':\n",
    "    n = int(input())\n",
    "\n",
    "    arr = list(map(int, input().rstrip().split()))\n",
    "\n",
    "    plusMinus(arr, n)"
   ]
  }
 ],
 "metadata": {
  "kernelspec": {
   "display_name": "Python 3",
   "language": "python",
   "name": "python3"
  },
  "language_info": {
   "codemirror_mode": {
    "name": "ipython",
    "version": 3
   },
   "file_extension": ".py",
   "mimetype": "text/x-python",
   "name": "python",
   "nbconvert_exporter": "python",
   "pygments_lexer": "ipython3",
   "version": "3.7.7"
  }
 },
 "nbformat": 4,
 "nbformat_minor": 4
}

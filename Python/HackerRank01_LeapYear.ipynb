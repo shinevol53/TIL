{
 "cells": [
  {
   "cell_type": "markdown",
   "metadata": {},
   "source": [
    "### LeapYear_problem\n",
    "\n",
    "We add a Leap Day on February 29, almost every four years. The leap day is an extra, or intercalary day and we add it to the shortest month of the year, February.\n",
    "In the Gregorian calendar three criteria must be taken into account to identify leap years:\n",
    "\n",
    "- The year can be evenly divided by 4, is a leap year, unless:\n",
    "    - The year can be evenly divided by 100, it is NOT a leap year, unless:\n",
    "        - The year is also evenly divisible by 400. Then it is a leap year.\n",
    "\n",
    "This means that in the Gregorian calendar, the years 2000 and 2400 are leap years, while 1800, 1900, 2100, 2200, 2300 and 2500 are NOT leap years.Source\n",
    "\n",
    "- Task\n",
    "  - You are given the year, and you have to write a function to check if the year is leap or not.\n",
    "\n",
    "Note that you have to complete the function and remaining code is given as template.\n",
    "\n",
    "- Input Format\n",
    "\n",
    "Read y, the year that needs to be checked.\n",
    "\n",
    "- Constraints\n",
    "    - 1900 <= y <= 100000\n",
    "\n",
    "\n",
    "- Output Format\n",
    "\n",
    "Output is taken care of by the template. Your function must return a boolean value (True/False)\n",
    "\n",
    "- Sample Input 0\n",
    "\n",
    "1990\n",
    "- Sample Output 0\n",
    "\n",
    "False\n",
    "- Explanation 0\n",
    "\n",
    "1990 is not a multiple of 4 hence it's not a leap year.\n",
    "\n"
   ]
  },
  {
   "cell_type": "code",
   "execution_count": 7,
   "metadata": {},
   "outputs": [],
   "source": [
    "def is_leap(year):\n",
    "    leap = False\n",
    "    \n",
    "    # Write your logic here\n",
    "    1990<=year<=100000 \n",
    "    \n",
    "    if year%4 == 0 and year%100 == 0 and year%400 != 0:\n",
    "        leap = False\n",
    "\n",
    "    elif year%4 == 0: \n",
    "    \n",
    "        leap = True\n",
    "    elif year%4 != 0 and year%100 == 0:\n",
    "\n",
    "        leap = False\n",
    "\n",
    "    elif year%4 != 0 and year%100 == 0 and year%400 == 0:\n",
    "        leap = True\n",
    "\n",
    "    \n",
    "    \n",
    "    \n",
    "    return leap\n",
    "\n",
    "    year = int(input())"
   ]
  },
  {
   "cell_type": "code",
   "execution_count": 12,
   "metadata": {},
   "outputs": [
    {
     "data": {
      "text/plain": [
       "True"
      ]
     },
     "execution_count": 12,
     "metadata": {},
     "output_type": "execute_result"
    }
   ],
   "source": [
    "is_leap(2000)"
   ]
  }
 ],
 "metadata": {
  "kernelspec": {
   "display_name": "Python 3",
   "language": "python",
   "name": "python3"
  },
  "language_info": {
   "codemirror_mode": {
    "name": "ipython",
    "version": 3
   },
   "file_extension": ".py",
   "mimetype": "text/x-python",
   "name": "python",
   "nbconvert_exporter": "python",
   "pygments_lexer": "ipython3",
   "version": "3.7.6"
  }
 },
 "nbformat": 4,
 "nbformat_minor": 4
}

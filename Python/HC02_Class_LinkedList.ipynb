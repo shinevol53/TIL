{
 "cells": [
  {
   "cell_type": "markdown",
   "metadata": {},
   "source": [
    "#### Array List vs. Linked List\n",
    "- Array List: \n",
    "    - 장점: 메모리 사용이 적고, index로 찾기 때문에 빠름\n",
    "    - 단점: 수정, 추가 시 배열을 다 움직여야 해서 오래 걸림\n",
    "    - 예) 게시판 리스트(?)\n",
    "\n",
    "- Linked List:\n",
    "    - 장점: 수정이나 삭제가 빠름\n",
    "    - 단점: linked 를 타고 조회해야 하기 때문에, 찾는 데 오래 걸림\n",
    "    - 예) 댓글 기능"
   ]
  },
  {
   "cell_type": "markdown",
   "metadata": {},
   "source": [
    "### CLASS:\n",
    "- 나의 상태가 다른 상태를 변경하는 method\n",
    "- 하나의 독립적인 모듈\n",
    "- 단위"
   ]
  },
  {
   "cell_type": "code",
   "execution_count": 26,
   "metadata": {},
   "outputs": [
    {
     "ename": "TypeError",
     "evalue": "'NoneType' object is not subscriptable",
     "output_type": "error",
     "traceback": [
      "\u001b[1;31m---------------------------------------------------------------------------\u001b[0m",
      "\u001b[1;31mTypeError\u001b[0m                                 Traceback (most recent call last)",
      "\u001b[1;32m<ipython-input-26-1b93c3543d20>\u001b[0m in \u001b[0;36m<module>\u001b[1;34m\u001b[0m\n\u001b[0;32m     19\u001b[0m \u001b[1;33m\u001b[0m\u001b[0m\n\u001b[0;32m     20\u001b[0m \u001b[0melement0\u001b[0m\u001b[1;33m[\u001b[0m\u001b[1;34m'next'\u001b[0m\u001b[1;33m]\u001b[0m\u001b[1;33m\u001b[0m\u001b[1;33m\u001b[0m\u001b[0m\n\u001b[1;32m---> 21\u001b[1;33m \u001b[0melement0\u001b[0m\u001b[1;33m[\u001b[0m\u001b[1;34m'next'\u001b[0m\u001b[1;33m]\u001b[0m\u001b[1;33m[\u001b[0m\u001b[1;34m'next'\u001b[0m\u001b[1;33m]\u001b[0m\u001b[1;33m[\u001b[0m\u001b[1;34m'next'\u001b[0m\u001b[1;33m]\u001b[0m\u001b[1;33m[\u001b[0m\u001b[1;34m'next'\u001b[0m\u001b[1;33m]\u001b[0m\u001b[1;33m\u001b[0m\u001b[1;33m\u001b[0m\u001b[0m\n\u001b[0m",
      "\u001b[1;31mTypeError\u001b[0m: 'NoneType' object is not subscriptable"
     ]
    }
   ],
   "source": [
    "# element를 dict형태로 만듦\n",
    "# 각 element를 next란 컬럼에 연결시킴\n",
    "\n",
    "element0 = {'value': 0,\n",
    "            'next': None\n",
    "    \n",
    "}\n",
    "\n",
    "element1 = {'value': 1,\n",
    "           'next': None\n",
    "}\n",
    "\n",
    "element2 = {'value': 2,\n",
    "           'next': None\n",
    "}\n",
    "\n",
    "element0['next'] = element1\n",
    "element1['next'] = element2\n",
    "\n",
    "element0['next']\n",
    "element0['next']['next']['next']['next']\n"
   ]
  },
  {
   "cell_type": "code",
   "execution_count": 30,
   "metadata": {},
   "outputs": [],
   "source": [
    "element2['next'] = None"
   ]
  },
  {
   "cell_type": "code",
   "execution_count": 29,
   "metadata": {},
   "outputs": [],
   "source": [
    "# value print 함수\n",
    "# pointer라는 변수에 head(element0) parameter 정의\n",
    "# pointer가 None이 될 때 까지, element0['next']를 타고 계속 pointer(재귀정의)하면서 타고 내려 가게 만듦\n",
    "# 이 때 연결 순서를 보기 위해 각 element['value']를 프린트 함\n",
    "\n",
    "def value_print(head):\n",
    "    pointer = head \n",
    "    while pointer is not None:\n",
    "        \n",
    "        \n",
    "\n",
    "        print(pointer['value'])\n",
    "        pointer = pointer['next']\n",
    "    \n",
    "    return pointer    \n"
   ]
  },
  {
   "cell_type": "code",
   "execution_count": 30,
   "metadata": {},
   "outputs": [
    {
     "name": "stdout",
     "output_type": "stream",
     "text": [
      "0\n",
      "1\n",
      "2\n"
     ]
    }
   ],
   "source": [
    "value_print(element0)"
   ]
  },
  {
   "cell_type": "code",
   "execution_count": 174,
   "metadata": {},
   "outputs": [],
   "source": [
    "# 원래 순서를 끊고 중간에 넣을 element3 생성\n",
    "element3 = {'value': 3,\n",
    "           'next': None}\n",
    "\n"
   ]
  },
  {
   "cell_type": "code",
   "execution_count": null,
   "metadata": {},
   "outputs": [],
   "source": [
    "# element0 - element3 - element 1 - element2 순서로 변경\n",
    "element0['next'] = element3\n",
    "element3['next'] = element1"
   ]
  },
  {
   "cell_type": "code",
   "execution_count": 33,
   "metadata": {},
   "outputs": [
    {
     "name": "stdout",
     "output_type": "stream",
     "text": [
      "0\n",
      "3\n",
      "1\n",
      "2\n"
     ]
    }
   ],
   "source": [
    "# value_print함수로 test\n",
    "value_print(element0)"
   ]
  },
  {
   "cell_type": "code",
   "execution_count": 36,
   "metadata": {},
   "outputs": [],
   "source": [
    "# 원래 순서에서 element0['next'] = element1인데,\n",
    "# 이 element1를 tmp라는 변수에 따로 빼놓음\n",
    "tmp = element0['next']"
   ]
  },
  {
   "cell_type": "code",
   "execution_count": 39,
   "metadata": {},
   "outputs": [],
   "source": [
    "# element1 을 안 쓰고 순서를 변경할 때\n",
    "\n",
    "# 순서 바꾸고\n",
    "element0['next'] = element3\n",
    "\n",
    "\n",
    "# tmp['next'] = element1\n",
    "element3['next'] = tmp\n",
    "\n",
    "\n"
   ]
  },
  {
   "cell_type": "code",
   "execution_count": 218,
   "metadata": {},
   "outputs": [
    {
     "name": "stdout",
     "output_type": "stream",
     "text": [
      "0\n",
      "1\n",
      "2\n"
     ]
    }
   ],
   "source": [
    "value_print(element0)"
   ]
  },
  {
   "cell_type": "markdown",
   "metadata": {},
   "source": [
    "### 숙제"
   ]
  },
  {
   "cell_type": "code",
   "execution_count": null,
   "metadata": {},
   "outputs": [],
   "source": [
    "# dict => 함수(5개) => class"
   ]
  },
  {
   "cell_type": "code",
   "execution_count": 217,
   "metadata": {},
   "outputs": [
    {
     "ename": "TypeError",
     "evalue": "'NoneType' object is not subscriptable",
     "output_type": "error",
     "traceback": [
      "\u001b[1;31m---------------------------------------------------------------------------\u001b[0m",
      "\u001b[1;31mTypeError\u001b[0m                                 Traceback (most recent call last)",
      "\u001b[1;32m<ipython-input-217-1b93c3543d20>\u001b[0m in \u001b[0;36m<module>\u001b[1;34m\u001b[0m\n\u001b[0;32m     19\u001b[0m \u001b[1;33m\u001b[0m\u001b[0m\n\u001b[0;32m     20\u001b[0m \u001b[0melement0\u001b[0m\u001b[1;33m[\u001b[0m\u001b[1;34m'next'\u001b[0m\u001b[1;33m]\u001b[0m\u001b[1;33m\u001b[0m\u001b[1;33m\u001b[0m\u001b[0m\n\u001b[1;32m---> 21\u001b[1;33m \u001b[0melement0\u001b[0m\u001b[1;33m[\u001b[0m\u001b[1;34m'next'\u001b[0m\u001b[1;33m]\u001b[0m\u001b[1;33m[\u001b[0m\u001b[1;34m'next'\u001b[0m\u001b[1;33m]\u001b[0m\u001b[1;33m[\u001b[0m\u001b[1;34m'next'\u001b[0m\u001b[1;33m]\u001b[0m\u001b[1;33m[\u001b[0m\u001b[1;34m'next'\u001b[0m\u001b[1;33m]\u001b[0m\u001b[1;33m\u001b[0m\u001b[1;33m\u001b[0m\u001b[0m\n\u001b[0m",
      "\u001b[1;31mTypeError\u001b[0m: 'NoneType' object is not subscriptable"
     ]
    }
   ],
   "source": [
    "# element를 dict형태로 만듦\n",
    "# 각 element를 next란 컬럼에 연결시킴\n",
    "\n",
    "element0 = {'value': 0,\n",
    "            'next': None\n",
    "    \n",
    "}\n",
    "\n",
    "element1 = {'value': 1,\n",
    "           'next': None\n",
    "}\n",
    "\n",
    "element2 = {'value': 2,\n",
    "           'next': None\n",
    "}\n",
    "\n",
    "element0['next'] = element1\n",
    "element1['next'] = element2\n",
    "\n",
    "element0['next']\n",
    "element0['next']['next']['next']['next']\n"
   ]
  },
  {
   "cell_type": "markdown",
   "metadata": {},
   "source": [
    "#### 기능0: 원소를 뒤에 추가"
   ]
  },
  {
   "cell_type": "code",
   "execution_count": 40,
   "metadata": {},
   "outputs": [],
   "source": [
    "# 기능0: 원소를 뒤에 추가\n",
    "\n",
    "def add_element(element_next):\n",
    "    \n",
    "    value_print(element0)\n",
    "    \n",
    "    pointer = element_next\n",
    "    \n",
    "    return value_print(pointer)"
   ]
  },
  {
   "cell_type": "code",
   "execution_count": 43,
   "metadata": {},
   "outputs": [
    {
     "name": "stdout",
     "output_type": "stream",
     "text": [
      "0\n",
      "1\n",
      "2\n",
      "3\n"
     ]
    }
   ],
   "source": [
    "add_element(element3)"
   ]
  },
  {
   "cell_type": "code",
   "execution_count": 35,
   "metadata": {
    "scrolled": true
   },
   "outputs": [
    {
     "name": "stdout",
     "output_type": "stream",
     "text": [
      "0\n",
      "1\n",
      "2\n"
     ]
    }
   ],
   "source": [
    "value_print(element0)"
   ]
  },
  {
   "cell_type": "markdown",
   "metadata": {},
   "source": [
    "#### 기능1: i번째에 원소를 추가"
   ]
  },
  {
   "cell_type": "code",
   "execution_count": 178,
   "metadata": {},
   "outputs": [],
   "source": [
    "# 기능1: i번째에 원소를 추가\n",
    "def add_i_element(head, element_i, i):\n",
    "    pointer = head\n",
    "    \n",
    "     \n",
    "    \n",
    "    \n",
    "    for n in range(0, i+1):\n",
    "        \n",
    "        pointer = pointer['next']\n",
    "        \n",
    "        # 전에 꺼\n",
    "        if n == i-1:\n",
    "            \n",
    "            test = pointer\n",
    "            print('앞에꺼: ', test)\n",
    "        \n",
    "        # 나중에 붙일 것\n",
    "        if n == i:\n",
    "            \n",
    "            tmp = pointer\n",
    "            print('뒤에붙일 꺼: ', tmp)\n",
    "            element_i['next'] = tmp\n",
    "            print('insert하고 뒤에 꺼 붙인 거', element_i)\n",
    "        \n",
    "            test['next'] = element_i\n",
    "            print('앞에꺼+인서트+뒤에꺼: ', test)\n",
    "        \n",
    "        return value_print(test)\n",
    "        \n"
   ]
  },
  {
   "cell_type": "code",
   "execution_count": 179,
   "metadata": {},
   "outputs": [
    {
     "name": "stdout",
     "output_type": "stream",
     "text": [
      "앞에꺼:  {'value': 1, 'next': {'value': 3, 'next': {'value': 2, 'next': None}}}\n",
      "1\n",
      "3\n",
      "2\n"
     ]
    }
   ],
   "source": [
    "add_i_element(element0, element3, 1)"
   ]
  },
  {
   "cell_type": "markdown",
   "metadata": {},
   "source": [
    "#### 기능2: 뒤에 다른 연결 리스트 잇기"
   ]
  },
  {
   "cell_type": "code",
   "execution_count": 215,
   "metadata": {},
   "outputs": [],
   "source": [
    "# 기능2: 뒤에 다른 연결 리스트 잇기\n",
    "\n",
    "# 새로운 리스트 만들기\n",
    "element4 = {'value': 4,\n",
    "            'next': None\n",
    "    \n",
    "}\n",
    "\n",
    "element5 = {'value': 5,\n",
    "           'next': None\n",
    "}\n",
    "\n",
    "element6 = {'value': 6,\n",
    "           'next': None\n",
    "}\n",
    "\n",
    "element4['next'] = element5\n",
    "element5['next'] = element6\n"
   ]
  },
  {
   "cell_type": "code",
   "execution_count": 235,
   "metadata": {},
   "outputs": [],
   "source": [
    "ls = element4"
   ]
  },
  {
   "cell_type": "code",
   "execution_count": 311,
   "metadata": {},
   "outputs": [],
   "source": [
    "def add_list(head, new_ls):\n",
    "    pointer2 = head\n",
    "    while pointer2 is not None:\n",
    "        pointer2 = pointer2['next']\n",
    "    print(pointer2)\n",
    "    \n",
    "\n",
    "    pointer2 = new_ls        \n",
    "        \n",
    "    return pointer2\n",
    "    "
   ]
  },
  {
   "cell_type": "code",
   "execution_count": 312,
   "metadata": {},
   "outputs": [
    {
     "name": "stdout",
     "output_type": "stream",
     "text": [
      "None\n"
     ]
    },
    {
     "data": {
      "text/plain": [
       "{'value': 4, 'next': {'value': 5, 'next': {'value': 6, 'next': None}}}"
      ]
     },
     "execution_count": 312,
     "metadata": {},
     "output_type": "execute_result"
    }
   ],
   "source": [
    "add_list(element0, element4)"
   ]
  },
  {
   "cell_type": "code",
   "execution_count": null,
   "metadata": {},
   "outputs": [],
   "source": [
    "# 기능4: i 번째 원소를 삭제\n",
    "\n",
    "def del_element(i):\n",
    "    tmp = element[i]['next']\n",
    "    element[i-1]['next'] =  tmp"
   ]
  },
  {
   "cell_type": "code",
   "execution_count": null,
   "metadata": {},
   "outputs": [],
   "source": [
    "# 기능 5: 원소를 순회하면서 some함수를 호출???????\n",
    "\n",
    "def call_function(#함수이름#):\n",
    "    \n",
    "    return #함수 이름#"
   ]
  },
  {
   "cell_type": "code",
   "execution_count": null,
   "metadata": {},
   "outputs": [],
   "source": [
    "# 숙제\n",
    "\n",
    "class MyLinkedList:\n",
    "    \n",
    "    def __init__(self):\n",
    "        \n",
    "        self.head = None\n",
    "        \n",
    "    # 기능 0: 원소를 뒤에 추가\n",
    "    # 기능 1 : 중간에 i번째에 원소를 추가\n",
    "    # 기능 2: 뒤에 다른 연결리스트를 잇기\n",
    "    # 기능 3: 중간에 다른 연결리스트 잇기\n",
    "    # 기능 4: i번째에 원소를 삭제\n",
    "    # 기능 5: 원소를 순회하면서 some 함수를 호출(모든 원소들에 함수를 적용, 함수 자체를 변수로 받는)\n",
    "    \n",
    "    \n",
    "    \n",
    "        \n",
    "    "
   ]
  }
 ],
 "metadata": {
  "kernelspec": {
   "display_name": "Python 3",
   "language": "python",
   "name": "python3"
  },
  "language_info": {
   "codemirror_mode": {
    "name": "ipython",
    "version": 3
   },
   "file_extension": ".py",
   "mimetype": "text/x-python",
   "name": "python",
   "nbconvert_exporter": "python",
   "pygments_lexer": "ipython3",
   "version": "3.7.7"
  }
 },
 "nbformat": 4,
 "nbformat_minor": 4
}

{
 "cells": [
  {
   "cell_type": "markdown",
   "metadata": {},
   "source": [
    "#### Array List vs. Linked List\n",
    "- Array List: \n",
    "    - 장점: 메모리 사용이 적고, index로 찾기 때문에 빠름\n",
    "    - 단점: 수정, 추가 시 배열을 다 움직여야 해서 오래 걸림\n",
    "    - 예) 게시판 리스트(?)\n",
    "\n",
    "- Linked List:\n",
    "    - 장점: 수정이나 삭제가 빠름\n",
    "    - 단점: linked 를 타고 조회해야 하기 때문에, 찾는 데 오래 걸림\n",
    "    - 예) 댓글 기능"
   ]
  },
  {
   "cell_type": "markdown",
   "metadata": {},
   "source": [
    "### CLASS:\n",
    "- 나의 상태가 다른 상태를 변경하는 method\n",
    "- 하나의 독립적인 모듈\n",
    "- 단위"
   ]
  },
  {
   "cell_type": "code",
   "execution_count": 34,
   "metadata": {},
   "outputs": [
    {
     "ename": "TypeError",
     "evalue": "'NoneType' object is not subscriptable",
     "output_type": "error",
     "traceback": [
      "\u001b[1;31m---------------------------------------------------------------------------\u001b[0m",
      "\u001b[1;31mTypeError\u001b[0m                                 Traceback (most recent call last)",
      "\u001b[1;32m<ipython-input-34-ae21a6625c21>\u001b[0m in \u001b[0;36m<module>\u001b[1;34m\u001b[0m\n\u001b[0;32m     18\u001b[0m \u001b[1;33m\u001b[0m\u001b[0m\n\u001b[0;32m     19\u001b[0m \u001b[0melement0\u001b[0m\u001b[1;33m[\u001b[0m\u001b[1;34m'next'\u001b[0m\u001b[1;33m]\u001b[0m\u001b[1;33m\u001b[0m\u001b[1;33m\u001b[0m\u001b[0m\n\u001b[1;32m---> 20\u001b[1;33m \u001b[0melement0\u001b[0m\u001b[1;33m[\u001b[0m\u001b[1;34m'next'\u001b[0m\u001b[1;33m]\u001b[0m\u001b[1;33m[\u001b[0m\u001b[1;34m'next'\u001b[0m\u001b[1;33m]\u001b[0m\u001b[1;33m[\u001b[0m\u001b[1;34m'next'\u001b[0m\u001b[1;33m]\u001b[0m\u001b[1;33m[\u001b[0m\u001b[1;34m'next'\u001b[0m\u001b[1;33m]\u001b[0m\u001b[1;33m\u001b[0m\u001b[1;33m\u001b[0m\u001b[0m\n\u001b[0m",
      "\u001b[1;31mTypeError\u001b[0m: 'NoneType' object is not subscriptable"
     ]
    }
   ],
   "source": [
    "# element를 dict형태로 만듦\n",
    "# 각 element를 next란 컬럼에 연결시킴\n",
    "\n",
    "element0 = {'value': 0,\n",
    "            'next': None\n",
    "    \n",
    "}\n",
    "\n",
    "element1 = {'value': 1,\n",
    "           'next': None\n",
    "}\n",
    "\n",
    "element2 = {'value': 2,\n",
    "           'next': None\n",
    "}\n",
    "\n",
    "element0['next'] = element1\n",
    "element1['next'] = element2\n",
    "\n",
    "element0['next']\n",
    "element0['next']['next']['next']['next']\n"
   ]
  },
  {
   "cell_type": "code",
   "execution_count": 30,
   "metadata": {},
   "outputs": [],
   "source": [
    "element2['next'] = None"
   ]
  },
  {
   "cell_type": "code",
   "execution_count": 25,
   "metadata": {},
   "outputs": [],
   "source": [
    "# value print 함수\n",
    "# pointer라는 변수에 head(element0) parameter 정의\n",
    "# pointer가 None이 될 때 까지, element0['next']를 타고 계속 pointer(재귀정의)하면서 타고 내려 가게 만듦\n",
    "# 이 때 연결 순서를 보기 위해 각 element['value']를 프린트 함\n",
    "\n",
    "def value_print(head):\n",
    "    pointer = head \n",
    "    while pointer is not None:\n",
    "        \n",
    "        \n",
    "\n",
    "        print(pointer['value'])\n",
    "        pointer = pointer['next']\n",
    "        \n"
   ]
  },
  {
   "cell_type": "code",
   "execution_count": 26,
   "metadata": {},
   "outputs": [
    {
     "name": "stdout",
     "output_type": "stream",
     "text": [
      "0\n",
      "1\n",
      "2\n"
     ]
    }
   ],
   "source": [
    "value_print(element0)"
   ]
  },
  {
   "cell_type": "code",
   "execution_count": 35,
   "metadata": {},
   "outputs": [],
   "source": [
    "# 원래 순서를 끊고 중간에 넣을 element3 생성\n",
    "element3 = {'value': 3,\n",
    "           'next': None}\n",
    "\n"
   ]
  },
  {
   "cell_type": "code",
   "execution_count": null,
   "metadata": {},
   "outputs": [],
   "source": [
    "# element0 - element3 - element 1 - element2 순서로 변경\n",
    "element0['next'] = element3\n",
    "element3['next'] = element1"
   ]
  },
  {
   "cell_type": "code",
   "execution_count": 33,
   "metadata": {},
   "outputs": [
    {
     "name": "stdout",
     "output_type": "stream",
     "text": [
      "0\n",
      "3\n",
      "1\n",
      "2\n"
     ]
    }
   ],
   "source": [
    "# value_print함수로 test\n",
    "value_print(element0)"
   ]
  },
  {
   "cell_type": "code",
   "execution_count": 36,
   "metadata": {},
   "outputs": [],
   "source": [
    "# 원래 순서에서 element0['next'] = element1인데,\n",
    "# 이 element1를 tmp라는 변수에 따로 빼놓음\n",
    "tmp = element0['next']"
   ]
  },
  {
   "cell_type": "code",
   "execution_count": 39,
   "metadata": {},
   "outputs": [],
   "source": [
    "# element1 을 안 쓰고 순서를 변경할 때\n",
    "\n",
    "# 순서 바꾸고\n",
    "element0['next'] = element3\n",
    "\n",
    "\n",
    "# tmp['next'] = element1\n",
    "element3['next'] = tmp\n",
    "\n",
    "\n"
   ]
  },
  {
   "cell_type": "code",
   "execution_count": 40,
   "metadata": {},
   "outputs": [
    {
     "name": "stdout",
     "output_type": "stream",
     "text": [
      "0\n",
      "3\n",
      "1\n",
      "2\n"
     ]
    }
   ],
   "source": [
    "value_print(element0)"
   ]
  },
  {
   "cell_type": "code",
   "execution_count": null,
   "metadata": {},
   "outputs": [],
   "source": [
    "# dict => 함수(5개) => class"
   ]
  },
  {
   "cell_type": "code",
   "execution_count": null,
   "metadata": {},
   "outputs": [],
   "source": [
    "# 숙제\n",
    "\n",
    "class MyLinkedList:\n",
    "    \n",
    "    def __init__(self):\n",
    "        \n",
    "        self.head = None\n",
    "        \n",
    "    # 기능 0: 원소를 뒤에 추가\n",
    "    # 기능 1 : 중간에 i번째에 원소를 추가\n",
    "    # 기능 2: 뒤에 다른 연결리스트를 잇기\n",
    "    # 기능 3: 중간에 다른 연결리스트 잇기\n",
    "    # 기능 4: i번째에 원소를 삭제\n",
    "    # 기능 5: 원소를 순회하면서 some 함수를 호출(모든 원소들에 함수를 적용, 함수 자체를 변수로 받는)\n",
    "    \n",
    "    \n",
    "    \n",
    "        \n",
    "    "
   ]
  }
 ],
 "metadata": {
  "kernelspec": {
   "display_name": "Python 3",
   "language": "python",
   "name": "python3"
  },
  "language_info": {
   "codemirror_mode": {
    "name": "ipython",
    "version": 3
   },
   "file_extension": ".py",
   "mimetype": "text/x-python",
   "name": "python",
   "nbconvert_exporter": "python",
   "pygments_lexer": "ipython3",
   "version": "3.7.7"
  }
 },
 "nbformat": 4,
 "nbformat_minor": 4
}

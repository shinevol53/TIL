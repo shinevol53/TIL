{
 "cells": [
  {
   "cell_type": "markdown",
   "metadata": {},
   "source": [
    "### Try1: pandas 사용할 수 있을때"
   ]
  },
  {
   "cell_type": "code",
   "execution_count": 44,
   "metadata": {},
   "outputs": [
    {
     "name": "stdout",
     "output_type": "stream",
     "text": [
      "2\n",
      "Harsh 25 26.5 28\n",
      "Anurag 25 28 30\n",
      "Harsh\n"
     ]
    }
   ],
   "source": [
    "if __name__ == '__main__':\n",
    "    n = int(input())\n",
    "    student_marks = []\n",
    "    for _ in range(n):\n",
    "        # *line이 의미하는 것?\n",
    "        name, *line = input().split()\n",
    "        scores = list(map(float, line))\n",
    "        student_dict = {'name': name, 'score': scores}\n",
    "        student_marks.append(student_dict)\n",
    "        datas = student_marks\n",
    "        df = pd.DataFrame(datas)\n",
    "        nn = len(df['score'][0])\n",
    "        \n",
    "        \n",
    "        \n",
    "        #student_marks[name] = scores\n",
    "    query_name = input()\n",
    "\n"
   ]
  },
  {
   "cell_type": "code",
   "execution_count": 46,
   "metadata": {},
   "outputs": [
    {
     "data": {
      "text/plain": [
       "26.5"
      ]
     },
     "execution_count": 46,
     "metadata": {},
     "output_type": "execute_result"
    }
   ],
   "source": [
    "def find_average(query_name):\n",
    "    \n",
    "    \n",
    "    for i in range(n):\n",
    "        \n",
    "        if df['name'][i] == query_name:\n",
    "            score_list = df['score'][i]\n",
    "            \n",
    "    return sum(score_list)/nn\n",
    "\n",
    "find_average(query_name)"
   ]
  },
  {
   "cell_type": "markdown",
   "metadata": {},
   "source": [
    "### Try2: Dict사용할 때"
   ]
  },
  {
   "cell_type": "code",
   "execution_count": 59,
   "metadata": {},
   "outputs": [
    {
     "name": "stdout",
     "output_type": "stream",
     "text": [
      "2\n",
      "Harsh 25 26.5 28\n",
      "Anurag 26 28 30\n",
      "Harsh\n"
     ]
    },
    {
     "data": {
      "text/plain": [
       "{'Harsh': [25.0, 26.5, 28.0], 'Anurag': [26.0, 28.0, 30.0]}"
      ]
     },
     "execution_count": 59,
     "metadata": {},
     "output_type": "execute_result"
    }
   ],
   "source": [
    "if __name__ == '__main__':\n",
    "    n = int(input())\n",
    "    \n",
    "    student_marks = {}\n",
    "    for _ in range(n):\n",
    "        # *line이 의미하는 것?\n",
    "        name, *line = input().split()\n",
    "        scores = list(map(float, line))\n",
    "        \n",
    "        # dictionary 추가하는 방법\n",
    "        student_marks[name] = scores\n",
    "    query_name = input()\n",
    "\n",
    "#student_marks\n",
    "\n",
    "\n"
   ]
  },
  {
   "cell_type": "code",
   "execution_count": 81,
   "metadata": {},
   "outputs": [
    {
     "name": "stdout",
     "output_type": "stream",
     "text": [
      "[25.0, 26.5, 28.0] 3\n"
     ]
    }
   ],
   "source": [
    "scores = student_marks[query_name]\n",
    "nn = len(scores)\n",
    "\n",
    "result = round(float(sum(scores))/nn, 2)\n",
    "\n",
    "print(scores, nn)"
   ]
  },
  {
   "cell_type": "code",
   "execution_count": 82,
   "metadata": {},
   "outputs": [
    {
     "name": "stdout",
     "output_type": "stream",
     "text": [
      "26.50\n"
     ]
    }
   ],
   "source": [
    "# 소수점까지 출력하고 싶을 때\n",
    "print('%.2f' % result)"
   ]
  },
  {
   "cell_type": "code",
   "execution_count": null,
   "metadata": {},
   "outputs": [],
   "source": []
  }
 ],
 "metadata": {
  "kernelspec": {
   "display_name": "Python 3",
   "language": "python",
   "name": "python3"
  },
  "language_info": {
   "codemirror_mode": {
    "name": "ipython",
    "version": 3
   },
   "file_extension": ".py",
   "mimetype": "text/x-python",
   "name": "python",
   "nbconvert_exporter": "python",
   "pygments_lexer": "ipython3",
   "version": "3.7.7"
  }
 },
 "nbformat": 4,
 "nbformat_minor": 4
}

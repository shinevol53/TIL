{
 "cells": [
  {
   "cell_type": "code",
   "execution_count": 114,
   "metadata": {},
   "outputs": [],
   "source": [
    "a = [1, 2, 3, 4]\n",
    "b = [5, 6, 7, 8]\n",
    "c = [2, 4, 6, 8]"
   ]
  },
  {
   "cell_type": "markdown",
   "metadata": {},
   "source": [
    "#### cosine similarity"
   ]
  },
  {
   "cell_type": "code",
   "execution_count": 115,
   "metadata": {},
   "outputs": [],
   "source": [
    "def dot_product(a, b):\n",
    "    cs = []\n",
    "    for i in range(len(a)):\n",
    "        c = a[i] * b[i]\n",
    "        cs.append(c)\n",
    "    return sum(cs)"
   ]
  },
  {
   "cell_type": "code",
   "execution_count": 116,
   "metadata": {},
   "outputs": [
    {
     "data": {
      "text/plain": [
       "70"
      ]
     },
     "execution_count": 116,
     "metadata": {},
     "output_type": "execute_result"
    }
   ],
   "source": [
    "dot_product(a, b)"
   ]
  },
  {
   "cell_type": "code",
   "execution_count": 117,
   "metadata": {},
   "outputs": [],
   "source": [
    "def get_length(n):\n",
    "    \n",
    "    summation_total = 0\n",
    "    for i in range(len(n)):\n",
    "    \n",
    "        summation_n = n[i]**2\n",
    "        summation_total+=summation_n\n",
    "    \n",
    "    \n",
    "    \n",
    "    length_n = summation_total**(1/2)\n",
    "    return length_n\n",
    "    "
   ]
  },
  {
   "cell_type": "code",
   "execution_count": 118,
   "metadata": {},
   "outputs": [],
   "source": [
    "def cosine_similarity(a, b):\n",
    "    upp = dot_product(a, b)\n",
    "    \n",
    "    \n",
    "    #분모\n",
    "    length_a = get_length(a)\n",
    "    length_b = get_length(b)\n",
    "    \n",
    "    lw = length_a * length_b\n",
    "    \n",
    "    return upp /  lw"
   ]
  },
  {
   "cell_type": "code",
   "execution_count": 119,
   "metadata": {},
   "outputs": [
    {
     "data": {
      "text/plain": [
       "1.0"
      ]
     },
     "execution_count": 119,
     "metadata": {},
     "output_type": "execute_result"
    }
   ],
   "source": [
    "# 함수 맞는지 보려면 a, a 넣어보기  = 1\n",
    "cosine_similarity(a, c)"
   ]
  },
  {
   "cell_type": "markdown",
   "metadata": {},
   "source": [
    "#### Euclid distance"
   ]
  },
  {
   "cell_type": "code",
   "execution_count": 120,
   "metadata": {},
   "outputs": [],
   "source": [
    "def distance2(a, b):\n",
    "    cs = []\n",
    "    for i in range(len(a)):\n",
    "        c = a[i] - b[i]\n",
    "        cs.append(c)\n",
    "    return cs\n",
    "        "
   ]
  },
  {
   "cell_type": "code",
   "execution_count": 121,
   "metadata": {},
   "outputs": [
    {
     "data": {
      "text/plain": [
       "[-4, -4, -4, -4]"
      ]
     },
     "execution_count": 121,
     "metadata": {},
     "output_type": "execute_result"
    }
   ],
   "source": [
    "distance2(a, b)"
   ]
  },
  {
   "cell_type": "code",
   "execution_count": 122,
   "metadata": {},
   "outputs": [],
   "source": [
    "def get_double(n):\n",
    "    \n",
    "    summation_total = 0\n",
    "    for i in range(len(n)):\n",
    "    \n",
    "        summation_n = n[i]**2\n",
    "        summation_total+=summation_n\n",
    "    \n",
    "    \n",
    "    \n",
    "    length_n = summation_total**(1/2)\n",
    "    return length_n\n",
    "    "
   ]
  },
  {
   "cell_type": "code",
   "execution_count": 123,
   "metadata": {},
   "outputs": [],
   "source": [
    "def uclid_similarity(a, b):\n",
    "    double_list = distance2(a, b)\n",
    "    \n",
    "    \n",
    "    length_ucline = get_length(double_list)\n",
    "    \n",
    "    \n",
    "    \n",
    "    return length_ucline"
   ]
  },
  {
   "cell_type": "code",
   "execution_count": 124,
   "metadata": {},
   "outputs": [
    {
     "data": {
      "text/plain": [
       "8.0"
      ]
     },
     "execution_count": 124,
     "metadata": {},
     "output_type": "execute_result"
    }
   ],
   "source": [
    "uclid_similarity(a, b)"
   ]
  },
  {
   "cell_type": "code",
   "execution_count": 125,
   "metadata": {},
   "outputs": [],
   "source": [
    "# at once: Euclide distance\n",
    "def distance(a, b):\n",
    "    cs = []\n",
    "    for i in range(len(a)):\n",
    "        c = (a[i] - b[i])**2\n",
    "        cs.append(c)\n",
    "        \n",
    "    return sum(cs) ** (1/2)"
   ]
  },
  {
   "cell_type": "code",
   "execution_count": 126,
   "metadata": {},
   "outputs": [
    {
     "data": {
      "text/plain": [
       "8.0"
      ]
     },
     "execution_count": 126,
     "metadata": {},
     "output_type": "execute_result"
    }
   ],
   "source": [
    "distance(a, b)"
   ]
  },
  {
   "cell_type": "markdown",
   "metadata": {},
   "source": [
    "### using two distances KNN"
   ]
  },
  {
   "cell_type": "markdown",
   "metadata": {},
   "source": [
    "#### KNN1: the most similar one"
   ]
  },
  {
   "cell_type": "code",
   "execution_count": 127,
   "metadata": {},
   "outputs": [],
   "source": [
    "\n",
    "# default 는 맨 마지막\n",
    "def knn(dataset, obj, method, k=1): \n",
    "    \n",
    "    target = dataset[obj]\n",
    "    \n",
    "    if method == cosine_similarity:\n",
    "        result_css = []\n",
    "        for i in range(len(dataset)):\n",
    "            if obj != i:\n",
    "                result_cos = cosine_similarity(dataset[i], target)\n",
    "                \n",
    "            else:\n",
    "                result_cos = -1\n",
    "                \n",
    "            result_css.append(result_cos)\n",
    "        \n",
    "        for i in range((len(dataset))):\n",
    "            zes = max(result_css) \n",
    "            if zes == result_css[i]:\n",
    "                most_similar = i\n",
    "    \n",
    "    elif method == uclid_similarity:\n",
    "        result_css = []\n",
    "        for i in range(len(dataset)):\n",
    "            if obj != i:\n",
    "                result_uclid = distance(dataset[i], target)\n",
    "                \n",
    "            else:\n",
    "                result_uclid = 1000\n",
    "                \n",
    "            result_css.append(result_uclid)\n",
    "        \n",
    "        for i in range((len(dataset))):\n",
    "            zes = min(result_css) \n",
    "            if zes == result_css[i]:\n",
    "                most_similar = i\n",
    "    \n",
    "        \n",
    "                           \n",
    "        \n",
    "        return most_similar\n",
    "        \n",
    "    \n",
    "    \n",
    "    "
   ]
  },
  {
   "cell_type": "code",
   "execution_count": 128,
   "metadata": {},
   "outputs": [
    {
     "data": {
      "text/plain": [
       "2"
      ]
     },
     "execution_count": 128,
     "metadata": {},
     "output_type": "execute_result"
    }
   ],
   "source": [
    "knn(dataset, 1, uclid_similarity)"
   ]
  },
  {
   "cell_type": "code",
   "execution_count": 129,
   "metadata": {},
   "outputs": [
    {
     "name": "stdout",
     "output_type": "stream",
     "text": [
      "0.9688639316269662 0.9688639316269662 1.0\n"
     ]
    }
   ],
   "source": [
    "print(cosine_similarity(a, b), cosine_similarity(b, c), cosine_similarity(c, a))"
   ]
  },
  {
   "cell_type": "code",
   "execution_count": 130,
   "metadata": {},
   "outputs": [
    {
     "name": "stdout",
     "output_type": "stream",
     "text": [
      "8.0 3.7416573867739413 5.477225575051661\n"
     ]
    }
   ],
   "source": [
    "print(uclid_similarity(a, b), uclid_similarity(b, c), uclid_similarity(c, a))"
   ]
  },
  {
   "cell_type": "markdown",
   "metadata": {},
   "source": [
    "#### KNN2: the most similar ones(숙제 top k 찾기)"
   ]
  },
  {
   "cell_type": "markdown",
   "metadata": {},
   "source": [
    "##### Try2"
   ]
  },
  {
   "cell_type": "code",
   "execution_count": 131,
   "metadata": {},
   "outputs": [],
   "source": [
    "# 구조1: cosine_similarity 거리 구하는 함수\n",
    "method = cosine_similarity  \n",
    "target = dataset[1]\n",
    "obj = 1\n",
    "    \n",
    "if method == cosine_similarity:\n",
    "    result_css = []\n",
    "    for i in range(len(dataset)):\n",
    "        if obj != i:\n",
    "            result_cos = cosine_similarity(dataset[i], target)\n",
    "\n",
    "        else:\n",
    "            result_cos = -1\n",
    "\n",
    "        result_css.append(result_cos)   "
   ]
  },
  {
   "cell_type": "code",
   "execution_count": 132,
   "metadata": {},
   "outputs": [
    {
     "data": {
      "text/plain": [
       "[0.9688639316269662, -1, 0.9485948938850817]"
      ]
     },
     "execution_count": 132,
     "metadata": {},
     "output_type": "execute_result"
    }
   ],
   "source": [
    "result_css"
   ]
  },
  {
   "cell_type": "code",
   "execution_count": 133,
   "metadata": {},
   "outputs": [],
   "source": [
    "#구조2 : result_css의 index와 value 각각 list만들어서 남겨놓고, tuple로 저장\n",
    "# values만 sort()\n",
    "\n",
    "values = []\n",
    "idexes = []\n",
    "for idx, value in enumerate(result_css):\n",
    "    idexes.append(idx) \n",
    "    values.append(value)\n",
    "    pairs = [pair for pair in zip(idexes, values)]\n",
    "    values.sort(reverse = True)"
   ]
  },
  {
   "cell_type": "code",
   "execution_count": 134,
   "metadata": {},
   "outputs": [
    {
     "data": {
      "text/plain": [
       "[0.9688639316269662, 0.9485948938850817, -1]"
      ]
     },
     "execution_count": 134,
     "metadata": {},
     "output_type": "execute_result"
    }
   ],
   "source": [
    "values"
   ]
  },
  {
   "cell_type": "code",
   "execution_count": 135,
   "metadata": {},
   "outputs": [],
   "source": [
    "# sort된 values의 r와 미리 저장해둔 tuple의 v 비교해서, 원~~래 i\n",
    "\n",
    "most_similar_idx_list = []\n",
    "for i in range(len(values)):\n",
    "    for v in range(len(pairs)):\n",
    "        if values[i] == pairs[v][1]:\n",
    "            most_similar_idx = v\n",
    "            most_similar_idx_list.append(most_similar_idx)"
   ]
  },
  {
   "cell_type": "code",
   "execution_count": 136,
   "metadata": {},
   "outputs": [
    {
     "data": {
      "text/plain": [
       "[0, 2, 1]"
      ]
     },
     "execution_count": 136,
     "metadata": {},
     "output_type": "execute_result"
    }
   ],
   "source": [
    "most_similar_idx_list"
   ]
  },
  {
   "cell_type": "code",
   "execution_count": 137,
   "metadata": {},
   "outputs": [],
   "source": [
    "\n",
    "# default 는 맨 마지막\n",
    "def knn2(dataset, obj, method, k): \n",
    "    \n",
    "    target = dataset[obj]\n",
    "    \n",
    "    if method == cosine_similarity:\n",
    "        result_css = []\n",
    "        for i in range(len(dataset)):\n",
    "            if obj != i:\n",
    "                result_cos = cosine_similarity(dataset[i], target)\n",
    "                \n",
    "            else:\n",
    "                result_cos = -1\n",
    "                \n",
    "            result_css.append(result_cos)\n",
    "        print(\"result_css: \", result_css)\n",
    "\n",
    "        \n",
    "        values = []\n",
    "        idexes = []\n",
    "        for idx, value in enumerate(result_css):\n",
    "            idexes.append(idx) \n",
    "            values.append(value)\n",
    "            pairs = [pair for pair in zip(idexes, values)]\n",
    "            values.sort(reverse = True)\n",
    "        print(\"values: \", values)\n",
    "\n",
    "        most_similar_idx_list = []\n",
    "        for r in range(len(values)):\n",
    "            for v in range(len(pairs)):\n",
    "                if values[r] == pairs[v][1]:\n",
    "                    most_similar_idx = v\n",
    "                    most_similar_idx_list.append(most_similar_idx)\n",
    "        answer = most_similar_idx_list[:k]   \n",
    "        print(\"cosine_most_similar_k개_list: \", answer)\n",
    "    \n",
    "    elif method == uclid_similarity:\n",
    "        result_css = []\n",
    "        for i in range(len(dataset)):\n",
    "            if obj != i:\n",
    "                result_uclid = distance(dataset[i], target)\n",
    "                \n",
    "            else:\n",
    "                result_uclid = 1000\n",
    "                \n",
    "            result_css.append(result_uclid)\n",
    "        print(\"result_css_uclide: \", result_css)\n",
    "        \n",
    "        values = []\n",
    "        idexes = []\n",
    "        for idx, value in enumerate(result_css):\n",
    "            idexes.append(idx) \n",
    "            values.append(value)\n",
    "            pairs = [pair for pair in zip(idexes, values)]\n",
    "            values.sort(reverse = False)\n",
    "        print(\"values_uclide: \", values)\n",
    "\n",
    "        most_similar_idx_list = []\n",
    "        for r in range(len(values)):\n",
    "            for v in range(len(pairs)):\n",
    "                if values[r] == pairs[v][1]:\n",
    "                    most_similar_idx = v\n",
    "                    most_similar_idx_list.append(most_similar_idx)\n",
    "        answer =  most_similar_idx_list[:k]   \n",
    "        print(\"uclide_most_similar_k개_list: \", answer)\n",
    "        \n",
    "                           \n",
    "        \n",
    "    return answer \n"
   ]
  },
  {
   "cell_type": "code",
   "execution_count": 138,
   "metadata": {},
   "outputs": [
    {
     "name": "stdout",
     "output_type": "stream",
     "text": [
      "result_css:  [0.9688639316269662, -1, 0.9485948938850817]\n",
      "values:  [0.9688639316269662, 0.9485948938850817, -1]\n",
      "cosine_most_similar_k개_list:  [0, 2]\n"
     ]
    },
    {
     "data": {
      "text/plain": [
       "[0, 2]"
      ]
     },
     "execution_count": 138,
     "metadata": {},
     "output_type": "execute_result"
    }
   ],
   "source": [
    "### test\n",
    "knn2(dataset, 1, cosine_similarity, 2)"
   ]
  },
  {
   "cell_type": "code",
   "execution_count": 139,
   "metadata": {},
   "outputs": [
    {
     "name": "stdout",
     "output_type": "stream",
     "text": [
      "result_css_uclide:  [8.0, 1000, 5.0]\n",
      "values_uclide:  [5.0, 8.0, 1000]\n",
      "uclide_most_similar_k개_list:  [2, 0]\n"
     ]
    },
    {
     "data": {
      "text/plain": [
       "[2, 0]"
      ]
     },
     "execution_count": 139,
     "metadata": {},
     "output_type": "execute_result"
    }
   ],
   "source": [
    "### test2\n",
    "knn2(dataset, 1, uclid_similarity, 2)"
   ]
  },
  {
   "cell_type": "markdown",
   "metadata": {},
   "source": [
    "#### shortening 1: \n",
    "- enumerate & zip 함수(2단계)를 -> append 2개 변수, sorted 함수, list comprehension 사용해서 줄임 "
   ]
  },
  {
   "cell_type": "code",
   "execution_count": 140,
   "metadata": {},
   "outputs": [],
   "source": [
    "\n",
    "# default 는 맨 마지막\n",
    "def knn3(dataset, obj, method, k): \n",
    "    \n",
    "    target = dataset[obj]\n",
    "    \n",
    "    if method == cosine_similarity:\n",
    "        result_css = []\n",
    "        for i in range(len(dataset)):\n",
    "            if obj != i:\n",
    "                result_cos = cosine_similarity(dataset[i], target)\n",
    "                \n",
    "            else:\n",
    "                result_cos = -1\n",
    "                \n",
    "            result_css.append(result_cos)\n",
    "        print(\"result_css: \", result_css)\n",
    "\n",
    "        \n",
    "        zipped = []\n",
    "\n",
    "        for idx, value in enumerate(result_css):\n",
    "            zipped.append((idx, value))\n",
    "        Answer = sorted(zipped, key = lambda x : -x[1])\n",
    "        \n",
    "        result = list(x[0] for x in Answer)\n",
    "    \n",
    "    elif method == uclid_similarity:\n",
    "        result_css = []\n",
    "        for i in range(len(dataset)):\n",
    "            if obj != i:\n",
    "                result_uclid = distance(dataset[i], target)\n",
    "                \n",
    "            else:\n",
    "                result_uclid = 1000\n",
    "                \n",
    "            result_css.append(result_uclid)\n",
    "        print(\"result_css_uclide: \", result_css)\n",
    "        \n",
    "        pairs = []\n",
    "\n",
    "        for idx, value in enumerate(result_css):\n",
    "            # append는 두 변수 다 넣어서 tuple로 만들어 놓을 수 있음\n",
    "            pairs.append((idx, value))\n",
    "        # sorted 함수 사용해서 pairs tuple 에서 value 기준으로 key지정 정렬할 수 있음\n",
    "        Answer = sorted(pairs, key = lambda x : x[1])\n",
    "        \n",
    "        # value 기준으로 정렬한 pair tuple에서 idx만 뽑아서 list만들고 결과 result로 지정\n",
    "        result = list(x[0] for x in Answer)\n",
    "                           \n",
    "        \n",
    "    return result \n"
   ]
  },
  {
   "cell_type": "markdown",
   "metadata": {},
   "source": [
    "#### shortening2 : \n",
    "- if/elif 해서 경우 분류할 필요 x \n",
    "- method를 입력하면 바로 지정해놓은 함수 실행할 수 있도록 method()로 변수 만들어놓기"
   ]
  },
  {
   "cell_type": "code",
   "execution_count": 141,
   "metadata": {},
   "outputs": [],
   "source": [
    "# 개념1\n",
    "def define_method_itself(method):\n",
    "    print(\"hello world\")\n",
    "    return method()"
   ]
  },
  {
   "cell_type": "code",
   "execution_count": 142,
   "metadata": {},
   "outputs": [],
   "source": [
    "def similarity():\n",
    "    print(\"hi\")\n",
    "    return "
   ]
  },
  {
   "cell_type": "code",
   "execution_count": 143,
   "metadata": {},
   "outputs": [
    {
     "name": "stdout",
     "output_type": "stream",
     "text": [
      "hello world\n",
      "hi\n"
     ]
    }
   ],
   "source": [
    "define_method_itself(similarity)"
   ]
  },
  {
   "cell_type": "code",
   "execution_count": 144,
   "metadata": {},
   "outputs": [
    {
     "data": {
      "text/plain": [
       "[2, 0, 1]"
      ]
     },
     "execution_count": 144,
     "metadata": {},
     "output_type": "execute_result"
    }
   ],
   "source": [
    "# 개념2: list comprehension\n",
    "result = list(x[0] for x in Answer)\n",
    "result"
   ]
  },
  {
   "cell_type": "code",
   "execution_count": 65,
   "metadata": {},
   "outputs": [],
   "source": [
    "# cosine similarity 랑 uclide similarity 랑 코드 똑같이 하기 위해\n",
    "# negative cosine similarity 함수로 만들어둠\n",
    "# 호출할 때, ncos/uclide similarity로 method parameter 지정하면 됌\n",
    "def ncos(a, b):\n",
    "    return (-1)*cosine_similarity(a, b)"
   ]
  },
  {
   "cell_type": "code",
   "execution_count": 145,
   "metadata": {},
   "outputs": [],
   "source": [
    "def knn4(dataset, obj, method, k):\n",
    "    \n",
    "    target = dataset[obj]\n",
    "    \n",
    "    # list comprehension -> no need to have enumerate -> zip\n",
    "    #idx 변수 그대로 가져옴\n",
    "    scores = list((idx,method(dataset[idx], target)) for idx in range(len(dataset)) if idx!=obj) \n",
    "    # 위에 method = ncos라고 하면 바로 위에 method() = ncos() 실행되는 거임\n",
    "    Answer = sorted(scores, key = lambda x: x[1])\n",
    "    result = list(x[0] for x in Answer)\n",
    "    \n",
    "    return result[:k]\n",
    "   \n",
    "    \n",
    "    \n",
    "    \n",
    "    "
   ]
  },
  {
   "cell_type": "code",
   "execution_count": 146,
   "metadata": {},
   "outputs": [
    {
     "data": {
      "text/plain": [
       "[1, 2]"
      ]
     },
     "execution_count": 146,
     "metadata": {},
     "output_type": "execute_result"
    }
   ],
   "source": [
    "knn4(dataset, 0, mydistnace, 2)"
   ]
  },
  {
   "cell_type": "code",
   "execution_count": 147,
   "metadata": {},
   "outputs": [],
   "source": [
    "def mydistnace(a,b) :\n",
    "    return sum(list( i*a[i]*b[i] for i in range(len(a))))\n",
    "    \n",
    "    "
   ]
  },
  {
   "cell_type": "code",
   "execution_count": 149,
   "metadata": {},
   "outputs": [
    {
     "data": {
      "text/plain": [
       "[(0, 70), (1, 150), (2, 200)]"
      ]
     },
     "execution_count": 149,
     "metadata": {},
     "output_type": "execute_result"
    }
   ],
   "source": [
    "scores = list((idx, mydistnace(dataset[idx], dataset[0])) for idx in range(len(dataset)))\n",
    "scores"
   ]
  },
  {
   "cell_type": "code",
   "execution_count": null,
   "metadata": {},
   "outputs": [],
   "source": []
  },
  {
   "cell_type": "code",
   "execution_count": null,
   "metadata": {},
   "outputs": [],
   "source": [
    "##### Try1"
   ]
  },
  {
   "cell_type": "code",
   "execution_count": 60,
   "metadata": {},
   "outputs": [],
   "source": [
    "\n",
    "<# default 는 맨 마지막\n",
    "def knn1(dataset, obj, method, k): \n",
    "    \n",
    "    target = dataset[obj]\n",
    "    \n",
    "    if method == cosine_similarity:\n",
    "        result_css = []\n",
    "        for i in range(len(dataset)):\n",
    "            if obj != i:\n",
    "                result_cos = cosine_similarity(dataset[i], target)\n",
    "                \n",
    "            else:\n",
    "                result_cos = -1\n",
    "                \n",
    "            result_css.append(result_cos)\n",
    "            \n",
    "        \n",
    "        # 최고로 가까운 값 k개\n",
    "        result_css2 = result_css\n",
    "        \n",
    "        \n",
    "        # 이중 루프 사용하려고 했는데, return 값이 아무것도 안 나옴   \n",
    "        while len(result_css2) != 0:\n",
    "            most_similars = []    \n",
    "            zes = max(result_css2)\n",
    "            for i in range((len(result_css2))):\n",
    "              \n",
    "                if zes == result_css2[i]:\n",
    "                    most_similar = i\n",
    "                    most_similars.append(most_similar)\n",
    "            result_css2.remove(max(result_css2))\n",
    "            \n",
    "            k_most_similar = most_similars[0:k]\n",
    "            print(k_most_similar)\n",
    "    elif method == uclid_similarity:\n",
    "        result_css = []\n",
    "        for i in range(len(dataset)):\n",
    "            if obj != i:\n",
    "                result_uclid = distance(dataset[i], target)\n",
    "                \n",
    "            else:\n",
    "                result_uclid = 1000\n",
    "                \n",
    "            result_css.append(result_uclid)\n",
    "        \n",
    "        # 최고로 가까운 값\n",
    "        most_similars = []\n",
    "        for i in range(len(dataset)):\n",
    "            zes = min(result_css) \n",
    "            if zes == result_css[i]:\n",
    "                most_similar = i\n",
    "    \n",
    "        \n",
    "                           \n",
    "        \n",
    "        return most_similars>\n",
    "        \n",
    "    \n",
    "    \n",
    "    "
   ]
  },
  {
   "cell_type": "code",
   "execution_count": 61,
   "metadata": {},
   "outputs": [
    {
     "name": "stdout",
     "output_type": "stream",
     "text": [
      "[0]\n",
      "[1]\n",
      "[0]\n"
     ]
    }
   ],
   "source": [
    "<knn1(dataset, 1, cosine_similarity, 2)>"
   ]
  },
  {
   "cell_type": "code",
   "execution_count": null,
   "metadata": {},
   "outputs": [],
   "source": []
  }
 ],
 "metadata": {
  "kernelspec": {
   "display_name": "Python 3",
   "language": "python",
   "name": "python3"
  },
  "language_info": {
   "codemirror_mode": {
    "name": "ipython",
    "version": 3
   },
   "file_extension": ".py",
   "mimetype": "text/x-python",
   "name": "python",
   "nbconvert_exporter": "python",
   "pygments_lexer": "ipython3",
   "version": "3.7.7"
  }
 },
 "nbformat": 4,
 "nbformat_minor": 4
}

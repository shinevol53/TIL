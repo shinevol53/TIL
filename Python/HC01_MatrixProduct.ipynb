{
 "cells": [
  {
   "cell_type": "code",
   "execution_count": null,
   "metadata": {},
   "outputs": [],
   "source": [
    "### 행렬 곱 (이차 for 문):\n",
    "\n",
    "def matrix_dot(a, b):\n",
    "    \n",
    "    c = []\n",
    "    c_0 = []\n",
    "    for i in range(len(b)): \n",
    "        for n in range(len(b)):\n",
    "            c[i][n] = a[i][n] * b[n][i]\n",
    "            c_0.append(c[i][n])\n",
    "        return \n",
    "            \n",
    "    "
   ]
  },
  {
   "cell_type": "code",
   "execution_count": 620,
   "metadata": {},
   "outputs": [],
   "source": [
    "c = [['', ''],\n",
    "    ['', '']]\n"
   ]
  },
  {
   "cell_type": "code",
   "execution_count": 600,
   "metadata": {},
   "outputs": [
    {
     "data": {
      "text/plain": [
       "[[1, 2], [3, 4]]"
      ]
     },
     "execution_count": 600,
     "metadata": {},
     "output_type": "execute_result"
    }
   ],
   "source": [
    "a = [[1, 2], \n",
    "     [3, 4]]\n",
    "a"
   ]
  },
  {
   "cell_type": "code",
   "execution_count": 601,
   "metadata": {},
   "outputs": [
    {
     "data": {
      "text/plain": [
       "[[5, 6], [7, 8]]"
      ]
     },
     "execution_count": 601,
     "metadata": {},
     "output_type": "execute_result"
    }
   ],
   "source": [
    "b = [[5, 6],\n",
    "    [7, 8]]\n",
    "b"
   ]
  },
  {
   "cell_type": "code",
   "execution_count": 176,
   "metadata": {},
   "outputs": [],
   "source": [
    "Answer_c = [[19, 22],\n",
    "           [15, 28]] "
   ]
  },
  {
   "cell_type": "code",
   "execution_count": 285,
   "metadata": {},
   "outputs": [
    {
     "data": {
      "text/plain": [
       "19"
      ]
     },
     "execution_count": 285,
     "metadata": {},
     "output_type": "execute_result"
    }
   ],
   "source": [
    "Answer_c[0][0]"
   ]
  },
  {
   "cell_type": "code",
   "execution_count": 608,
   "metadata": {},
   "outputs": [
    {
     "data": {
      "text/plain": [
       "[[19, 22], [43, 50]]"
      ]
     },
     "execution_count": 608,
     "metadata": {},
     "output_type": "execute_result"
    }
   ],
   "source": [
    "mm=2\n",
    "nn=2\n",
    "kk=2\n",
    "\n",
    "# list 정의는 항상 append하려는 for문 수식 '바로 앞'에 하자!\n",
    "c_1 = []\n",
    "for m in range(mm): \n",
    "    c_0 = []\n",
    "    for k in range(kk):\n",
    "        element = 0\n",
    "        for n in range(nn):\n",
    "            element  +=  a[m][n]*b[n][k]\n",
    "            \n",
    "        c_0.append(element)\n",
    "        \n",
    "    c_1.append(c_0)\n",
    "            \n",
    "c_1\n"
   ]
  },
  {
   "cell_type": "code",
   "execution_count": 622,
   "metadata": {},
   "outputs": [
    {
     "data": {
      "text/plain": [
       "[[19, 22], [43, 50]]"
      ]
     },
     "execution_count": 622,
     "metadata": {},
     "output_type": "execute_result"
    }
   ],
   "source": [
    "mm = 2\n",
    "nn = 2\n",
    "kk = 2\n",
    "\n",
    "\n",
    "for m in range(mm):   \n",
    "    for k in range(kk):\n",
    "        summation = 0\n",
    "        for n in range(nn):\n",
    "            element = a[m][n]*b[n][k]\n",
    "            summation = summation + element\n",
    "       \n",
    "        c[m][k] = summation\n",
    "\n",
    "c"
   ]
  },
  {
   "cell_type": "code",
   "execution_count": null,
   "metadata": {},
   "outputs": [],
   "source": []
  },
  {
   "cell_type": "code",
   "execution_count": null,
   "metadata": {},
   "outputs": [],
   "source": []
  }
 ],
 "metadata": {
  "kernelspec": {
   "display_name": "Python 3",
   "language": "python",
   "name": "python3"
  },
  "language_info": {
   "codemirror_mode": {
    "name": "ipython",
    "version": 3
   },
   "file_extension": ".py",
   "mimetype": "text/x-python",
   "name": "python",
   "nbconvert_exporter": "python",
   "pygments_lexer": "ipython3",
   "version": "3.7.7"
  }
 },
 "nbformat": 4,
 "nbformat_minor": 4
}

{
 "cells": [
  {
   "cell_type": "markdown",
   "metadata": {},
   "source": [
    "### MatrixProduct"
   ]
  },
  {
   "cell_type": "code",
   "execution_count": 18,
   "metadata": {},
   "outputs": [],
   "source": [
    "a = [[1, 2], \n",
    "     [3, 4]]\n",
    "b = [[5, 6],\n",
    "    [7, 8]]"
   ]
  },
  {
   "cell_type": "code",
   "execution_count": 620,
   "metadata": {},
   "outputs": [],
   "source": [
    "# c를 미리 만들어놓고 테스트 만들어보기\n",
    "c = [['', ''],\n",
    "    ['', '']]"
   ]
  },
  {
   "cell_type": "code",
   "execution_count": 608,
   "metadata": {},
   "outputs": [
    {
     "data": {
      "text/plain": [
       "[[19, 22], [43, 50]]"
      ]
     },
     "execution_count": 608,
     "metadata": {},
     "output_type": "execute_result"
    }
   ],
   "source": [
    "# matrix product(a, b) -> c \n",
    "# try 1: 정방행렬 경우에만 적용되는 코드\n",
    "# list append로 만듦\n",
    "\n",
    "mm=2\n",
    "nn=2\n",
    "kk=2\n",
    "\n",
    "# list 정의는 항상 append하려는 for문 수식 '바로 앞'에 하자!\n",
    "c_1 = []\n",
    "for m in range(mm): \n",
    "    c_0 = []\n",
    "    for k in range(kk):\n",
    "        element = 0\n",
    "        for n in range(nn):\n",
    "            element  +=  a[m][n]*b[n][k]\n",
    "            \n",
    "        c_0.append(element)\n",
    "        \n",
    "    c_1.append(c_0)\n",
    "            \n",
    "c_1\n"
   ]
  },
  {
   "cell_type": "code",
   "execution_count": 10,
   "metadata": {},
   "outputs": [
    {
     "name": "stdout",
     "output_type": "stream",
     "text": [
      "list_k[0]; [0]\n",
      "list_k[1]; [0, 0]\n",
      "list_k[2]; [0, 0, 0]\n",
      "list_k[3]; [0, 0, 0, 0]\n",
      "list_m[0]; [[0, 0, 0, 0]]\n",
      "list_k[0]; [0]\n",
      "list_k[1]; [0, 0]\n",
      "list_k[2]; [0, 0, 0]\n",
      "list_k[3]; [0, 0, 0, 0]\n",
      "list_m[1]; [[0, 0, 0, 0], [0, 0, 0, 0]]\n"
     ]
    },
    {
     "data": {
      "text/plain": [
       "[[0, 0, 0, 0], [0, 0, 0, 0]]"
      ]
     },
     "execution_count": 10,
     "metadata": {},
     "output_type": "execute_result"
    }
   ],
   "source": [
    "# try 2 : c를 미리 안 만들어놓고 matrix a의 m*n과 matrix b의 n*k로만 만들기\n",
    "# c 행렬 만드는 코드\n",
    "\n",
    "mm = 2\n",
    "kk = 4\n",
    "\n",
    "list_k = []\n",
    "list_m = []\n",
    "\n",
    "for m in range(mm):\n",
    "    list_k = []\n",
    "    for k in range(kk):\n",
    "        \n",
    "        k_element = 0\n",
    "        list_k.append(k_element)\n",
    "        print(f'list_k[{k}];' ,list_k)\n",
    "    \n",
    "    list_m.append(list_k)\n",
    "    print(f'list_m[{m}];' ,list_m)\n",
    "list_m"
   ]
  },
  {
   "cell_type": "code",
   "execution_count": 11,
   "metadata": {},
   "outputs": [
    {
     "name": "stdout",
     "output_type": "stream",
     "text": [
      "3\n",
      "[1, 2, 3, 4, 4]\n"
     ]
    }
   ],
   "source": [
    "# 참고할 개념: 값과 참조\n",
    "# 값: int, str은 값\n",
    "# 참조: 그 외 대부분은 참조로 불러들임\n",
    "\n",
    "# 값 적용될 때: value_a를 변경해도, value_b에는 영향을 안 미침\n",
    "value_a = 1\n",
    "value_b = value_a + 2\n",
    "value_a = 2\n",
    "print(value_b)\n",
    "\n",
    "# 참조 적용될 때: list_a를 변경하면, list_b에는 영향을 미침\n",
    "# list_b가 list_a의 link를 참고했기 때문\n",
    "\n",
    "list_a = [1, 2, 3, 4]\n",
    "list_b = list_a\n",
    "\n",
    "list_a.append(4)\n",
    "print(list_b)"
   ]
  },
  {
   "cell_type": "code",
   "execution_count": 16,
   "metadata": {},
   "outputs": [],
   "source": [
    "# 얕은 copy와 deepcopy의 개념이 나옴\n",
    "from copy import deepcopy "
   ]
  },
  {
   "cell_type": "code",
   "execution_count": 23,
   "metadata": {},
   "outputs": [
    {
     "name": "stdout",
     "output_type": "stream",
     "text": [
      "list_k[0]; [0]\n",
      "list_k[1]; [0, 0]\n",
      "list_k[2]; [0, 0, 0]\n",
      "list_k[3]; [0, 0, 0, 0]\n",
      "list_m[0]; [[0, 0, 0, 0]]\n",
      "list_k[0]; [0, 0, 0, 0, 0]\n",
      "list_k[1]; [0, 0, 0, 0, 0, 0]\n",
      "list_k[2]; [0, 0, 0, 0, 0, 0, 0]\n",
      "list_k[3]; [0, 0, 0, 0, 0, 0, 0, 0]\n",
      "list_m[1]; [[0, 0, 0, 0], [0, 0, 0, 0, 0, 0, 0, 0]]\n"
     ]
    },
    {
     "data": {
      "text/plain": [
       "[[0, 0, 0, 0], [0, 0, 0, 0, 0, 0, 0, 0]]"
      ]
     },
     "execution_count": 23,
     "metadata": {},
     "output_type": "execute_result"
    }
   ],
   "source": [
    "list_k = []\n",
    "list_m = []\n",
    "for m in range(mm):\n",
    "    #list_k = []\n",
    "    for k in range(kk):\n",
    "        \n",
    "        k_element = 0\n",
    "        list_k.append(k_element)\n",
    "        print(f'list_k[{k}];' ,list_k)\n",
    "    new_list = deepcopy(list_k)\n",
    "    list_m.append(new_list)\n",
    "    print(f'list_m[{m}];' ,list_m)\n",
    "list_m"
   ]
  },
  {
   "cell_type": "code",
   "execution_count": 12,
   "metadata": {},
   "outputs": [],
   "source": [
    "# 함수로 만들기\n",
    "def matrix_product(a, b):\n",
    "    # mm, nn, kk를 추출하는 변수 정의\n",
    "    mm = len(a)\n",
    "    nn = len(a[0])\n",
    "    kk = len(b[0])\n",
    "    c = list(list(0 for k in range(kk)) for m in range(mm))\n",
    "    for m in range(mm):   \n",
    "        for k in range(kk):\n",
    "            summation = 0\n",
    "            for n in range(nn):\n",
    "                element = a[m][n]*b[n][k]\n",
    "                summation = summation + element\n",
    "\n",
    "            c[m][k] = summation\n",
    "    return c"
   ]
  },
  {
   "cell_type": "code",
   "execution_count": 13,
   "metadata": {},
   "outputs": [
    {
     "data": {
      "text/plain": [
       "[[11, 14, 17, 20], [23, 30, 37, 44], [35, 46, 57, 68]]"
      ]
     },
     "execution_count": 13,
     "metadata": {},
     "output_type": "execute_result"
    }
   ],
   "source": [
    "#test1\n",
    "\n",
    "d = [[1, 2],\n",
    "    [3, 4], \n",
    "    [5, 6]]\n",
    "\n",
    "e = [[1, 2, 3, 4],\n",
    "    [5,6, 7, 8]]\n",
    "\n",
    "matrix_product(d, e)"
   ]
  },
  {
   "cell_type": "code",
   "execution_count": 17,
   "metadata": {},
   "outputs": [
    {
     "data": {
      "text/plain": [
       "[[10, 20, 30, 40]]"
      ]
     },
     "execution_count": 17,
     "metadata": {},
     "output_type": "execute_result"
    }
   ],
   "source": [
    "#test2\n",
    "\n",
    "f = [1, 2, 3, 4]\n",
    "\n",
    "g = [f, f, f, f]\n",
    "\n",
    "f_a = deepcopy(f)\n",
    "\n",
    "f_a = [f_a]\n",
    "\n",
    "matrix_product(f_a, g)"
   ]
  }
 ],
 "metadata": {
  "kernelspec": {
   "display_name": "Python 3",
   "language": "python",
   "name": "python3"
  },
  "language_info": {
   "codemirror_mode": {
    "name": "ipython",
    "version": 3
   },
   "file_extension": ".py",
   "mimetype": "text/x-python",
   "name": "python",
   "nbconvert_exporter": "python",
   "pygments_lexer": "ipython3",
   "version": "3.7.7"
  }
 },
 "nbformat": 4,
 "nbformat_minor": 4
}

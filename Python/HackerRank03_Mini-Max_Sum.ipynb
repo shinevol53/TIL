{
 "cells": [
  {
   "cell_type": "markdown",
   "metadata": {},
   "source": [
    "### problem"
   ]
  },
  {
   "cell_type": "markdown",
   "metadata": {},
   "source": [
    "Given five positive integers, find the minimum and maximum values that can be calculated by summing exactly four of the five integers. Then print the respective minimum and maximum values as a single line of two space-separated long integers.\n",
    "\n",
    "For example, arr= [1, 3, 5, 7, 9]. Our minimum sum is  1 + 3 + 5 + 7 = 16 and our maximum sum is 3 + 5 + 7 + 9 = 24. We would print\n",
    "\n",
    "16 24\n",
    "\n",
    "- Function Description\n",
    "\n",
    "Complete the miniMaxSum function in the editor below. It should print two space-separated integers on one line: the minimum sum and the maximum sum of 4 of 5 elements.\n",
    "\n",
    "miniMaxSum has the following parameter(s):\n",
    "\n",
    "arr: an array of 5 integers\n",
    "\n",
    "- Input Format\n",
    "\n",
    "A single line of five space-separated integers.\n",
    "\n",
    "- Constraints\n",
    "\n",
    "1 <=  arr[i] <= 100000000 \n",
    "\n",
    "- Output Format\n",
    "\n",
    "Print two space-separated long integers denoting the respective minimum and maximum values that can be calculated by summing exactly four of the five integers. (The output can be greater than a 32 bit integer.)\n",
    "\n",
    "- Sample Input\n",
    "\n",
    "1 2 3 4 5\n",
    "\n",
    "- Sample Output\n",
    "\n",
    "10 14\n",
    "\n",
    "- Explanation\n",
    "\n",
    "Our initial numbers are , , , , and . We can calculate the following sums using four of the five integers:\n",
    "\n",
    "- If we sum everything except 1, our sum is 2 + 3 + 4 + 5 = 14.\n",
    "- If we sum everything except 2, our sum is 1 + 3 + 4 + 5 = 13.\n",
    "- If we sum everything except 3, our sum is 1 + 2 + 4 + 5 = 12.\n",
    "- If we sum everything except 4, our sum is 1 + 2 + 3 + 5 = 11.\n",
    "- If we sum everything except 5, our sum is 1 + 2 + 3 + 4 = 10.\n",
    "Hints: Beware of integer overflow! Use 64-bit Integer."
   ]
  },
  {
   "cell_type": "code",
   "execution_count": 51,
   "metadata": {},
   "outputs": [],
   "source": [
    "arr = [1, 2, 3, 4, 5]"
   ]
  },
  {
   "cell_type": "code",
   "execution_count": 52,
   "metadata": {},
   "outputs": [
    {
     "data": {
      "text/plain": [
       "1"
      ]
     },
     "execution_count": 52,
     "metadata": {},
     "output_type": "execute_result"
    }
   ],
   "source": [
    "min(arr)"
   ]
  },
  {
   "cell_type": "code",
   "execution_count": 6,
   "metadata": {},
   "outputs": [
    {
     "data": {
      "text/plain": [
       "10"
      ]
     },
     "execution_count": 6,
     "metadata": {},
     "output_type": "execute_result"
    }
   ],
   "source": [
    "sum(arr[0:index-1])"
   ]
  },
  {
   "cell_type": "markdown",
   "metadata": {},
   "source": [
    "### Answer"
   ]
  },
  {
   "cell_type": "code",
   "execution_count": 61,
   "metadata": {},
   "outputs": [],
   "source": [
    "def minMaxSum(arr):\n",
    "    \n",
    "    index = len(arr)\n",
    "    \n",
    "    for i, v in enumerate(arr):\n",
    "        \n",
    "        if min(arr) < max(arr):\n",
    "            \n",
    "            if arr[i] == min(arr):\n",
    "                maximumlist = arr\n",
    "                summation_max = sum(maximumlist)-min(arr)\n",
    "        \n",
    "            elif arr[i] == max(arr):\n",
    "            \n",
    "                minimumlist = arr\n",
    "                summation_min = sum(minimumlist)-max(arr)\n",
    "                \n",
    "            else:\n",
    "                pass\n",
    "        elif min(arr) == max(arr):\n",
    "            summation_min = sum(arr) - min(arr)\n",
    "            summation_max = sum(arr) - max(arr)\n",
    "    \n",
    "    return print(summation_min, summation_max)"
   ]
  },
  {
   "cell_type": "code",
   "execution_count": 62,
   "metadata": {},
   "outputs": [
    {
     "name": "stdout",
     "output_type": "stream",
     "text": [
      "5 5 5 5 5\n",
      "20 20\n"
     ]
    }
   ],
   "source": [
    "if __name__ == '__main__':\n",
    "    arr = list(map(int, input().rstrip().split()))\n",
    "    \n",
    "    minMaxSum(arr)"
   ]
  },
  {
   "cell_type": "code",
   "execution_count": null,
   "metadata": {},
   "outputs": [],
   "source": []
  }
 ],
 "metadata": {
  "kernelspec": {
   "display_name": "Python 3",
   "language": "python",
   "name": "python3"
  },
  "language_info": {
   "codemirror_mode": {
    "name": "ipython",
    "version": 3
   },
   "file_extension": ".py",
   "mimetype": "text/x-python",
   "name": "python",
   "nbconvert_exporter": "python",
   "pygments_lexer": "ipython3",
   "version": "3.7.4"
  }
 },
 "nbformat": 4,
 "nbformat_minor": 2
}

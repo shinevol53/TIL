{
 "cells": [
  {
   "cell_type": "code",
   "execution_count": 47,
   "metadata": {},
   "outputs": [
    {
     "data": {
      "text/plain": [
       "[2, 3, 6, 6, 5]"
      ]
     },
     "execution_count": 47,
     "metadata": {},
     "output_type": "execute_result"
    }
   ],
   "source": [
    "list2"
   ]
  },
  {
   "cell_type": "markdown",
   "metadata": {},
   "source": [
    "https://www.hackerrank.com/challenges/find-second-maximum-number-in-a-list/problem?h_r=next-challenge&h_v=zen"
   ]
  },
  {
   "cell_type": "markdown",
   "metadata": {},
   "source": [
    "### Try1: 비교한 수들을 append 하고 다시 비교"
   ]
  },
  {
   "cell_type": "code",
   "execution_count": 71,
   "metadata": {},
   "outputs": [],
   "source": [
    "uppers = []\n",
    "for a in range(0, n+1):\n",
    "    for b in range(0, a):\n",
    "        if a >= n:\n",
    "            break\n",
    "        else:\n",
    "            if list2[a] > list2[b]:\n",
    "                upper = list2[a]\n",
    "                if upper != max(list2):\n",
    "                    uppers.append(upper)\n",
    "                    for c in range(len(uppers)+1):\n",
    "                        c+=1\n",
    "                        if c+1 < len(uppers):\n",
    "                            if uppers[c] >= uppers[c+1]:\n",
    "                                runner_up  = uppers[c]\n",
    "                                print(runner_up)\n",
    "                               "
   ]
  },
  {
   "cell_type": "markdown",
   "metadata": {},
   "source": [
    "### Try 2 : 경우의 수를 비교해서 마지막 남은 수를 뽑는 방법으로 접근"
   ]
  },
  {
   "cell_type": "code",
   "execution_count": 50,
   "metadata": {},
   "outputs": [
    {
     "name": "stdout",
     "output_type": "stream",
     "text": [
      "5\n",
      "2 3 6 6 5\n",
      "5\n"
     ]
    }
   ],
   "source": [
    "if __name__ == '__main__':\n",
    "    n = int(input())\n",
    "    arr = map(int, input().split())\n",
    "    \n",
    "list2 = list(arr)\n",
    "list3 = list2\n",
    "\n",
    "for a in range(0, n):\n",
    "    for b in range(0, n):\n",
    "        if list2[a] != list3[b]:\n",
    "            if list2[a] >= list3[b]:\n",
    "                b+=1\n",
    "                if b+1 > n:\n",
    "                    break\n",
    "                elif list2[a] >= list3[b]:\n",
    "                    if b > n:\n",
    "                        break\n",
    "                    elif list2[a] > list3[b]:\n",
    "                        if list2[a] < max(list3):\n",
    "                            print(list2[a])\n",
    "        \n",
    "            \n",
    "        else:\n",
    "            pass\n",
    "        "
   ]
  },
  {
   "cell_type": "markdown",
   "metadata": {},
   "source": [
    "### 오류 [57 57 -57 57]인 리스트는 통과 못함!"
   ]
  },
  {
   "cell_type": "markdown",
   "metadata": {},
   "source": [
    "### 정답: \n",
    "- remove함수 사용, 원래 max(list) == max(수정된list)인 경우만 max 삭제하고 남은 리스트 중 max뽑음(2번째 max)"
   ]
  },
  {
   "cell_type": "code",
   "execution_count": 63,
   "metadata": {},
   "outputs": [
    {
     "name": "stdout",
     "output_type": "stream",
     "text": [
      "4\n",
      "57 57 -57 57\n",
      "-57\n"
     ]
    }
   ],
   "source": [
    "if __name__ == '__main__':\n",
    "    n = int(input())\n",
    "    arr = list(map(int, input().split()))\n",
    "    zes = max(arr)\n",
    "    i = 0\n",
    "    for i in range(n):\n",
    "        if zes == max(arr):\n",
    "            arr.remove(max(arr))\n",
    "            \n",
    "print(max(arr))"
   ]
  },
  {
   "cell_type": "markdown",
   "metadata": {},
   "source": [
    "### 회고\n",
    "- 접근 방법이 달랐음\n",
    "- 내가 선택한 접근, 작은 수들을 빼가면서\n",
    "- 정답인 접근, 큰 수들을 바로 빼면 됌"
   ]
  },
  {
   "cell_type": "code",
   "execution_count": null,
   "metadata": {},
   "outputs": [],
   "source": []
  }
 ],
 "metadata": {
  "kernelspec": {
   "display_name": "Python 3",
   "language": "python",
   "name": "python3"
  },
  "language_info": {
   "codemirror_mode": {
    "name": "ipython",
    "version": 3
   },
   "file_extension": ".py",
   "mimetype": "text/x-python",
   "name": "python",
   "nbconvert_exporter": "python",
   "pygments_lexer": "ipython3",
   "version": "3.7.7"
  }
 },
 "nbformat": 4,
 "nbformat_minor": 4
}

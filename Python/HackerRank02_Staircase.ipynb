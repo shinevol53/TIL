{
 "cells": [
  {
   "cell_type": "markdown",
   "metadata": {},
   "source": [
    "### Problem\n"
   ]
  },
  {
   "cell_type": "markdown",
   "metadata": {},
   "source": [
    "Consider a staircase of size :\n",
    "\n",
    "   #\n",
    "  ##\n",
    " ###\n",
    "####\n",
    "\n",
    "Observe that its base and height are both equal to , and the image is drawn using # symbols and spaces. The last line is not preceded by any spaces.\n",
    "\n",
    "Write a program that prints a staircase of size .\n",
    "\n",
    "Function Description\n",
    "\n",
    "Complete the staircase function in the editor below. It should print a staircase as described above.\n",
    "\n",
    "staircase has the following parameter(s):\n",
    "\n",
    "n: an integer\n",
    "Input Format\n",
    "\n",
    "A single integer, , denoting the size of the staircase.\n",
    "\n",
    "- Constraints\n",
    "\n",
    " 0 < n< 100\n",
    "\n",
    "- Output Format\n",
    "\n",
    "Print a staircase of size  using # symbols and spaces.\n",
    "\n",
    "Note: The last line must have  spaces in it.\n",
    "\n",
    "- Sample Input\n",
    "\n",
    "6 \n",
    "- Sample Output\n",
    "\n",
    "        #\n",
    "     ##\n",
    "   ###\n",
    "  ####\n",
    " #####\n",
    "######\n",
    "\n",
    "- Explanation\n",
    "\n",
    "The staircase is right-aligned, composed of # symbols and spaces, and has a height and width of ."
   ]
  },
  {
   "cell_type": "code",
   "execution_count": 1,
   "metadata": {},
   "outputs": [
    {
     "name": "stdout",
     "output_type": "stream",
     "text": [
      "6\n",
      "     #\n",
      "    ##\n",
      "   ###\n",
      "  ####\n",
      " #####\n",
      "######\n"
     ]
    }
   ],
   "source": [
    "#!/bin/python3\n",
    "\n",
    "import math\n",
    "import os\n",
    "import random\n",
    "import re\n",
    "import sys\n",
    "\n",
    "# Complete the staircase function below.\n",
    "def staircase(n):\n",
    "    space = ' '\n",
    "    shap = '#'\n",
    "    index = n\n",
    "    for i in range(1, n+1):\n",
    "        print(space * (index - i) + shap*i)\n",
    "\n",
    "\n",
    "if __name__ == '__main__':\n",
    "    n = int(input())\n",
    "    staircase(n)\n"
   ]
  },
  {
   "cell_type": "code",
   "execution_count": null,
   "metadata": {},
   "outputs": [],
   "source": []
  }
 ],
 "metadata": {
  "kernelspec": {
   "display_name": "Python 3",
   "language": "python",
   "name": "python3"
  },
  "language_info": {
   "codemirror_mode": {
    "name": "ipython",
    "version": 3
   },
   "file_extension": ".py",
   "mimetype": "text/x-python",
   "name": "python",
   "nbconvert_exporter": "python",
   "pygments_lexer": "ipython3",
   "version": "3.7.4"
  }
 },
 "nbformat": 4,
 "nbformat_minor": 2
}

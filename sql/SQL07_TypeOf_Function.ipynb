{
 "cells": [
  {
   "cell_type": "markdown",
   "metadata": {},
   "source": [
    "### 단일행 함수의 종류\n",
    "- 문자형 함수: 문자를 입력하면 문자나 숫자 값을 반환한다\n",
    "    - Lower, Upper, Substr/Substring, Length/Len, Ltrim, Rtrim, Trim, ASCII\n",
    "        - Lower(문자열): 문자열의 알파벳 문자를 소문자로 바꾸어준다\n",
    "        - Upper(문자열): 문자열의 알파벳 문자를 대문자로 바꾸어준다\n",
    "        - ASCII(문자): 문자나 숫자를 ASCII 코드 번호로 바꾸어준다\n",
    "        - Chr/Char(ASCII번호): ASCII 코드 번호를 문자나 숫자로 바꾸어준다\n",
    "        - Concat(문자열1, 문자열2): Oracle, MySQL에서 유효한 함수이며, 문자열1과 문자열2를 연결한다(합성 연산자 '||'[Oracle], '+'[MySQL]와 동일하다\n",
    "        - Substr/Substring(문자열, m[, n]: 문자열 중 m위치에서 n개의 문자 길이에 해당하는 문자를 돌려준다. n이 생략되면 마지막 문자까지이다\n",
    "        - Length/Len(문자열): 문자열의 개수를 숫자값으로 돌려준다\n",
    "        - Ltrim(문자열, [, 지정문자]): 문자열의 첫 문자부터 확인해서 지정 문자가 나타나면 해당 문자를 제거한다(지정 문자가 생략되면 공백 값이 디폴트). SQL Server에서는 Ltrim 함수에 지정문자를 사용할 수 없다. 즉, 공백만 제거할 수 있다\n",
    "        - Rtrim(문자열, [, 지정문자]): 문자열의 마지막 문자부터 확인해서 지정 문자가 나타는 동안 해당 문자를 제거한다(지정 문자가 생략되면 공백 값이 디폴트). SQL Server에서는 Ltrim 함수에 지정문자를 사용할 수 없다. 즉, 공백만 제거할 수 있다\n",
    "        - Trim([leading|trailing|both] 지정문자 From 문자열): 문자열에서 머리말, 꼬리말, 또는 양쪽에 있는 지정말을 제거한다. (leading| trailing|both 가 생략되면 both가 디폴트). SQL Server에서는 Trim 함수에 지정문자를 사용할 수 없다. 즉 공백만 제거할 수 있다. \n",
    "- 숫자형 함수: 숫자를 입력하면 숫자 값을 반환한다\n",
    "    - Abs, Mod, Round, Trunc, Sign, Chr/Char, Ceil/Ceiling, Floor, Exp, Log, Ln, Power, Sin, Cos, Tan\n",
    "- 날짜형 함수: DATE 타입의 값을 연산한다\n",
    "    - Sysdate/Gendate, Extract/Datepart, To_Number(To_Char(d, 'YYYY'|'MM'|'DD')), Year|Month|Day\n",
    "- 변환형 함수: 문자, 숫자, 날짜형 값의 데이터 타입을 변환한다\n",
    "    - To_Number, To_Char, To_Date/Cast, Convert\n",
    "- Null 함수: Null을 처리하기 위한 함수\n",
    "    - Nvl/Isnull, Nullif, Coalesce"
   ]
  },
  {
   "cell_type": "code",
   "execution_count": 2,
   "metadata": {},
   "outputs": [],
   "source": [
    "import MySQLdb"
   ]
  },
  {
   "cell_type": "code",
   "execution_count": 3,
   "metadata": {},
   "outputs": [
    {
     "data": {
      "text/plain": [
       "<_mysql.connection open to '52.78.107.76' at 0000020101223FA8>"
      ]
     },
     "execution_count": 3,
     "metadata": {},
     "output_type": "execute_result"
    }
   ],
   "source": [
    "db = MySQLdb.connect(\n",
    "    host=\"52.78.107.76\",\n",
    "    user=\"root\",\n",
    "    passwd=\"dss\",\n",
    "    db=\"test\",\n",
    "    charset=\"utf8\") # 한글 깨지면 charaset utf8로 설정\n",
    "\n",
    "db"
   ]
  },
  {
   "cell_type": "code",
   "execution_count": 6,
   "metadata": {},
   "outputs": [],
   "source": [
    "# Dual Table에 특성: 사용자 SYS가 소유하며 모든 사용자가 액세스 가능한 테이블\n",
    "# 특정 날짜에 1을 더하면 하루를 더한 결과와 같다\n",
    "# 1/24/60은 1분, 1/24/60(10)은 10분\n",
    "# 2015.01.10에 10시 + 10분을 더하면, 2015.01.10 10:10:00\n",
    "Query = \"\"\"\n",
    "    Select To_char(To_Date('2015.01.10 10', 'YYYY.MM.DD HH24') + 1/24(60/10), 'YYYY.MM.DD HH24:MI:SS') \n",
    "    From Dual;\n",
    "\"\"\""
   ]
  },
  {
   "cell_type": "code",
   "execution_count": null,
   "metadata": {},
   "outputs": [],
   "source": [
    "df = pd.read_sql(Query, db)\n",
    "df"
   ]
  }
 ],
 "metadata": {
  "kernelspec": {
   "display_name": "Python 3",
   "language": "python",
   "name": "python3"
  },
  "language_info": {
   "codemirror_mode": {
    "name": "ipython",
    "version": 3
   },
   "file_extension": ".py",
   "mimetype": "text/x-python",
   "name": "python",
   "nbconvert_exporter": "python",
   "pygments_lexer": "ipython3",
   "version": "3.7.6"
  }
 },
 "nbformat": 4,
 "nbformat_minor": 4
}

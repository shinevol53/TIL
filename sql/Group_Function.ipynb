{
 "cells": [
  {
   "cell_type": "markdown",
   "metadata": {},
   "source": [
    "### 그룹함수(Group_Function)\n",
    "\n",
    "- 소그룹 간의 소계 및 중계 등의 중간 합계 분석 데이터를 산출하는 함수이다\n",
    "- 소계 및 총계 등을 구하기 위해서 그룹 함수를 사용한다면 단일 DML만으로도 원하는 작업을 할 수 있다"
   ]
  },
  {
   "cell_type": "markdown",
   "metadata": {},
   "source": [
    "### 유형\n",
    "\n",
    "- ROLLUP\n",
    "    - 소계 등 중간 집계 값을 산출하기 위해 사용된다\n",
    "    - 지정 컬럼의 수보다 하나 더 큰 레벨만큼의 중간 집계 값이 생성된다\n",
    "    - ROLLUP의 지정 컬럼은 계층별로 구성되기 때문에 순서가 바뀌면 수행 결과가 바뀌기 때문에 유의해서 사용해야 한다\n",
    "- CUBE\n",
    "    - CUBE는 결합 가능한 모든 값에 대해 다차원 집계를 생성하는 그룹 함수이며, 가능한 한 소 집계만을 생성하는 ROLLUP과 구별된다\n",
    "    - CUBE는 내부적으로 대상 컬럼의 순서를 변경하여 또 한 번의 쿼리를 수행한다\n",
    "    - 연산이 많아 시스템에 부담을 준다\n",
    "- GROUPING SETS\n",
    "    - 집계 대상 컬럼들에 대한 개별 집계를 구할 수 있으며,ROLLUP이나 CUBE와는 달리 컬럼 간 순서와 무관한 결과를 얻을 수 있다\n",
    "    - GROUPING SETS를 이용해 다양한 소계 집합을 만들 수 있다\n",
    "    - ORDER BY를 사용하여 집계 대상 그룹과의 표시 순서를 조정하여 체계적으로 보여줄 수 있다"
   ]
  },
  {
   "cell_type": "code",
   "execution_count": null,
   "metadata": {},
   "outputs": [],
   "source": []
  }
 ],
 "metadata": {
  "kernelspec": {
   "display_name": "Python 3",
   "language": "python",
   "name": "python3"
  },
  "language_info": {
   "codemirror_mode": {
    "name": "ipython",
    "version": 3
   },
   "file_extension": ".py",
   "mimetype": "text/x-python",
   "name": "python",
   "nbconvert_exporter": "python",
   "pygments_lexer": "ipython3",
   "version": "3.7.7"
  }
 },
 "nbformat": 4,
 "nbformat_minor": 4
}

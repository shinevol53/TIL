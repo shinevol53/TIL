{
 "cells": [
  {
   "cell_type": "markdown",
   "metadata": {},
   "source": [
    "### Save New Data(Use heidi SQL)\n",
    "- Step1 : 새로 생성 -> 데이터베이스\n",
    "- Step2 : table, column 이름 데이터유형, 길이, 부호, null 여부, 조합(uft8_bin)\n",
    "- Step3 : csv 파일을 메모장으로 열어 txt 다른 이름으로 파일로 저장(인코딩: ASICS => utf8)\n",
    "- Step4 : 아래 코드로 파일 입력"
   ]
  },
  {
   "cell_type": "code",
   "execution_count": null,
   "metadata": {},
   "outputs": [],
   "source": [
    "USE book #데이터 베이스 이름\n",
    "\n",
    "alter table review\n",
    "default character set utf8 collate utf8_general_ci;\n",
    "\n",
    "LOAD DATA LOCAL INFILE \"C:/Users/shine/Desktop/code/6. mysql/df_review.txt\" # 경로 \n",
    "INTO TABLE review # 미리 만들어준 테이블 이름\n",
    "CHARACTER SET UTF8 # 한글(UTF8)\n",
    "FIELDS TERMINATED BY ',' # 구분자(csv 파일이었으니까 구분자는 콤마)\n",
    "ENCLOSED BY \"\"\n",
    "LINES TERMINATED BY '\\n'(ID, ISBN, grade, review) # 컬럼 이름; "
   ]
  },
  {
   "cell_type": "markdown",
   "metadata": {},
   "source": [
    "### Use Mysql with Python\n",
    "#### install ubuntu\n",
    "- sudo apt-get install mysql-server\n",
    "- sudo apt-get install libmysqlclient-dev\n",
    "- pip install mysqlclient sqlalchemy"
   ]
  },
  {
   "cell_type": "code",
   "execution_count": 1,
   "metadata": {},
   "outputs": [],
   "source": [
    "import MySQLdb"
   ]
  },
  {
   "cell_type": "code",
   "execution_count": 2,
   "metadata": {},
   "outputs": [
    {
     "data": {
      "text/plain": [
       "<_mysql.connection open to '52.78.107.76' at 0000022C331D85A8>"
      ]
     },
     "execution_count": 2,
     "metadata": {},
     "output_type": "execute_result"
    }
   ],
   "source": [
    "db = MySQLdb.connect(\n",
    "    host=\"localhost\",\n",
    "    user=\"ID\",\n",
    "    passwd=\"PASSWORD\",\n",
    "    db=\"TABLENAME\",\n",
    "    charset=\"utf8\") # 한글 깨지면 charaset utf8로 설정\n",
    "\n",
    "db"
   ]
  },
  {
   "cell_type": "code",
   "execution_count": 3,
   "metadata": {},
   "outputs": [],
   "source": [
    "Query = \"\"\"\n",
    "    SHOW TABLES;\n",
    "\"\"\""
   ]
  },
  {
   "cell_type": "code",
   "execution_count": 4,
   "metadata": {},
   "outputs": [
    {
     "data": {
      "text/plain": [
       "3"
      ]
     },
     "execution_count": 4,
     "metadata": {},
     "output_type": "execute_result"
    }
   ],
   "source": [
    "curs = db.cursor()\n",
    "curs.execute(Query)"
   ]
  },
  {
   "cell_type": "code",
   "execution_count": 5,
   "metadata": {},
   "outputs": [
    {
     "data": {
      "text/plain": [
       "(('book_concat',), ('book_info',), ('review',))"
      ]
     },
     "execution_count": 5,
     "metadata": {},
     "output_type": "execute_result"
    }
   ],
   "source": [
    "rows = curs.fetchall()\n",
    "rows"
   ]
  },
  {
   "cell_type": "code",
   "execution_count": 6,
   "metadata": {},
   "outputs": [],
   "source": [
    "import pandas as pd"
   ]
  },
  {
   "cell_type": "code",
   "execution_count": 7,
   "metadata": {},
   "outputs": [],
   "source": [
    "Query = \"\"\"\n",
    "    SELECT *\n",
    "    From book_info\n",
    "\"\"\""
   ]
  },
  {
   "cell_type": "code",
   "execution_count": 8,
   "metadata": {},
   "outputs": [
    {
     "data": {
      "text/html": [
       "<div>\n",
       "<style scoped>\n",
       "    .dataframe tbody tr th:only-of-type {\n",
       "        vertical-align: middle;\n",
       "    }\n",
       "\n",
       "    .dataframe tbody tr th {\n",
       "        vertical-align: top;\n",
       "    }\n",
       "\n",
       "    .dataframe thead th {\n",
       "        text-align: right;\n",
       "    }\n",
       "</style>\n",
       "<table border=\"1\" class=\"dataframe\">\n",
       "  <thead>\n",
       "    <tr style=\"text-align: right;\">\n",
       "      <th></th>\n",
       "      <th>category</th>\n",
       "      <th>ranking</th>\n",
       "      <th>seogi_nl_clear</th>\n",
       "      <th>ISBN</th>\n",
       "      <th>title</th>\n",
       "      <th>author</th>\n",
       "      <th>publisher</th>\n",
       "      <th>price</th>\n",
       "      <th>width</th>\n",
       "      <th>length</th>\n",
       "      <th>thick</th>\n",
       "      <th>weight</th>\n",
       "      <th>page</th>\n",
       "    </tr>\n",
       "  </thead>\n",
       "  <tbody>\n",
       "    <tr>\n",
       "      <th>1507</th>\n",
       "      <td>21</td>\n",
       "      <td>48</td>\n",
       "      <td>3230</td>\n",
       "      <td>9788953135925</td>\n",
       "      <td>팀 켈러의 인생질문</td>\n",
       "      <td>팀 켈러</td>\n",
       "      <td>두란노서원</td>\n",
       "      <td>14000</td>\n",
       "      <td>141</td>\n",
       "      <td>207</td>\n",
       "      <td>20</td>\n",
       "      <td>348</td>\n",
       "      <td>272</td>\n",
       "    </tr>\n",
       "    <tr>\n",
       "      <th>1508</th>\n",
       "      <td>25</td>\n",
       "      <td>1</td>\n",
       "      <td>53740</td>\n",
       "      <td>9788954751919</td>\n",
       "      <td>고등 영어영역 영어(2020)(2021 수능대비)</td>\n",
       "      <td>EBS교육방송 편집부</td>\n",
       "      <td>EBS한국교육방송공사</td>\n",
       "      <td>8100</td>\n",
       "      <td>205</td>\n",
       "      <td>260</td>\n",
       "      <td>19</td>\n",
       "      <td>905</td>\n",
       "      <td>430</td>\n",
       "    </tr>\n",
       "  </tbody>\n",
       "</table>\n",
       "</div>"
      ],
      "text/plain": [
       "      category  ranking  seogi_nl_clear           ISBN  \\\n",
       "1507        21       48            3230  9788953135925   \n",
       "1508        25        1           53740  9788954751919   \n",
       "\n",
       "                            title       author    publisher  price  width  \\\n",
       "1507                   팀 켈러의 인생질문         팀 켈러        두란노서원  14000    141   \n",
       "1508  고등 영어영역 영어(2020)(2021 수능대비)  EBS교육방송 편집부  EBS한국교육방송공사   8100    205   \n",
       "\n",
       "      length  thick  weight  page  \n",
       "1507     207     20     348   272  \n",
       "1508     260     19     905   430  "
      ]
     },
     "execution_count": 8,
     "metadata": {},
     "output_type": "execute_result"
    }
   ],
   "source": [
    "df = pd.read_sql(Query, db)\n",
    "df.tail(2)"
   ]
  },
  {
   "cell_type": "code",
   "execution_count": null,
   "metadata": {},
   "outputs": [],
   "source": []
  }
 ],
 "metadata": {
  "kernelspec": {
   "display_name": "Python 3",
   "language": "python",
   "name": "python3"
  },
  "language_info": {
   "codemirror_mode": {
    "name": "ipython",
    "version": 3
   },
   "file_extension": ".py",
   "mimetype": "text/x-python",
   "name": "python",
   "nbconvert_exporter": "python",
   "pygments_lexer": "ipython3",
   "version": "3.7.6"
  }
 },
 "nbformat": 4,
 "nbformat_minor": 4
}

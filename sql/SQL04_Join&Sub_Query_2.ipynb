{
 "cells": [
  {
   "cell_type": "code",
   "execution_count": 1,
   "metadata": {},
   "outputs": [],
   "source": [
    "import MySQLdb"
   ]
  },
  {
   "cell_type": "code",
   "execution_count": 2,
   "metadata": {},
   "outputs": [
    {
     "data": {
      "text/plain": [
       "<_mysql.connection open to '52.78.107.76' at 0000022ADE058EA8>"
      ]
     },
     "execution_count": 2,
     "metadata": {},
     "output_type": "execute_result"
    }
   ],
   "source": [
    "db = MySQLdb.connect(\n",
    "    host=\"public id\",\n",
    "    user=\"id\",\n",
    "    passwd=\"pw\",\n",
    "    db=\"world\",\n",
    "    charset=\"utf8\")\n",
    "\n",
    "db"
   ]
  },
  {
   "cell_type": "code",
   "execution_count": 3,
   "metadata": {},
   "outputs": [],
   "source": [
    "Query = \"\"\"\n",
    "    Show Tables;\n",
    "\"\"\""
   ]
  },
  {
   "cell_type": "code",
   "execution_count": 4,
   "metadata": {},
   "outputs": [
    {
     "data": {
      "text/plain": [
       "10"
      ]
     },
     "execution_count": 4,
     "metadata": {},
     "output_type": "execute_result"
    }
   ],
   "source": [
    "curs = db.cursor()\n",
    "curs.execute(Query)"
   ]
  },
  {
   "cell_type": "markdown",
   "metadata": {},
   "source": [
    "### 1) 면적이 10000km^2 이상인 국가의 인구밀도(1km^2 당 인구수)를 구하고 인구밀도가 200이상인국가들의 사용하고 있는 언어수가 5가지 이상인 나라를 조회 하세요."
   ]
  },
  {
   "cell_type": "code",
   "execution_count": 5,
   "metadata": {},
   "outputs": [],
   "source": [
    "Query = \"\"\"\n",
    "    SELECT NAME, COUNT(LANGUAGE) AS language_count\n",
    "    FROM\n",
    "    (\n",
    "        SELECT code, name, ROUND(Population/SurfaceArea) AS density\n",
    "        FROM country\n",
    "        WHERE SurfaceArea > 10000\n",
    "        having density > 200\n",
    "        ORDER BY density  DESC) AS country\n",
    "    JOIN countrylanguage\n",
    "    ON countrylanguage.countrycode = country.code\n",
    "    GROUP BY NAME\n",
    "    HAVING language_count > 5\n",
    "    ORDER BY language_count desc\n",
    "\n",
    "\"\"\""
   ]
  },
  {
   "cell_type": "code",
   "execution_count": 6,
   "metadata": {},
   "outputs": [
    {
     "data": {
      "text/html": [
       "<div>\n",
       "<style scoped>\n",
       "    .dataframe tbody tr th:only-of-type {\n",
       "        vertical-align: middle;\n",
       "    }\n",
       "\n",
       "    .dataframe tbody tr th {\n",
       "        vertical-align: top;\n",
       "    }\n",
       "\n",
       "    .dataframe thead th {\n",
       "        text-align: right;\n",
       "    }\n",
       "</style>\n",
       "<table border=\"1\" class=\"dataframe\">\n",
       "  <thead>\n",
       "    <tr style=\"text-align: right;\">\n",
       "      <th></th>\n",
       "      <th>NAME</th>\n",
       "      <th>language_count</th>\n",
       "    </tr>\n",
       "  </thead>\n",
       "  <tbody>\n",
       "    <tr>\n",
       "      <th>0</th>\n",
       "      <td>India</td>\n",
       "      <td>12</td>\n",
       "    </tr>\n",
       "    <tr>\n",
       "      <th>1</th>\n",
       "      <td>Philippines</td>\n",
       "      <td>10</td>\n",
       "    </tr>\n",
       "    <tr>\n",
       "      <th>2</th>\n",
       "      <td>Vietnam</td>\n",
       "      <td>9</td>\n",
       "    </tr>\n",
       "    <tr>\n",
       "      <th>3</th>\n",
       "      <td>Bangladesh</td>\n",
       "      <td>7</td>\n",
       "    </tr>\n",
       "    <tr>\n",
       "      <th>4</th>\n",
       "      <td>Germany</td>\n",
       "      <td>6</td>\n",
       "    </tr>\n",
       "    <tr>\n",
       "      <th>5</th>\n",
       "      <td>Taiwan</td>\n",
       "      <td>6</td>\n",
       "    </tr>\n",
       "    <tr>\n",
       "      <th>6</th>\n",
       "      <td>Japan</td>\n",
       "      <td>6</td>\n",
       "    </tr>\n",
       "    <tr>\n",
       "      <th>7</th>\n",
       "      <td>Belgium</td>\n",
       "      <td>6</td>\n",
       "    </tr>\n",
       "  </tbody>\n",
       "</table>\n",
       "</div>"
      ],
      "text/plain": [
       "          NAME  language_count\n",
       "0        India              12\n",
       "1  Philippines              10\n",
       "2      Vietnam               9\n",
       "3   Bangladesh               7\n",
       "4      Germany               6\n",
       "5       Taiwan               6\n",
       "6        Japan               6\n",
       "7      Belgium               6"
      ]
     },
     "execution_count": 6,
     "metadata": {},
     "output_type": "execute_result"
    }
   ],
   "source": [
    "df = pd.read_sql(Query, db)\n",
    "df"
   ]
  },
  {
   "cell_type": "markdown",
   "metadata": {},
   "source": [
    "### 2) 사용하는 언어가 3가지 이하인 국가중 도시인구가 300만 이상인 도시를 아래와 같이 조회하세요."
   ]
  },
  {
   "cell_type": "code",
   "execution_count": 11,
   "metadata": {},
   "outputs": [],
   "source": [
    "Query = \"\"\"\n",
    "SELECT city.countrycode, city.name AS city_name, city.population,\n",
    "country.name, city.language_count, languages\n",
    "FROM\n",
    "(\n",
    "    SELECT city.countrycode, city.name, city.population, \n",
    "        cl.language_count, cl.languages\n",
    "    FROM(\n",
    "                SELECT countrycode, GROUP_CONCAT(LANGUAGE) AS languages,\n",
    "                count(LANGUAGE) AS language_count\n",
    "                FROM countrylanguage\n",
    "                GROUP BY countrycode\n",
    "                HAVING language_count <= 3) AS cl\n",
    "        JOIN (\n",
    "            SELECT *\n",
    "            from city\n",
    "            where population > 3000000\n",
    "            ) as city\n",
    "\n",
    "        ON city.countrycode = cl.countrycode\n",
    "        ) AS city\n",
    "\n",
    "JOIN country\n",
    "ON country.code =  city.countrycode\n",
    "ORDER BY population DESC\n",
    "\n",
    "\"\"\""
   ]
  },
  {
   "cell_type": "code",
   "execution_count": 12,
   "metadata": {},
   "outputs": [
    {
     "data": {
      "text/html": [
       "<div>\n",
       "<style scoped>\n",
       "    .dataframe tbody tr th:only-of-type {\n",
       "        vertical-align: middle;\n",
       "    }\n",
       "\n",
       "    .dataframe tbody tr th {\n",
       "        vertical-align: top;\n",
       "    }\n",
       "\n",
       "    .dataframe thead th {\n",
       "        text-align: right;\n",
       "    }\n",
       "</style>\n",
       "<table border=\"1\" class=\"dataframe\">\n",
       "  <thead>\n",
       "    <tr style=\"text-align: right;\">\n",
       "      <th></th>\n",
       "      <th>CountryCode</th>\n",
       "      <th>city_name</th>\n",
       "      <th>Population</th>\n",
       "      <th>name</th>\n",
       "      <th>language_count</th>\n",
       "      <th>languages</th>\n",
       "    </tr>\n",
       "  </thead>\n",
       "  <tbody>\n",
       "    <tr>\n",
       "      <th>0</th>\n",
       "      <td>KOR</td>\n",
       "      <td>Seoul</td>\n",
       "      <td>9981619</td>\n",
       "      <td>South Korea</td>\n",
       "      <td>2</td>\n",
       "      <td>Chinese,Korean</td>\n",
       "    </tr>\n",
       "    <tr>\n",
       "      <th>1</th>\n",
       "      <td>TUR</td>\n",
       "      <td>Istanbul</td>\n",
       "      <td>8787958</td>\n",
       "      <td>Turkey</td>\n",
       "      <td>3</td>\n",
       "      <td>Arabic,Kurdish,Turkish</td>\n",
       "    </tr>\n",
       "    <tr>\n",
       "      <th>2</th>\n",
       "      <td>GBR</td>\n",
       "      <td>London</td>\n",
       "      <td>7285000</td>\n",
       "      <td>United Kingdom</td>\n",
       "      <td>3</td>\n",
       "      <td>English,Gaeli,Kymri</td>\n",
       "    </tr>\n",
       "    <tr>\n",
       "      <th>3</th>\n",
       "      <td>EGY</td>\n",
       "      <td>Cairo</td>\n",
       "      <td>6789479</td>\n",
       "      <td>Egypt</td>\n",
       "      <td>2</td>\n",
       "      <td>Arabic,Sinaberberi</td>\n",
       "    </tr>\n",
       "    <tr>\n",
       "      <th>4</th>\n",
       "      <td>PER</td>\n",
       "      <td>Lima</td>\n",
       "      <td>6464693</td>\n",
       "      <td>Peru</td>\n",
       "      <td>3</td>\n",
       "      <td>Aimará,Ketšua,Spanish</td>\n",
       "    </tr>\n",
       "    <tr>\n",
       "      <th>5</th>\n",
       "      <td>SGP</td>\n",
       "      <td>Singapore</td>\n",
       "      <td>4017733</td>\n",
       "      <td>Singapore</td>\n",
       "      <td>3</td>\n",
       "      <td>Chinese,Malay,Tamil</td>\n",
       "    </tr>\n",
       "    <tr>\n",
       "      <th>6</th>\n",
       "      <td>KOR</td>\n",
       "      <td>Pusan</td>\n",
       "      <td>3804522</td>\n",
       "      <td>South Korea</td>\n",
       "      <td>2</td>\n",
       "      <td>Chinese,Korean</td>\n",
       "    </tr>\n",
       "    <tr>\n",
       "      <th>7</th>\n",
       "      <td>EGY</td>\n",
       "      <td>Alexandria</td>\n",
       "      <td>3328196</td>\n",
       "      <td>Egypt</td>\n",
       "      <td>2</td>\n",
       "      <td>Arabic,Sinaberberi</td>\n",
       "    </tr>\n",
       "    <tr>\n",
       "      <th>8</th>\n",
       "      <td>SAU</td>\n",
       "      <td>Riyadh</td>\n",
       "      <td>3324000</td>\n",
       "      <td>Saudi Arabia</td>\n",
       "      <td>1</td>\n",
       "      <td>Arabic</td>\n",
       "    </tr>\n",
       "    <tr>\n",
       "      <th>9</th>\n",
       "      <td>TUR</td>\n",
       "      <td>Ankara</td>\n",
       "      <td>3038159</td>\n",
       "      <td>Turkey</td>\n",
       "      <td>3</td>\n",
       "      <td>Arabic,Kurdish,Turkish</td>\n",
       "    </tr>\n",
       "  </tbody>\n",
       "</table>\n",
       "</div>"
      ],
      "text/plain": [
       "  CountryCode   city_name  Population            name  language_count  \\\n",
       "0         KOR       Seoul     9981619     South Korea               2   \n",
       "1         TUR    Istanbul     8787958          Turkey               3   \n",
       "2         GBR      London     7285000  United Kingdom               3   \n",
       "3         EGY       Cairo     6789479           Egypt               2   \n",
       "4         PER        Lima     6464693            Peru               3   \n",
       "5         SGP   Singapore     4017733       Singapore               3   \n",
       "6         KOR       Pusan     3804522     South Korea               2   \n",
       "7         EGY  Alexandria     3328196           Egypt               2   \n",
       "8         SAU      Riyadh     3324000    Saudi Arabia               1   \n",
       "9         TUR      Ankara     3038159          Turkey               3   \n",
       "\n",
       "                languages  \n",
       "0          Chinese,Korean  \n",
       "1  Arabic,Kurdish,Turkish  \n",
       "2     English,Gaeli,Kymri  \n",
       "3      Arabic,Sinaberberi  \n",
       "4   Aimará,Ketšua,Spanish  \n",
       "5     Chinese,Malay,Tamil  \n",
       "6          Chinese,Korean  \n",
       "7      Arabic,Sinaberberi  \n",
       "8                  Arabic  \n",
       "9  Arabic,Kurdish,Turkish  "
      ]
     },
     "execution_count": 12,
     "metadata": {},
     "output_type": "execute_result"
    }
   ],
   "source": [
    "df = pd.read_sql(Query, db)\n",
    "df"
   ]
  },
  {
   "cell_type": "code",
   "execution_count": null,
   "metadata": {},
   "outputs": [],
   "source": []
  }
 ],
 "metadata": {
  "kernelspec": {
   "display_name": "Python 3",
   "language": "python",
   "name": "python3"
  },
  "language_info": {
   "codemirror_mode": {
    "name": "ipython",
    "version": 3
   },
   "file_extension": ".py",
   "mimetype": "text/x-python",
   "name": "python",
   "nbconvert_exporter": "python",
   "pygments_lexer": "ipython3",
   "version": "3.7.6"
  }
 },
 "nbformat": 4,
 "nbformat_minor": 4
}

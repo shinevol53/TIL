{
 "cells": [
  {
   "cell_type": "markdown",
   "metadata": {},
   "source": [
    "#### 인라인 수식\n",
    "$ \\alpha = \\beta $\n",
    "\n",
    "#### 디스플레이 수식\n",
    "$$ \\alpha = \\beta $$"
   ]
  },
  {
   "cell_type": "markdown",
   "metadata": {},
   "source": [
    "$ \\alpha = \\beta $,\n",
    "\n",
    "$ \\gamma = \\delta $,\n",
    "\n",
    "$ \\epsilon = \\zeta $,\n",
    "\n",
    "$ \\eta = \\theta $,\n",
    "\n",
    "$ \\kappa = \\lambda $,\n",
    "\n",
    "$ \\mu = \\nu $,\n",
    "\n",
    "$ \\xi = \\pi $,\n",
    "\n",
    "$ \\rho = \\sigma $,\n",
    "\n",
    "$ \\tau = \\phi $,\n",
    "\n",
    "$ \\chi = \\psi $,\n",
    "\n",
    "$ \\omega = \\alpha $\n"
   ]
  },
  {
   "cell_type": "markdown",
   "metadata": {},
   "source": [
    "$$ \\alpha = \\beta $$,\n",
    "\n",
    "$$ \\gamma = \\delta $$,\n",
    "\n",
    "$$ \\epsilon = \\zeta $$,\n",
    "\n",
    "$$ \\eta = \\theta $$,\n",
    "\n",
    "$$ \\kappa = \\lambda $$,\n",
    "\n",
    "$$ \\mu = \\nu $$,\n",
    "\n",
    "$$ \\xi = \\pi $$,\n",
    "\n",
    "$$ \\rho = \\sigma $$,\n",
    "\n",
    "$$ \\tau = \\phi $$,\n",
    "\n",
    "$$ \\chi = \\psi $$,\n",
    "\n",
    "$$ \\omega = \\alpha $$"
   ]
  },
  {
   "cell_type": "code",
   "execution_count": null,
   "metadata": {},
   "outputs": [],
   "source": []
  }
 ],
 "metadata": {
  "kernelspec": {
   "display_name": "Python 3",
   "language": "python",
   "name": "python3"
  },
  "language_info": {
   "codemirror_mode": {
    "name": "ipython",
    "version": 3
   },
   "file_extension": ".py",
   "mimetype": "text/x-python",
   "name": "python",
   "nbconvert_exporter": "python",
   "pygments_lexer": "ipython3",
   "version": "3.7.4"
  }
 },
 "nbformat": 4,
 "nbformat_minor": 2
}

{
 "cells": [
  {
   "cell_type": "code",
   "execution_count": 1,
   "metadata": {},
   "outputs": [],
   "source": [
    "import pandas as pd"
   ]
  },
  {
   "cell_type": "code",
   "execution_count": 2,
   "metadata": {},
   "outputs": [
    {
     "data": {
      "text/html": [
       "<div>\n",
       "<style scoped>\n",
       "    .dataframe tbody tr th:only-of-type {\n",
       "        vertical-align: middle;\n",
       "    }\n",
       "\n",
       "    .dataframe tbody tr th {\n",
       "        vertical-align: top;\n",
       "    }\n",
       "\n",
       "    .dataframe thead th {\n",
       "        text-align: right;\n",
       "    }\n",
       "</style>\n",
       "<table border=\"1\" class=\"dataframe\">\n",
       "  <thead>\n",
       "    <tr style=\"text-align: right;\">\n",
       "      <th></th>\n",
       "      <th>id</th>\n",
       "      <th>name</th>\n",
       "      <th>host_id</th>\n",
       "      <th>host_name</th>\n",
       "      <th>neighbourhood_group</th>\n",
       "      <th>neighbourhood</th>\n",
       "      <th>room_type</th>\n",
       "      <th>price</th>\n",
       "      <th>minimum_nights</th>\n",
       "      <th>number_of_reviews</th>\n",
       "      <th>last_review</th>\n",
       "      <th>reviews_per_month</th>\n",
       "      <th>calculated_host_listings_count</th>\n",
       "    </tr>\n",
       "  </thead>\n",
       "  <tbody>\n",
       "    <tr>\n",
       "      <th>2726</th>\n",
       "      <td>1475631</td>\n",
       "      <td>BLYN BROWNSTONE CORZY CORNER in NYC</td>\n",
       "      <td>2015914</td>\n",
       "      <td>Majar</td>\n",
       "      <td>Brooklyn</td>\n",
       "      <td>Bushwick</td>\n",
       "      <td>Private room</td>\n",
       "      <td>62</td>\n",
       "      <td>3</td>\n",
       "      <td>95</td>\n",
       "      <td>2019.2.11</td>\n",
       "      <td>1.32</td>\n",
       "      <td>8</td>\n",
       "    </tr>\n",
       "    <tr>\n",
       "      <th>2727</th>\n",
       "      <td>1475661</td>\n",
       "      <td>Gorgeous Apt. 20 min to Manhattan!</td>\n",
       "      <td>7897301</td>\n",
       "      <td>Rickey</td>\n",
       "      <td>Queens</td>\n",
       "      <td>Astoria</td>\n",
       "      <td>Entire home/apt</td>\n",
       "      <td>140</td>\n",
       "      <td>2</td>\n",
       "      <td>13</td>\n",
       "      <td>2014.9.1</td>\n",
       "      <td>0.18</td>\n",
       "      <td>1</td>\n",
       "    </tr>\n",
       "    <tr>\n",
       "      <th>2728</th>\n",
       "      <td>1476238</td>\n",
       "      <td>Spacious Midtown 1BR Apt - 4.5 Stars/21 Reviews</td>\n",
       "      <td>7324189</td>\n",
       "      <td>Buke</td>\n",
       "      <td>Manhattan</td>\n",
       "      <td>Midtown</td>\n",
       "      <td>Entire home/apt</td>\n",
       "      <td>300</td>\n",
       "      <td>15</td>\n",
       "      <td>6</td>\n",
       "      <td>2018.11.7</td>\n",
       "      <td>0.58</td>\n",
       "      <td>2</td>\n",
       "    </tr>\n",
       "    <tr>\n",
       "      <th>2729</th>\n",
       "      <td>1476484</td>\n",
       "      <td>Spacious Sunny SoHo-Awesome Locale!</td>\n",
       "      <td>7901999</td>\n",
       "      <td>Steven</td>\n",
       "      <td>Manhattan</td>\n",
       "      <td>Nolita</td>\n",
       "      <td>Entire home/apt</td>\n",
       "      <td>299</td>\n",
       "      <td>2</td>\n",
       "      <td>26</td>\n",
       "      <td>2017.9.30</td>\n",
       "      <td>0.37</td>\n",
       "      <td>1</td>\n",
       "    </tr>\n",
       "    <tr>\n",
       "      <th>2730</th>\n",
       "      <td>1478315</td>\n",
       "      <td>1 bedroom in heart of Fort Greene</td>\n",
       "      <td>1834942</td>\n",
       "      <td>Tessa</td>\n",
       "      <td>Brooklyn</td>\n",
       "      <td>Clinton Hill</td>\n",
       "      <td>Entire home/apt</td>\n",
       "      <td>104</td>\n",
       "      <td>12</td>\n",
       "      <td>11</td>\n",
       "      <td>2017.7.30</td>\n",
       "      <td>0.15</td>\n",
       "      <td>1</td>\n",
       "    </tr>\n",
       "  </tbody>\n",
       "</table>\n",
       "</div>"
      ],
      "text/plain": [
       "           id                                             name  host_id  \\\n",
       "2726  1475631              BLYN BROWNSTONE CORZY CORNER in NYC  2015914   \n",
       "2727  1475661               Gorgeous Apt. 20 min to Manhattan!  7897301   \n",
       "2728  1476238  Spacious Midtown 1BR Apt - 4.5 Stars/21 Reviews  7324189   \n",
       "2729  1476484              Spacious Sunny SoHo-Awesome Locale!  7901999   \n",
       "2730  1478315                1 bedroom in heart of Fort Greene  1834942   \n",
       "\n",
       "     host_name neighbourhood_group neighbourhood        room_type  price  \\\n",
       "2726     Majar            Brooklyn      Bushwick     Private room     62   \n",
       "2727    Rickey              Queens       Astoria  Entire home/apt    140   \n",
       "2728      Buke           Manhattan       Midtown  Entire home/apt    300   \n",
       "2729    Steven           Manhattan        Nolita  Entire home/apt    299   \n",
       "2730     Tessa            Brooklyn  Clinton Hill  Entire home/apt    104   \n",
       "\n",
       "      minimum_nights  number_of_reviews last_review  reviews_per_month  \\\n",
       "2726               3                 95   2019.2.11               1.32   \n",
       "2727               2                 13    2014.9.1               0.18   \n",
       "2728              15                  6   2018.11.7               0.58   \n",
       "2729               2                 26   2017.9.30               0.37   \n",
       "2730              12                 11   2017.7.30               0.15   \n",
       "\n",
       "      calculated_host_listings_count  \n",
       "2726                               8  \n",
       "2727                               1  \n",
       "2728                               2  \n",
       "2729                               1  \n",
       "2730                               1  "
      ]
     },
     "execution_count": 2,
     "metadata": {},
     "output_type": "execute_result"
    }
   ],
   "source": [
    "df_airbnb = pd.read_csv(\"./airbnb_nyc.csv\", encoding='cp949')\n",
    "df_airbnb.tail()"
   ]
  },
  {
   "cell_type": "code",
   "execution_count": 3,
   "metadata": {},
   "outputs": [
    {
     "data": {
      "text/plain": [
       "Index(['id', 'name', 'host_id', 'host_name', 'neighbourhood_group',\n",
       "       'neighbourhood', 'room_type', 'price', 'minimum_nights',\n",
       "       'number_of_reviews', 'last_review', 'reviews_per_month',\n",
       "       'calculated_host_listings_count'],\n",
       "      dtype='object')"
      ]
     },
     "execution_count": 3,
     "metadata": {},
     "output_type": "execute_result"
    }
   ],
   "source": [
    "df_airbnb.columns"
   ]
  },
  {
   "cell_type": "code",
   "execution_count": 4,
   "metadata": {},
   "outputs": [
    {
     "name": "stdout",
     "output_type": "stream",
     "text": [
      "<class 'pandas.core.frame.DataFrame'>\n",
      "RangeIndex: 2731 entries, 0 to 2730\n",
      "Data columns (total 13 columns):\n",
      " #   Column                          Non-Null Count  Dtype  \n",
      "---  ------                          --------------  -----  \n",
      " 0   id                              2731 non-null   int64  \n",
      " 1   name                            2731 non-null   object \n",
      " 2   host_id                         2731 non-null   int64  \n",
      " 3   host_name                       2729 non-null   object \n",
      " 4   neighbourhood_group             2731 non-null   object \n",
      " 5   neighbourhood                   2731 non-null   object \n",
      " 6   room_type                       2731 non-null   object \n",
      " 7   price                           2731 non-null   int64  \n",
      " 8   minimum_nights                  2731 non-null   int64  \n",
      " 9   number_of_reviews               2731 non-null   int64  \n",
      " 10  last_review                     2596 non-null   object \n",
      " 11  reviews_per_month               2596 non-null   float64\n",
      " 12  calculated_host_listings_count  2731 non-null   int64  \n",
      "dtypes: float64(1), int64(6), object(6)\n",
      "memory usage: 277.5+ KB\n"
     ]
    }
   ],
   "source": [
    "df_airbnb.info()"
   ]
  },
  {
   "cell_type": "code",
   "execution_count": 14,
   "metadata": {},
   "outputs": [
    {
     "name": "stderr",
     "output_type": "stream",
     "text": [
      "c:\\users\\shine\\anaconda3\\envs\\fd\\lib\\site-packages\\ipykernel_launcher.py:7: SettingWithCopyWarning: \n",
      "A value is trying to be set on a copy of a slice from a DataFrame\n",
      "\n",
      "See the caveats in the documentation: https://pandas.pydata.org/pandas-docs/stable/user_guide/indexing.html#returning-a-view-versus-a-copy\n",
      "  import sys\n",
      "c:\\users\\shine\\anaconda3\\envs\\fd\\lib\\site-packages\\ipykernel_launcher.py:5: SettingWithCopyWarning: \n",
      "A value is trying to be set on a copy of a slice from a DataFrame\n",
      "\n",
      "See the caveats in the documentation: https://pandas.pydata.org/pandas-docs/stable/user_guide/indexing.html#returning-a-view-versus-a-copy\n",
      "  \"\"\"\n"
     ]
    }
   ],
   "source": [
    "df_airbnb[\"terrace\"] = \"\"\n",
    "\n",
    "\n",
    "for i in range(len(df_airbnb)):\n",
    "    if \"terrace\" in df_airbnb[\"name\"][i]:\n",
    "        df_airbnb[\"terrace\"][i] = \"yes\"\n",
    "    elif \"Terrace\"\n",
    "    else: \n",
    "        df_airbnb[\"terrace\"][i] = \"no\"\n",
    "\n",
    "    "
   ]
  },
  {
   "cell_type": "code",
   "execution_count": 5,
   "metadata": {},
   "outputs": [
    {
     "data": {
      "text/plain": [
       "'terrace'"
      ]
     },
     "execution_count": 5,
     "metadata": {},
     "output_type": "execute_result"
    }
   ],
   "source": [
    "ls_terrace = [\"terrace\", \"Terrace\", \"TERRACE\"]\n",
    "ls_terrace[0]"
   ]
  },
  {
   "cell_type": "code",
   "execution_count": 7,
   "metadata": {},
   "outputs": [
    {
     "name": "stdout",
     "output_type": "stream",
     "text": [
      "terrace\n",
      "Terrace\n",
      "TERRACE\n"
     ]
    }
   ],
   "source": [
    "for n in range(len(ls_terrace)):\n",
    "    print(ls_terrace[n])"
   ]
  },
  {
   "cell_type": "code",
   "execution_count": 9,
   "metadata": {},
   "outputs": [
    {
     "name": "stderr",
     "output_type": "stream",
     "text": [
      "c:\\users\\shine\\anaconda3\\envs\\fd\\lib\\site-packages\\ipykernel_launcher.py:13: SettingWithCopyWarning: \n",
      "A value is trying to be set on a copy of a slice from a DataFrame\n",
      "\n",
      "See the caveats in the documentation: https://pandas.pydata.org/pandas-docs/stable/user_guide/indexing.html#returning-a-view-versus-a-copy\n",
      "  del sys.path[0]\n",
      "c:\\users\\shine\\anaconda3\\envs\\fd\\lib\\site-packages\\ipykernel_launcher.py:9: SettingWithCopyWarning: \n",
      "A value is trying to be set on a copy of a slice from a DataFrame\n",
      "\n",
      "See the caveats in the documentation: https://pandas.pydata.org/pandas-docs/stable/user_guide/indexing.html#returning-a-view-versus-a-copy\n",
      "  if __name__ == '__main__':\n"
     ]
    }
   ],
   "source": [
    "df_airbnb[\"terrace\"] = \"\"\n",
    "ls_ids = []\n",
    "\n",
    "for i in range(len(df_airbnb)):\n",
    "       for n in range(len(ls_terrace)):\n",
    "        \n",
    "        if ls_terrace[n] in df_airbnb[\"name\"][i]:\n",
    "            \n",
    "            df_airbnb[\"terrace\"][i] = \"yes\"\n",
    "            ls_id = i\n",
    "            ls_ids.append(ls_id)\n",
    "        else:\n",
    "            df_airbnb[\"terrace\"][i] = \"no\"\n",
    "            "
   ]
  },
  {
   "cell_type": "code",
   "execution_count": 192,
   "metadata": {},
   "outputs": [
    {
     "data": {
      "text/plain": [
       "39"
      ]
     },
     "execution_count": 192,
     "metadata": {},
     "output_type": "execute_result"
    }
   ],
   "source": [
    "len(ls_ids)"
   ]
  },
  {
   "cell_type": "code",
   "execution_count": 47,
   "metadata": {},
   "outputs": [
    {
     "name": "stderr",
     "output_type": "stream",
     "text": [
      "c:\\users\\shine\\anaconda3\\envs\\fd\\lib\\site-packages\\ipykernel_launcher.py:2: SettingWithCopyWarning: \n",
      "A value is trying to be set on a copy of a slice from a DataFrame\n",
      "\n",
      "See the caveats in the documentation: https://pandas.pydata.org/pandas-docs/stable/user_guide/indexing.html#returning-a-view-versus-a-copy\n",
      "  \n"
     ]
    }
   ],
   "source": [
    "for m in ls_ids:\n",
    "    df_airbnb[\"terrace\"][m] = \"yes\"\n",
    "    "
   ]
  },
  {
   "cell_type": "code",
   "execution_count": 49,
   "metadata": {},
   "outputs": [
    {
     "data": {
      "text/plain": [
       "array([None, 'yes'], dtype=object)"
      ]
     },
     "execution_count": 49,
     "metadata": {},
     "output_type": "execute_result"
    }
   ],
   "source": [
    "df_airbnb['terrace'].unique()"
   ]
  },
  {
   "cell_type": "code",
   "execution_count": 50,
   "metadata": {},
   "outputs": [],
   "source": [
    "def find_terrace(x):\n",
    "    if x != \"yes\":\n",
    "        return \"no\"\n",
    "    else:\n",
    "        return \"yes\""
   ]
  },
  {
   "cell_type": "code",
   "execution_count": 51,
   "metadata": {},
   "outputs": [],
   "source": [
    "df_airbnb[\"terrace\"] = df_airbnb[\"terrace\"].apply(find_terrace)"
   ]
  },
  {
   "cell_type": "code",
   "execution_count": 52,
   "metadata": {},
   "outputs": [
    {
     "data": {
      "text/plain": [
       "array(['no', 'yes'], dtype=object)"
      ]
     },
     "execution_count": 52,
     "metadata": {},
     "output_type": "execute_result"
    }
   ],
   "source": [
    "df_airbnb[\"terrace\"].unique()"
   ]
  },
  {
   "cell_type": "code",
   "execution_count": 10,
   "metadata": {},
   "outputs": [
    {
     "data": {
      "text/plain": [
       "39"
      ]
     },
     "execution_count": 10,
     "metadata": {},
     "output_type": "execute_result"
    }
   ],
   "source": [
    "len(ls_ids)"
   ]
  },
  {
   "cell_type": "code",
   "execution_count": 65,
   "metadata": {},
   "outputs": [],
   "source": [
    "df_airbnb_terrace = df_airbnb[df_airbnb[\"terrace\"] == \"yes\"]"
   ]
  },
  {
   "cell_type": "code",
   "execution_count": 76,
   "metadata": {},
   "outputs": [],
   "source": [
    "import seaborn as sns\n",
    "import matplotlib.pyplot as plt"
   ]
  },
  {
   "cell_type": "code",
   "execution_count": 81,
   "metadata": {},
   "outputs": [
    {
     "data": {
      "text/plain": [
       "<AxesSubplot:xlabel='neighbourhood_group', ylabel='id'>"
      ]
     },
     "execution_count": 81,
     "metadata": {},
     "output_type": "execute_result"
    },
    {
     "data": {
      "image/png": "[encoded data removed]",
      "text/plain": [
       "<Figure size 720x360 with 1 Axes>"
      ]
     },
     "metadata": {
      "image/png": {
       "height": 316,
       "width": 631
      },
      "needs_background": "light"
     },
     "output_type": "display_data"
    }
   ],
   "source": [
    "plt.figure(figsize=(10, 5))\n",
    "\n",
    "sns.barplot(x='neighbourhood_group', y='id', data=df_airbnb_terrace)"
   ]
  },
  {
   "cell_type": "code",
   "execution_count": 84,
   "metadata": {},
   "outputs": [],
   "source": [
    "df_airbnb_brooklyn_terrace = df_airbnb_terrace[df_airbnb_terrace['neighbourhood_group'] == 'Brooklyn']"
   ]
  },
  {
   "cell_type": "code",
   "execution_count": 132,
   "metadata": {},
   "outputs": [],
   "source": [
    "df_br_terrace_group = df_airbnb_brooklyn_terrace.groupby('neighbourhood').size().reset_index()"
   ]
  },
  {
   "cell_type": "code",
   "execution_count": 136,
   "metadata": {},
   "outputs": [],
   "source": [
    "df_br_terrace_group2 = df_br_terrace_group.rename(columns={0:'count'})\n",
    "df_br_terrace_sort = df_br_terrace_group2.sort_values('count', ascending=False)"
   ]
  },
  {
   "cell_type": "code",
   "execution_count": 138,
   "metadata": {},
   "outputs": [],
   "source": [
    "df_br_terrace_sort2 = df_br_terrace_sort.reset_index().drop('index', axis=1)"
   ]
  },
  {
   "cell_type": "code",
   "execution_count": 141,
   "metadata": {},
   "outputs": [
    {
     "data": {
      "text/html": [
       "<div>\n",
       "<style scoped>\n",
       "    .dataframe tbody tr th:only-of-type {\n",
       "        vertical-align: middle;\n",
       "    }\n",
       "\n",
       "    .dataframe tbody tr th {\n",
       "        vertical-align: top;\n",
       "    }\n",
       "\n",
       "    .dataframe thead th {\n",
       "        text-align: right;\n",
       "    }\n",
       "</style>\n",
       "<table border=\"1\" class=\"dataframe\">\n",
       "  <thead>\n",
       "    <tr style=\"text-align: right;\">\n",
       "      <th></th>\n",
       "      <th>neighbourhood</th>\n",
       "      <th>count</th>\n",
       "    </tr>\n",
       "  </thead>\n",
       "  <tbody>\n",
       "    <tr>\n",
       "      <th>0</th>\n",
       "      <td>Greenpoint</td>\n",
       "      <td>8</td>\n",
       "    </tr>\n",
       "    <tr>\n",
       "      <th>1</th>\n",
       "      <td>Crown Heights</td>\n",
       "      <td>2</td>\n",
       "    </tr>\n",
       "    <tr>\n",
       "      <th>2</th>\n",
       "      <td>Park Slope</td>\n",
       "      <td>2</td>\n",
       "    </tr>\n",
       "    <tr>\n",
       "      <th>3</th>\n",
       "      <td>Williamsburg</td>\n",
       "      <td>2</td>\n",
       "    </tr>\n",
       "    <tr>\n",
       "      <th>4</th>\n",
       "      <td>Windsor Terrace</td>\n",
       "      <td>2</td>\n",
       "    </tr>\n",
       "    <tr>\n",
       "      <th>5</th>\n",
       "      <td>Bushwick</td>\n",
       "      <td>1</td>\n",
       "    </tr>\n",
       "    <tr>\n",
       "      <th>6</th>\n",
       "      <td>Clinton Hill</td>\n",
       "      <td>1</td>\n",
       "    </tr>\n",
       "    <tr>\n",
       "      <th>7</th>\n",
       "      <td>Prospect-Lefferts Gardens</td>\n",
       "      <td>1</td>\n",
       "    </tr>\n",
       "    <tr>\n",
       "      <th>8</th>\n",
       "      <td>Sunset Park</td>\n",
       "      <td>1</td>\n",
       "    </tr>\n",
       "  </tbody>\n",
       "</table>\n",
       "</div>"
      ],
      "text/plain": [
       "               neighbourhood  count\n",
       "0                 Greenpoint      8\n",
       "1              Crown Heights      2\n",
       "2                 Park Slope      2\n",
       "3               Williamsburg      2\n",
       "4            Windsor Terrace      2\n",
       "5                   Bushwick      1\n",
       "6               Clinton Hill      1\n",
       "7  Prospect-Lefferts Gardens      1\n",
       "8                Sunset Park      1"
      ]
     },
     "execution_count": 141,
     "metadata": {},
     "output_type": "execute_result"
    }
   ],
   "source": [
    "df_br_terrace_sort2"
   ]
  },
  {
   "cell_type": "code",
   "execution_count": 140,
   "metadata": {},
   "outputs": [
    {
     "data": {
      "text/plain": [
       "<AxesSubplot:xlabel='neighbourhood', ylabel='count'>"
      ]
     },
     "execution_count": 140,
     "metadata": {},
     "output_type": "execute_result"
    },
    {
     "data": {
      "image/png": "[encoded data removed]",
      "text/plain": [
       "<Figure size 1440x360 with 1 Axes>"
      ]
     },
     "metadata": {
      "image/png": {
       "height": 316,
       "width": 1157
      },
      "needs_background": "light"
     },
     "output_type": "display_data"
    }
   ],
   "source": [
    "plt.figure(figsize=(20, 5))\n",
    "\n",
    "sns.barplot(x='neighbourhood', y='count', data=df_br_terrace_sort2)"
   ]
  },
  {
   "cell_type": "code",
   "execution_count": 87,
   "metadata": {},
   "outputs": [],
   "source": [
    "ls_terrace_InBrooklyn = ['Greenpoint', 'Park Slope', 'Windsor Terrace', 'Bushwick',\n",
    "                         'Crown Heights', 'Williamsburg', 'Clinton Hill', 'Sunset Park','Prospect-Lefferts Gardens']"
   ]
  },
  {
   "cell_type": "code",
   "execution_count": 144,
   "metadata": {},
   "outputs": [],
   "source": [
    "df_airbnb_brooklyn_terrace = df_airbnb_brooklyn_terrace.reset_index(drop=True, inplace=False)"
   ]
  },
  {
   "cell_type": "code",
   "execution_count": 188,
   "metadata": {},
   "outputs": [
    {
     "name": "stdout",
     "output_type": "stream",
     "text": [
      "Greenpoint\n",
      "Park Slope\n",
      "Windsor Terrace\n",
      "Bushwick\n",
      "Crown Heights\n",
      "Williamsburg\n",
      "Clinton Hill\n",
      "Sunset Park\n",
      "Prospect-Lefferts Gardens\n"
     ]
    }
   ],
   "source": [
    "ls_sums = []\n",
    "for t in range(len(ls_terrace_InBrooklyn)):\n",
    "    print(ls_terrace_InBrooklyn[t])\n",
    "    ls_avg_price_by_neighbourgroup = []\n",
    "    count = 0\n",
    "    for p in range(len(df_airbnb_brooklyn_terrace)):\n",
    "        if ls_terrace_InBrooklyn[t] == df_airbnb_brooklyn_terrace['neighbourhood'][p]:\n",
    "            count = count+1\n",
    "            price = df_airbnb_brooklyn_terrace['price'][p]\n",
    "            ls_avg_price_by_neighbourgroup.append(price)\n",
    "            \n",
    "        else:\n",
    "            pass\n",
    "        \n",
    "    summation = sum(ls_avg_price_by_neighbourgroup)\n",
    "    tuples = [count, summation]\n",
    "    sums = tuples\n",
    "    ls_sums.append(sums)"
   ]
  },
  {
   "cell_type": "code",
   "execution_count": 179,
   "metadata": {},
   "outputs": [
    {
     "data": {
      "text/plain": [
       "292"
      ]
     },
     "execution_count": 179,
     "metadata": {},
     "output_type": "execute_result"
    }
   ],
   "source": [
    "sum(df_airbnb_brooklyn_terrace[df_airbnb_brooklyn_terrace['neighbourhood'] == 'Windsor Terrace']['price'])"
   ]
  },
  {
   "cell_type": "code",
   "execution_count": 189,
   "metadata": {},
   "outputs": [
    {
     "data": {
      "text/plain": [
       "[324.375, 400.0, 146.0, 115.0, 225.0, 124.5, 235.0, 120.0, 350.0]"
      ]
     },
     "execution_count": 189,
     "metadata": {},
     "output_type": "execute_result"
    }
   ],
   "source": [
    "avgs = []\n",
    "for a in range(len(ls_sums)):\n",
    "    average = ls_sums[a][1] / ls_sums[a][0]\n",
    "    avgs.append(average)\n",
    "avgs   "
   ]
  },
  {
   "cell_type": "code",
   "execution_count": 190,
   "metadata": {},
   "outputs": [],
   "source": [
    "df_br_terrace_sort2['average_price'] = avgs"
   ]
  },
  {
   "cell_type": "code",
   "execution_count": 191,
   "metadata": {},
   "outputs": [
    {
     "data": {
      "text/html": [
       "<div>\n",
       "<style scoped>\n",
       "    .dataframe tbody tr th:only-of-type {\n",
       "        vertical-align: middle;\n",
       "    }\n",
       "\n",
       "    .dataframe tbody tr th {\n",
       "        vertical-align: top;\n",
       "    }\n",
       "\n",
       "    .dataframe thead th {\n",
       "        text-align: right;\n",
       "    }\n",
       "</style>\n",
       "<table border=\"1\" class=\"dataframe\">\n",
       "  <thead>\n",
       "    <tr style=\"text-align: right;\">\n",
       "      <th></th>\n",
       "      <th>neighbourhood</th>\n",
       "      <th>count</th>\n",
       "      <th>average_price</th>\n",
       "    </tr>\n",
       "  </thead>\n",
       "  <tbody>\n",
       "    <tr>\n",
       "      <th>0</th>\n",
       "      <td>Greenpoint</td>\n",
       "      <td>8</td>\n",
       "      <td>324.375</td>\n",
       "    </tr>\n",
       "    <tr>\n",
       "      <th>1</th>\n",
       "      <td>Crown Heights</td>\n",
       "      <td>2</td>\n",
       "      <td>400.000</td>\n",
       "    </tr>\n",
       "    <tr>\n",
       "      <th>2</th>\n",
       "      <td>Park Slope</td>\n",
       "      <td>2</td>\n",
       "      <td>146.000</td>\n",
       "    </tr>\n",
       "    <tr>\n",
       "      <th>3</th>\n",
       "      <td>Williamsburg</td>\n",
       "      <td>2</td>\n",
       "      <td>115.000</td>\n",
       "    </tr>\n",
       "    <tr>\n",
       "      <th>4</th>\n",
       "      <td>Windsor Terrace</td>\n",
       "      <td>2</td>\n",
       "      <td>225.000</td>\n",
       "    </tr>\n",
       "    <tr>\n",
       "      <th>5</th>\n",
       "      <td>Bushwick</td>\n",
       "      <td>1</td>\n",
       "      <td>124.500</td>\n",
       "    </tr>\n",
       "    <tr>\n",
       "      <th>6</th>\n",
       "      <td>Clinton Hill</td>\n",
       "      <td>1</td>\n",
       "      <td>235.000</td>\n",
       "    </tr>\n",
       "    <tr>\n",
       "      <th>7</th>\n",
       "      <td>Prospect-Lefferts Gardens</td>\n",
       "      <td>1</td>\n",
       "      <td>120.000</td>\n",
       "    </tr>\n",
       "    <tr>\n",
       "      <th>8</th>\n",
       "      <td>Sunset Park</td>\n",
       "      <td>1</td>\n",
       "      <td>350.000</td>\n",
       "    </tr>\n",
       "  </tbody>\n",
       "</table>\n",
       "</div>"
      ],
      "text/plain": [
       "               neighbourhood  count  average_price\n",
       "0                 Greenpoint      8        324.375\n",
       "1              Crown Heights      2        400.000\n",
       "2                 Park Slope      2        146.000\n",
       "3               Williamsburg      2        115.000\n",
       "4            Windsor Terrace      2        225.000\n",
       "5                   Bushwick      1        124.500\n",
       "6               Clinton Hill      1        235.000\n",
       "7  Prospect-Lefferts Gardens      1        120.000\n",
       "8                Sunset Park      1        350.000"
      ]
     },
     "execution_count": 191,
     "metadata": {},
     "output_type": "execute_result"
    }
   ],
   "source": [
    "df_br_terrace_sort2"
   ]
  },
  {
   "cell_type": "code",
   "execution_count": null,
   "metadata": {},
   "outputs": [],
   "source": []
  }
 ],
 "metadata": {
  "kernelspec": {
   "display_name": "Python 3",
   "language": "python",
   "name": "python3"
  },
  "language_info": {
   "codemirror_mode": {
    "name": "ipython",
    "version": 3
   },
   "file_extension": ".py",
   "mimetype": "text/x-python",
   "name": "python",
   "nbconvert_exporter": "python",
   "pygments_lexer": "ipython3",
   "version": "3.7.7"
  }
 },
 "nbformat": 4,
 "nbformat_minor": 4
}
